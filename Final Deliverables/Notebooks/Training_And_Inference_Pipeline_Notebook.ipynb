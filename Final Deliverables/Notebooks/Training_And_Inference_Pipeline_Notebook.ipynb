{
  "cells": [
    {
      "cell_type": "code",
      "execution_count": 1,
      "metadata": {
        "colab": {
          "base_uri": "https://localhost:8080/"
        },
        "id": "yOukdlTU0FE9",
        "outputId": "63d77039-df95-4aed-9d85-779baf211923"
      },
      "outputs": [
        {
          "name": "stdout",
          "output_type": "stream",
          "text": [
            "Archive:  Fruits_Dataset.zip\n",
            "   creating: Fruits_Dataset/\n",
            "  inflating: __MACOSX/._Fruits_Dataset  \n",
            "  inflating: Fruits_Dataset/classes.txt  \n",
            "  inflating: __MACOSX/Fruits_Dataset/._classes.txt  \n",
            "  inflating: Fruits_Dataset/.DS_Store  \n",
            "  inflating: __MACOSX/Fruits_Dataset/._.DS_Store  \n",
            "   creating: Fruits_Dataset/images/\n",
            "  inflating: __MACOSX/Fruits_Dataset/._images  \n",
            "   creating: Fruits_Dataset/labels/\n",
            "  inflating: __MACOSX/Fruits_Dataset/._labels  \n",
            "  inflating: Fruits_Dataset/fruit_data.yaml  \n",
            "  inflating: __MACOSX/Fruits_Dataset/._fruit_data.yaml  \n",
            "  inflating: Fruits_Dataset/notes.json  \n",
            "  inflating: __MACOSX/Fruits_Dataset/._notes.json  \n",
            "   creating: Fruits_Dataset/images/test/\n",
            "   creating: Fruits_Dataset/images/train/\n",
            "   creating: Fruits_Dataset/images/val/\n",
            "   creating: Fruits_Dataset/labels/test/\n",
            "   creating: Fruits_Dataset/labels/train/\n",
            "   creating: Fruits_Dataset/labels/val/\n",
            "  inflating: Fruits_Dataset/images/test/0fdfd4a5-pngtree-banana-yellow-fruit-banana-skewers-png-image_5944324.jpeg  \n",
            "  inflating: __MACOSX/Fruits_Dataset/images/test/._0fdfd4a5-pngtree-banana-yellow-fruit-banana-skewers-png-image_5944324.jpeg  \n",
            "  inflating: Fruits_Dataset/images/test/aaed0808-banana_46.jpg  \n",
            "  inflating: __MACOSX/Fruits_Dataset/images/test/._aaed0808-banana_46.jpg  \n",
            "  inflating: Fruits_Dataset/images/test/9a9fcd93-apple_12.jpg  \n",
            "  inflating: __MACOSX/Fruits_Dataset/images/test/._9a9fcd93-apple_12.jpg  \n",
            "  inflating: Fruits_Dataset/images/test/e0f3c760-banana_42.jpg  \n",
            "  inflating: __MACOSX/Fruits_Dataset/images/test/._e0f3c760-banana_42.jpg  \n",
            "  inflating: Fruits_Dataset/images/train/c9ad0610-banana_37.jpg  \n",
            "  inflating: __MACOSX/Fruits_Dataset/images/train/._c9ad0610-banana_37.jpg  \n",
            "  inflating: Fruits_Dataset/images/train/60501549-banana_40.jpg  \n",
            "  inflating: __MACOSX/Fruits_Dataset/images/train/._60501549-banana_40.jpg  \n",
            "  inflating: Fruits_Dataset/images/train/e99fa299-apple_5.jpg  \n",
            "  inflating: __MACOSX/Fruits_Dataset/images/train/._e99fa299-apple_5.jpg  \n",
            "  inflating: Fruits_Dataset/images/train/848b426f-apple_17.jpg  \n",
            "  inflating: __MACOSX/Fruits_Dataset/images/train/._848b426f-apple_17.jpg  \n",
            "  inflating: Fruits_Dataset/images/train/c0ec49c8-apple_8.jpg  \n",
            "  inflating: __MACOSX/Fruits_Dataset/images/train/._c0ec49c8-apple_8.jpg  \n",
            "  inflating: Fruits_Dataset/images/train/f3fc5f32-apple_18.jpg  \n",
            "  inflating: __MACOSX/Fruits_Dataset/images/train/._f3fc5f32-apple_18.jpg  \n",
            "  inflating: Fruits_Dataset/images/train/df45a427-apple_1.jpg  \n",
            "  inflating: __MACOSX/Fruits_Dataset/images/train/._df45a427-apple_1.jpg  \n",
            "  inflating: Fruits_Dataset/images/train/afb773e2-bananas-mc-221004-02-3ddd88.jpg  \n",
            "  inflating: __MACOSX/Fruits_Dataset/images/train/._afb773e2-bananas-mc-221004-02-3ddd88.jpg  \n",
            "  inflating: Fruits_Dataset/images/train/71ce2af0-apple_7.jpg  \n",
            "  inflating: __MACOSX/Fruits_Dataset/images/train/._71ce2af0-apple_7.jpg  \n",
            "  inflating: Fruits_Dataset/images/train/d05a497a-apple_21.jpg  \n",
            "  inflating: __MACOSX/Fruits_Dataset/images/train/._d05a497a-apple_21.jpg  \n",
            "  inflating: Fruits_Dataset/images/train/0deaf6e2-apple_3.jpg  \n",
            "  inflating: __MACOSX/Fruits_Dataset/images/train/._0deaf6e2-apple_3.jpg  \n",
            "  inflating: Fruits_Dataset/images/train/060dca69-apple_6.jpg  \n",
            "  inflating: __MACOSX/Fruits_Dataset/images/train/._060dca69-apple_6.jpg  \n",
            "  inflating: Fruits_Dataset/images/train/4628403d-apple_10.jpg  \n",
            "  inflating: __MACOSX/Fruits_Dataset/images/train/._4628403d-apple_10.jpg  \n",
            "  inflating: Fruits_Dataset/images/train/cae960bf-banana_29.jpg  \n",
            "  inflating: __MACOSX/Fruits_Dataset/images/train/._cae960bf-banana_29.jpg  \n",
            "  inflating: Fruits_Dataset/images/train/ed434936-How_To_Freeze_Bananas_023-71e81efacb6a4d87a3596b8c2c519884.jpg  \n",
            "  inflating: __MACOSX/Fruits_Dataset/images/train/._ed434936-How_To_Freeze_Bananas_023-71e81efacb6a4d87a3596b8c2c519884.jpg  \n",
            "  inflating: Fruits_Dataset/images/train/fa2d8022-bananas-fruits-that-come-herbaceous-600nw-2552818301.webp  \n",
            "  inflating: __MACOSX/Fruits_Dataset/images/train/._fa2d8022-bananas-fruits-that-come-herbaceous-600nw-2552818301.webp  \n",
            "  inflating: Fruits_Dataset/images/train/46dc3772-banana_33.jpg  \n",
            "  inflating: __MACOSX/Fruits_Dataset/images/train/._46dc3772-banana_33.jpg  \n",
            "  inflating: Fruits_Dataset/images/train/03955da6-download_1.jpeg  \n",
            "  inflating: __MACOSX/Fruits_Dataset/images/train/._03955da6-download_1.jpeg  \n",
            "  inflating: Fruits_Dataset/images/train/9f3e0f40-banana_28.jpg  \n",
            "  inflating: __MACOSX/Fruits_Dataset/images/train/._9f3e0f40-banana_28.jpg  \n",
            "  inflating: Fruits_Dataset/images/train/5fde7256-download_2.jpeg  \n",
            "  inflating: __MACOSX/Fruits_Dataset/images/train/._5fde7256-download_2.jpeg  \n",
            "  inflating: Fruits_Dataset/images/train/33d7d546-apple_4.jpg  \n",
            "  inflating: __MACOSX/Fruits_Dataset/images/train/._33d7d546-apple_4.jpg  \n",
            "  inflating: Fruits_Dataset/images/train/82082129-apple_16.jpg  \n",
            "  inflating: __MACOSX/Fruits_Dataset/images/train/._82082129-apple_16.jpg  \n",
            "  inflating: Fruits_Dataset/images/train/6d3413e8-apple_9.jpg  \n",
            "  inflating: __MACOSX/Fruits_Dataset/images/train/._6d3413e8-apple_9.jpg  \n",
            "  inflating: Fruits_Dataset/images/train/f1ba8f92-banana_45.jpg  \n",
            "  inflating: __MACOSX/Fruits_Dataset/images/train/._f1ba8f92-banana_45.jpg  \n",
            "  inflating: Fruits_Dataset/images/train/d2fb34d3-banana_36.jpg  \n",
            "  inflating: __MACOSX/Fruits_Dataset/images/train/._d2fb34d3-banana_36.jpg  \n",
            "  inflating: Fruits_Dataset/images/train/258f2ecb-apple_15.jpg  \n",
            "  inflating: __MACOSX/Fruits_Dataset/images/train/._258f2ecb-apple_15.jpg  \n",
            "  inflating: Fruits_Dataset/images/train/f7ddd3ff-banana_44.jpg  \n",
            "  inflating: __MACOSX/Fruits_Dataset/images/train/._f7ddd3ff-banana_44.jpg  \n",
            "  inflating: Fruits_Dataset/images/train/769606c0-apple_11.jpg  \n",
            "  inflating: __MACOSX/Fruits_Dataset/images/train/._769606c0-apple_11.jpg  \n",
            "  inflating: Fruits_Dataset/images/train/e75557e2-apple_20.jpg  \n",
            "  inflating: __MACOSX/Fruits_Dataset/images/train/._e75557e2-apple_20.jpg  \n",
            "  inflating: Fruits_Dataset/images/train/98a48283-banana_47.jpg  \n",
            "  inflating: __MACOSX/Fruits_Dataset/images/train/._98a48283-banana_47.jpg  \n",
            "  inflating: Fruits_Dataset/images/train/ba7220b6-banana_49.jpg  \n",
            "  inflating: __MACOSX/Fruits_Dataset/images/train/._ba7220b6-banana_49.jpg  \n",
            "  inflating: Fruits_Dataset/images/train/cd846992-apple_2.jpg  \n",
            "  inflating: __MACOSX/Fruits_Dataset/images/train/._cd846992-apple_2.jpg  \n",
            "  inflating: Fruits_Dataset/images/val/14ce52fe-apple_19.jpg  \n",
            "  inflating: __MACOSX/Fruits_Dataset/images/val/._14ce52fe-apple_19.jpg  \n",
            "  inflating: Fruits_Dataset/images/val/d5ae9bee-banana_41.jpg  \n",
            "  inflating: __MACOSX/Fruits_Dataset/images/val/._d5ae9bee-banana_41.jpg  \n",
            "  inflating: Fruits_Dataset/images/val/2b196056-apple_22.jpg  \n",
            "  inflating: __MACOSX/Fruits_Dataset/images/val/._2b196056-apple_22.jpg  \n",
            "  inflating: Fruits_Dataset/images/val/58f55406-banana_30.jpg  \n",
            "  inflating: __MACOSX/Fruits_Dataset/images/val/._58f55406-banana_30.jpg  \n",
            "  inflating: Fruits_Dataset/labels/test/aaed0808-banana_46.txt  \n",
            "  inflating: __MACOSX/Fruits_Dataset/labels/test/._aaed0808-banana_46.txt  \n",
            "  inflating: Fruits_Dataset/labels/test/e0f3c760-banana_42.txt  \n",
            "  inflating: __MACOSX/Fruits_Dataset/labels/test/._e0f3c760-banana_42.txt  \n",
            "  inflating: Fruits_Dataset/labels/test/9a9fcd93-apple_12.txt  \n",
            "  inflating: __MACOSX/Fruits_Dataset/labels/test/._9a9fcd93-apple_12.txt  \n",
            "  inflating: Fruits_Dataset/labels/test/0fdfd4a5-pngtree-banana-yellow-fruit-banana-skewers-png-image_5944324.txt  \n",
            "  inflating: __MACOSX/Fruits_Dataset/labels/test/._0fdfd4a5-pngtree-banana-yellow-fruit-banana-skewers-png-image_5944324.txt  \n",
            "  inflating: Fruits_Dataset/labels/train/71ce2af0-apple_7.txt  \n",
            "  inflating: __MACOSX/Fruits_Dataset/labels/train/._71ce2af0-apple_7.txt  \n",
            "  inflating: Fruits_Dataset/labels/train/d05a497a-apple_21.txt  \n",
            "  inflating: __MACOSX/Fruits_Dataset/labels/train/._d05a497a-apple_21.txt  \n",
            "  inflating: Fruits_Dataset/labels/train/060dca69-apple_6.txt  \n",
            "  inflating: __MACOSX/Fruits_Dataset/labels/train/._060dca69-apple_6.txt  \n",
            "  inflating: Fruits_Dataset/labels/train/0deaf6e2-apple_3.txt  \n",
            "  inflating: __MACOSX/Fruits_Dataset/labels/train/._0deaf6e2-apple_3.txt  \n",
            "  inflating: Fruits_Dataset/labels/train/e99fa299-apple_5.txt  \n",
            "  inflating: __MACOSX/Fruits_Dataset/labels/train/._e99fa299-apple_5.txt  \n",
            "  inflating: Fruits_Dataset/labels/train/60501549-banana_40.txt  \n",
            "  inflating: __MACOSX/Fruits_Dataset/labels/train/._60501549-banana_40.txt  \n",
            "  inflating: Fruits_Dataset/labels/train/c9ad0610-banana_37.txt  \n",
            "  inflating: __MACOSX/Fruits_Dataset/labels/train/._c9ad0610-banana_37.txt  \n",
            "  inflating: Fruits_Dataset/labels/train/03955da6-download_1.txt  \n",
            "  inflating: __MACOSX/Fruits_Dataset/labels/train/._03955da6-download_1.txt  \n",
            "  inflating: Fruits_Dataset/labels/train/848b426f-apple_17.txt  \n",
            "  inflating: __MACOSX/Fruits_Dataset/labels/train/._848b426f-apple_17.txt  \n",
            "  inflating: Fruits_Dataset/labels/train/df45a427-apple_1.txt  \n",
            "  inflating: __MACOSX/Fruits_Dataset/labels/train/._df45a427-apple_1.txt  \n",
            "  inflating: Fruits_Dataset/labels/train/afb773e2-bananas-mc-221004-02-3ddd88.txt  \n",
            "  inflating: __MACOSX/Fruits_Dataset/labels/train/._afb773e2-bananas-mc-221004-02-3ddd88.txt  \n",
            "  inflating: Fruits_Dataset/labels/train/c0ec49c8-apple_8.txt  \n",
            "  inflating: __MACOSX/Fruits_Dataset/labels/train/._c0ec49c8-apple_8.txt  \n",
            "  inflating: Fruits_Dataset/labels/train/f3fc5f32-apple_18.txt  \n",
            "  inflating: __MACOSX/Fruits_Dataset/labels/train/._f3fc5f32-apple_18.txt  \n",
            "  inflating: Fruits_Dataset/labels/train/6d3413e8-apple_9.txt  \n",
            "  inflating: __MACOSX/Fruits_Dataset/labels/train/._6d3413e8-apple_9.txt  \n",
            "  inflating: Fruits_Dataset/labels/train/f1ba8f92-banana_45.txt  \n",
            "  inflating: __MACOSX/Fruits_Dataset/labels/train/._f1ba8f92-banana_45.txt  \n",
            "  inflating: Fruits_Dataset/labels/train/258f2ecb-apple_15.txt  \n",
            "  inflating: __MACOSX/Fruits_Dataset/labels/train/._258f2ecb-apple_15.txt  \n",
            "  inflating: Fruits_Dataset/labels/train/d2fb34d3-banana_36.txt  \n",
            "  inflating: __MACOSX/Fruits_Dataset/labels/train/._d2fb34d3-banana_36.txt  \n",
            "  inflating: Fruits_Dataset/labels/train/f7ddd3ff-banana_44.txt  \n",
            "  inflating: __MACOSX/Fruits_Dataset/labels/train/._f7ddd3ff-banana_44.txt  \n",
            "  inflating: Fruits_Dataset/labels/train/ba7220b6-banana_49.txt  \n",
            "  inflating: __MACOSX/Fruits_Dataset/labels/train/._ba7220b6-banana_49.txt  \n",
            "  inflating: Fruits_Dataset/labels/train/5fde7256-download_2.txt  \n",
            "  inflating: __MACOSX/Fruits_Dataset/labels/train/._5fde7256-download_2.txt  \n",
            "  inflating: Fruits_Dataset/labels/train/98a48283-banana_47.txt  \n",
            "  inflating: __MACOSX/Fruits_Dataset/labels/train/._98a48283-banana_47.txt  \n",
            "  inflating: Fruits_Dataset/labels/train/cd846992-apple_2.txt  \n",
            "  inflating: __MACOSX/Fruits_Dataset/labels/train/._cd846992-apple_2.txt  \n",
            "  inflating: Fruits_Dataset/labels/train/769606c0-apple_11.txt  \n",
            "  inflating: __MACOSX/Fruits_Dataset/labels/train/._769606c0-apple_11.txt  \n",
            "  inflating: Fruits_Dataset/labels/train/e75557e2-apple_20.txt  \n",
            "  inflating: __MACOSX/Fruits_Dataset/labels/train/._e75557e2-apple_20.txt  \n",
            "  inflating: Fruits_Dataset/labels/train/cae960bf-banana_29.txt  \n",
            "  inflating: __MACOSX/Fruits_Dataset/labels/train/._cae960bf-banana_29.txt  \n",
            "  inflating: Fruits_Dataset/labels/train/4628403d-apple_10.txt  \n",
            "  inflating: __MACOSX/Fruits_Dataset/labels/train/._4628403d-apple_10.txt  \n",
            "  inflating: Fruits_Dataset/labels/train/ed434936-How_To_Freeze_Bananas_023-71e81efacb6a4d87a3596b8c2c519884.txt  \n",
            "  inflating: __MACOSX/Fruits_Dataset/labels/train/._ed434936-How_To_Freeze_Bananas_023-71e81efacb6a4d87a3596b8c2c519884.txt  \n",
            "  inflating: Fruits_Dataset/labels/train/fa2d8022-bananas-fruits-that-come-herbaceous-600nw-2552818301.txt  \n",
            "  inflating: __MACOSX/Fruits_Dataset/labels/train/._fa2d8022-bananas-fruits-that-come-herbaceous-600nw-2552818301.txt  \n",
            "  inflating: Fruits_Dataset/labels/train/9f3e0f40-banana_28.txt  \n",
            "  inflating: __MACOSX/Fruits_Dataset/labels/train/._9f3e0f40-banana_28.txt  \n",
            "  inflating: Fruits_Dataset/labels/train/46dc3772-banana_33.txt  \n",
            "  inflating: __MACOSX/Fruits_Dataset/labels/train/._46dc3772-banana_33.txt  \n",
            "  inflating: Fruits_Dataset/labels/train/82082129-apple_16.txt  \n",
            "  inflating: __MACOSX/Fruits_Dataset/labels/train/._82082129-apple_16.txt  \n",
            "  inflating: Fruits_Dataset/labels/train/33d7d546-apple_4.txt  \n",
            "  inflating: __MACOSX/Fruits_Dataset/labels/train/._33d7d546-apple_4.txt  \n",
            "  inflating: Fruits_Dataset/labels/val/14ce52fe-apple_19.txt  \n",
            "  inflating: __MACOSX/Fruits_Dataset/labels/val/._14ce52fe-apple_19.txt  \n",
            "  inflating: Fruits_Dataset/labels/val/2b196056-apple_22.txt  \n",
            "  inflating: __MACOSX/Fruits_Dataset/labels/val/._2b196056-apple_22.txt  \n",
            "  inflating: Fruits_Dataset/labels/val/d5ae9bee-banana_41.txt  \n",
            "  inflating: __MACOSX/Fruits_Dataset/labels/val/._d5ae9bee-banana_41.txt  \n",
            "  inflating: Fruits_Dataset/labels/val/58f55406-banana_30.txt  \n",
            "  inflating: __MACOSX/Fruits_Dataset/labels/val/._58f55406-banana_30.txt  \n"
          ]
        }
      ],
      "source": [
        "!unzip Fruits_Dataset.zip"
      ]
    },
    {
      "cell_type": "code",
      "execution_count": 2,
      "metadata": {
        "colab": {
          "base_uri": "https://localhost:8080/"
        },
        "id": "ETN48N1X0Ewp",
        "outputId": "be7f8ae3-6e5b-4b59-da85-ecee493fbadd"
      },
      "outputs": [
        {
          "name": "stdout",
          "output_type": "stream",
          "text": [
            "Collecting ultralytics\n",
            "  Downloading ultralytics-8.3.139-py3-none-any.whl.metadata (37 kB)\n",
            "Requirement already satisfied: numpy>=1.23.0 in /usr/local/lib/python3.11/dist-packages (from ultralytics) (2.0.2)\n",
            "Requirement already satisfied: matplotlib>=3.3.0 in /usr/local/lib/python3.11/dist-packages (from ultralytics) (3.10.0)\n",
            "Requirement already satisfied: opencv-python>=4.6.0 in /usr/local/lib/python3.11/dist-packages (from ultralytics) (4.11.0.86)\n",
            "Requirement already satisfied: pillow>=7.1.2 in /usr/local/lib/python3.11/dist-packages (from ultralytics) (11.2.1)\n",
            "Requirement already satisfied: pyyaml>=5.3.1 in /usr/local/lib/python3.11/dist-packages (from ultralytics) (6.0.2)\n",
            "Requirement already satisfied: requests>=2.23.0 in /usr/local/lib/python3.11/dist-packages (from ultralytics) (2.32.3)\n",
            "Requirement already satisfied: scipy>=1.4.1 in /usr/local/lib/python3.11/dist-packages (from ultralytics) (1.15.3)\n",
            "Requirement already satisfied: torch>=1.8.0 in /usr/local/lib/python3.11/dist-packages (from ultralytics) (2.6.0+cu124)\n",
            "Requirement already satisfied: torchvision>=0.9.0 in /usr/local/lib/python3.11/dist-packages (from ultralytics) (0.21.0+cu124)\n",
            "Requirement already satisfied: tqdm>=4.64.0 in /usr/local/lib/python3.11/dist-packages (from ultralytics) (4.67.1)\n",
            "Requirement already satisfied: psutil in /usr/local/lib/python3.11/dist-packages (from ultralytics) (5.9.5)\n",
            "Requirement already satisfied: py-cpuinfo in /usr/local/lib/python3.11/dist-packages (from ultralytics) (9.0.0)\n",
            "Requirement already satisfied: pandas>=1.1.4 in /usr/local/lib/python3.11/dist-packages (from ultralytics) (2.2.2)\n",
            "Collecting ultralytics-thop>=2.0.0 (from ultralytics)\n",
            "  Downloading ultralytics_thop-2.0.14-py3-none-any.whl.metadata (9.4 kB)\n",
            "Requirement already satisfied: contourpy>=1.0.1 in /usr/local/lib/python3.11/dist-packages (from matplotlib>=3.3.0->ultralytics) (1.3.2)\n",
            "Requirement already satisfied: cycler>=0.10 in /usr/local/lib/python3.11/dist-packages (from matplotlib>=3.3.0->ultralytics) (0.12.1)\n",
            "Requirement already satisfied: fonttools>=4.22.0 in /usr/local/lib/python3.11/dist-packages (from matplotlib>=3.3.0->ultralytics) (4.58.0)\n",
            "Requirement already satisfied: kiwisolver>=1.3.1 in /usr/local/lib/python3.11/dist-packages (from matplotlib>=3.3.0->ultralytics) (1.4.8)\n",
            "Requirement already satisfied: packaging>=20.0 in /usr/local/lib/python3.11/dist-packages (from matplotlib>=3.3.0->ultralytics) (24.2)\n",
            "Requirement already satisfied: pyparsing>=2.3.1 in /usr/local/lib/python3.11/dist-packages (from matplotlib>=3.3.0->ultralytics) (3.2.3)\n",
            "Requirement already satisfied: python-dateutil>=2.7 in /usr/local/lib/python3.11/dist-packages (from matplotlib>=3.3.0->ultralytics) (2.9.0.post0)\n",
            "Requirement already satisfied: pytz>=2020.1 in /usr/local/lib/python3.11/dist-packages (from pandas>=1.1.4->ultralytics) (2025.2)\n",
            "Requirement already satisfied: tzdata>=2022.7 in /usr/local/lib/python3.11/dist-packages (from pandas>=1.1.4->ultralytics) (2025.2)\n",
            "Requirement already satisfied: charset-normalizer<4,>=2 in /usr/local/lib/python3.11/dist-packages (from requests>=2.23.0->ultralytics) (3.4.2)\n",
            "Requirement already satisfied: idna<4,>=2.5 in /usr/local/lib/python3.11/dist-packages (from requests>=2.23.0->ultralytics) (3.10)\n",
            "Requirement already satisfied: urllib3<3,>=1.21.1 in /usr/local/lib/python3.11/dist-packages (from requests>=2.23.0->ultralytics) (2.4.0)\n",
            "Requirement already satisfied: certifi>=2017.4.17 in /usr/local/lib/python3.11/dist-packages (from requests>=2.23.0->ultralytics) (2025.4.26)\n",
            "Requirement already satisfied: filelock in /usr/local/lib/python3.11/dist-packages (from torch>=1.8.0->ultralytics) (3.18.0)\n",
            "Requirement already satisfied: typing-extensions>=4.10.0 in /usr/local/lib/python3.11/dist-packages (from torch>=1.8.0->ultralytics) (4.13.2)\n",
            "Requirement already satisfied: networkx in /usr/local/lib/python3.11/dist-packages (from torch>=1.8.0->ultralytics) (3.4.2)\n",
            "Requirement already satisfied: jinja2 in /usr/local/lib/python3.11/dist-packages (from torch>=1.8.0->ultralytics) (3.1.6)\n",
            "Requirement already satisfied: fsspec in /usr/local/lib/python3.11/dist-packages (from torch>=1.8.0->ultralytics) (2025.3.2)\n",
            "Collecting nvidia-cuda-nvrtc-cu12==12.4.127 (from torch>=1.8.0->ultralytics)\n",
            "  Downloading nvidia_cuda_nvrtc_cu12-12.4.127-py3-none-manylinux2014_x86_64.whl.metadata (1.5 kB)\n",
            "Collecting nvidia-cuda-runtime-cu12==12.4.127 (from torch>=1.8.0->ultralytics)\n",
            "  Downloading nvidia_cuda_runtime_cu12-12.4.127-py3-none-manylinux2014_x86_64.whl.metadata (1.5 kB)\n",
            "Collecting nvidia-cuda-cupti-cu12==12.4.127 (from torch>=1.8.0->ultralytics)\n",
            "  Downloading nvidia_cuda_cupti_cu12-12.4.127-py3-none-manylinux2014_x86_64.whl.metadata (1.6 kB)\n",
            "Collecting nvidia-cudnn-cu12==9.1.0.70 (from torch>=1.8.0->ultralytics)\n",
            "  Downloading nvidia_cudnn_cu12-9.1.0.70-py3-none-manylinux2014_x86_64.whl.metadata (1.6 kB)\n",
            "Collecting nvidia-cublas-cu12==12.4.5.8 (from torch>=1.8.0->ultralytics)\n",
            "  Downloading nvidia_cublas_cu12-12.4.5.8-py3-none-manylinux2014_x86_64.whl.metadata (1.5 kB)\n",
            "Collecting nvidia-cufft-cu12==11.2.1.3 (from torch>=1.8.0->ultralytics)\n",
            "  Downloading nvidia_cufft_cu12-11.2.1.3-py3-none-manylinux2014_x86_64.whl.metadata (1.5 kB)\n",
            "Collecting nvidia-curand-cu12==10.3.5.147 (from torch>=1.8.0->ultralytics)\n",
            "  Downloading nvidia_curand_cu12-10.3.5.147-py3-none-manylinux2014_x86_64.whl.metadata (1.5 kB)\n",
            "Collecting nvidia-cusolver-cu12==11.6.1.9 (from torch>=1.8.0->ultralytics)\n",
            "  Downloading nvidia_cusolver_cu12-11.6.1.9-py3-none-manylinux2014_x86_64.whl.metadata (1.6 kB)\n",
            "Collecting nvidia-cusparse-cu12==12.3.1.170 (from torch>=1.8.0->ultralytics)\n",
            "  Downloading nvidia_cusparse_cu12-12.3.1.170-py3-none-manylinux2014_x86_64.whl.metadata (1.6 kB)\n",
            "Requirement already satisfied: nvidia-cusparselt-cu12==0.6.2 in /usr/local/lib/python3.11/dist-packages (from torch>=1.8.0->ultralytics) (0.6.2)\n",
            "Requirement already satisfied: nvidia-nccl-cu12==2.21.5 in /usr/local/lib/python3.11/dist-packages (from torch>=1.8.0->ultralytics) (2.21.5)\n",
            "Requirement already satisfied: nvidia-nvtx-cu12==12.4.127 in /usr/local/lib/python3.11/dist-packages (from torch>=1.8.0->ultralytics) (12.4.127)\n",
            "Collecting nvidia-nvjitlink-cu12==12.4.127 (from torch>=1.8.0->ultralytics)\n",
            "  Downloading nvidia_nvjitlink_cu12-12.4.127-py3-none-manylinux2014_x86_64.whl.metadata (1.5 kB)\n",
            "Requirement already satisfied: triton==3.2.0 in /usr/local/lib/python3.11/dist-packages (from torch>=1.8.0->ultralytics) (3.2.0)\n",
            "Requirement already satisfied: sympy==1.13.1 in /usr/local/lib/python3.11/dist-packages (from torch>=1.8.0->ultralytics) (1.13.1)\n",
            "Requirement already satisfied: mpmath<1.4,>=1.1.0 in /usr/local/lib/python3.11/dist-packages (from sympy==1.13.1->torch>=1.8.0->ultralytics) (1.3.0)\n",
            "Requirement already satisfied: six>=1.5 in /usr/local/lib/python3.11/dist-packages (from python-dateutil>=2.7->matplotlib>=3.3.0->ultralytics) (1.17.0)\n",
            "Requirement already satisfied: MarkupSafe>=2.0 in /usr/local/lib/python3.11/dist-packages (from jinja2->torch>=1.8.0->ultralytics) (3.0.2)\n",
            "Downloading ultralytics-8.3.139-py3-none-any.whl (1.0 MB)\n",
            "\u001b[2K   \u001b[90m━━━━━━━━━━━━━━━━━━━━━━━━━━━━━━━━━━━━━━━━\u001b[0m \u001b[32m1.0/1.0 MB\u001b[0m \u001b[31m19.6 MB/s\u001b[0m eta \u001b[36m0:00:00\u001b[0m\n",
            "\u001b[?25hDownloading nvidia_cublas_cu12-12.4.5.8-py3-none-manylinux2014_x86_64.whl (363.4 MB)\n",
            "\u001b[2K   \u001b[90m━━━━━━━━━━━━━━━━━━━━━━━━━━━━━━━━━━━━━━━━\u001b[0m \u001b[32m363.4/363.4 MB\u001b[0m \u001b[31m4.6 MB/s\u001b[0m eta \u001b[36m0:00:00\u001b[0m\n",
            "\u001b[?25hDownloading nvidia_cuda_cupti_cu12-12.4.127-py3-none-manylinux2014_x86_64.whl (13.8 MB)\n",
            "\u001b[2K   \u001b[90m━━━━━━━━━━━━━━━━━━━━━━━━━━━━━━━━━━━━━━━━\u001b[0m \u001b[32m13.8/13.8 MB\u001b[0m \u001b[31m81.0 MB/s\u001b[0m eta \u001b[36m0:00:00\u001b[0m\n",
            "\u001b[?25hDownloading nvidia_cuda_nvrtc_cu12-12.4.127-py3-none-manylinux2014_x86_64.whl (24.6 MB)\n",
            "\u001b[2K   \u001b[90m━━━━━━━━━━━━━━━━━━━━━━━━━━━━━━━━━━━━━━━━\u001b[0m \u001b[32m24.6/24.6 MB\u001b[0m \u001b[31m60.8 MB/s\u001b[0m eta \u001b[36m0:00:00\u001b[0m\n",
            "\u001b[?25hDownloading nvidia_cuda_runtime_cu12-12.4.127-py3-none-manylinux2014_x86_64.whl (883 kB)\n",
            "\u001b[2K   \u001b[90m━━━━━━━━━━━━━━━━━━━━━━━━━━━━━━━━━━━━━━━━\u001b[0m \u001b[32m883.7/883.7 kB\u001b[0m \u001b[31m46.1 MB/s\u001b[0m eta \u001b[36m0:00:00\u001b[0m\n",
            "\u001b[?25hDownloading nvidia_cudnn_cu12-9.1.0.70-py3-none-manylinux2014_x86_64.whl (664.8 MB)\n",
            "\u001b[2K   \u001b[90m━━━━━━━━━━━━━━━━━━━━━━━━━━━━━━━━━━━━━━━━\u001b[0m \u001b[32m664.8/664.8 MB\u001b[0m \u001b[31m2.7 MB/s\u001b[0m eta \u001b[36m0:00:00\u001b[0m\n",
            "\u001b[?25hDownloading nvidia_cufft_cu12-11.2.1.3-py3-none-manylinux2014_x86_64.whl (211.5 MB)\n",
            "\u001b[2K   \u001b[90m━━━━━━━━━━━━━━━━━━━━━━━━━━━━━━━━━━━━━━━━\u001b[0m \u001b[32m211.5/211.5 MB\u001b[0m \u001b[31m6.7 MB/s\u001b[0m eta \u001b[36m0:00:00\u001b[0m\n",
            "\u001b[?25hDownloading nvidia_curand_cu12-10.3.5.147-py3-none-manylinux2014_x86_64.whl (56.3 MB)\n",
            "\u001b[2K   \u001b[90m━━━━━━━━━━━━━━━━━━━━━━━━━━━━━━━━━━━━━━━━\u001b[0m \u001b[32m56.3/56.3 MB\u001b[0m \u001b[31m19.3 MB/s\u001b[0m eta \u001b[36m0:00:00\u001b[0m\n",
            "\u001b[?25hDownloading nvidia_cusolver_cu12-11.6.1.9-py3-none-manylinux2014_x86_64.whl (127.9 MB)\n",
            "\u001b[2K   \u001b[90m━━━━━━━━━━━━━━━━━━━━━━━━━━━━━━━━━━━━━━━━\u001b[0m \u001b[32m127.9/127.9 MB\u001b[0m \u001b[31m7.8 MB/s\u001b[0m eta \u001b[36m0:00:00\u001b[0m\n",
            "\u001b[?25hDownloading nvidia_cusparse_cu12-12.3.1.170-py3-none-manylinux2014_x86_64.whl (207.5 MB)\n",
            "\u001b[2K   \u001b[90m━━━━━━━━━━━━━━━━━━━━━━━━━━━━━━━━━━━━━━━━\u001b[0m \u001b[32m207.5/207.5 MB\u001b[0m \u001b[31m7.1 MB/s\u001b[0m eta \u001b[36m0:00:00\u001b[0m\n",
            "\u001b[?25hDownloading nvidia_nvjitlink_cu12-12.4.127-py3-none-manylinux2014_x86_64.whl (21.1 MB)\n",
            "\u001b[2K   \u001b[90m━━━━━━━━━━━━━━━━━━━━━━━━━━━━━━━━━━━━━━━━\u001b[0m \u001b[32m21.1/21.1 MB\u001b[0m \u001b[31m88.5 MB/s\u001b[0m eta \u001b[36m0:00:00\u001b[0m\n",
            "\u001b[?25hDownloading ultralytics_thop-2.0.14-py3-none-any.whl (26 kB)\n",
            "Installing collected packages: nvidia-nvjitlink-cu12, nvidia-curand-cu12, nvidia-cufft-cu12, nvidia-cuda-runtime-cu12, nvidia-cuda-nvrtc-cu12, nvidia-cuda-cupti-cu12, nvidia-cublas-cu12, nvidia-cusparse-cu12, nvidia-cudnn-cu12, nvidia-cusolver-cu12, ultralytics-thop, ultralytics\n",
            "  Attempting uninstall: nvidia-nvjitlink-cu12\n",
            "    Found existing installation: nvidia-nvjitlink-cu12 12.5.82\n",
            "    Uninstalling nvidia-nvjitlink-cu12-12.5.82:\n",
            "      Successfully uninstalled nvidia-nvjitlink-cu12-12.5.82\n",
            "  Attempting uninstall: nvidia-curand-cu12\n",
            "    Found existing installation: nvidia-curand-cu12 10.3.6.82\n",
            "    Uninstalling nvidia-curand-cu12-10.3.6.82:\n",
            "      Successfully uninstalled nvidia-curand-cu12-10.3.6.82\n",
            "  Attempting uninstall: nvidia-cufft-cu12\n",
            "    Found existing installation: nvidia-cufft-cu12 11.2.3.61\n",
            "    Uninstalling nvidia-cufft-cu12-11.2.3.61:\n",
            "      Successfully uninstalled nvidia-cufft-cu12-11.2.3.61\n",
            "  Attempting uninstall: nvidia-cuda-runtime-cu12\n",
            "    Found existing installation: nvidia-cuda-runtime-cu12 12.5.82\n",
            "    Uninstalling nvidia-cuda-runtime-cu12-12.5.82:\n",
            "      Successfully uninstalled nvidia-cuda-runtime-cu12-12.5.82\n",
            "  Attempting uninstall: nvidia-cuda-nvrtc-cu12\n",
            "    Found existing installation: nvidia-cuda-nvrtc-cu12 12.5.82\n",
            "    Uninstalling nvidia-cuda-nvrtc-cu12-12.5.82:\n",
            "      Successfully uninstalled nvidia-cuda-nvrtc-cu12-12.5.82\n",
            "  Attempting uninstall: nvidia-cuda-cupti-cu12\n",
            "    Found existing installation: nvidia-cuda-cupti-cu12 12.5.82\n",
            "    Uninstalling nvidia-cuda-cupti-cu12-12.5.82:\n",
            "      Successfully uninstalled nvidia-cuda-cupti-cu12-12.5.82\n",
            "  Attempting uninstall: nvidia-cublas-cu12\n",
            "    Found existing installation: nvidia-cublas-cu12 12.5.3.2\n",
            "    Uninstalling nvidia-cublas-cu12-12.5.3.2:\n",
            "      Successfully uninstalled nvidia-cublas-cu12-12.5.3.2\n",
            "  Attempting uninstall: nvidia-cusparse-cu12\n",
            "    Found existing installation: nvidia-cusparse-cu12 12.5.1.3\n",
            "    Uninstalling nvidia-cusparse-cu12-12.5.1.3:\n",
            "      Successfully uninstalled nvidia-cusparse-cu12-12.5.1.3\n",
            "  Attempting uninstall: nvidia-cudnn-cu12\n",
            "    Found existing installation: nvidia-cudnn-cu12 9.3.0.75\n",
            "    Uninstalling nvidia-cudnn-cu12-9.3.0.75:\n",
            "      Successfully uninstalled nvidia-cudnn-cu12-9.3.0.75\n",
            "  Attempting uninstall: nvidia-cusolver-cu12\n",
            "    Found existing installation: nvidia-cusolver-cu12 11.6.3.83\n",
            "    Uninstalling nvidia-cusolver-cu12-11.6.3.83:\n",
            "      Successfully uninstalled nvidia-cusolver-cu12-11.6.3.83\n",
            "Successfully installed nvidia-cublas-cu12-12.4.5.8 nvidia-cuda-cupti-cu12-12.4.127 nvidia-cuda-nvrtc-cu12-12.4.127 nvidia-cuda-runtime-cu12-12.4.127 nvidia-cudnn-cu12-9.1.0.70 nvidia-cufft-cu12-11.2.1.3 nvidia-curand-cu12-10.3.5.147 nvidia-cusolver-cu12-11.6.1.9 nvidia-cusparse-cu12-12.3.1.170 nvidia-nvjitlink-cu12-12.4.127 ultralytics-8.3.139 ultralytics-thop-2.0.14\n"
          ]
        }
      ],
      "source": [
        "!pip3 install ultralytics"
      ]
    },
    {
      "cell_type": "markdown",
      "metadata": {
        "id": "c4GG_TfTz_oN"
      },
      "source": [
        "# YOLOv11 + CNN Regressor Unified Training Pipeline"
      ]
    },
    {
      "cell_type": "code",
      "execution_count": null,
      "metadata": {
        "colab": {
          "base_uri": "https://localhost:8080/",
          "height": 1000
        },
        "id": "mzccluJwF40Z",
        "outputId": "a6916fd5-ea7e-4476-c1ab-c0ca0da7cf54"
      },
      "outputs": [
        {
          "name": "stdout",
          "output_type": "stream",
          "text": [
            "🚀 Training YOLOv11 segmentation model...\n",
            "Ultralytics 8.3.139 🚀 Python-3.11.12 torch-2.6.0+cu124 CUDA:0 (Tesla T4, 15095MiB)\n",
            "\u001b[34m\u001b[1mengine/trainer: \u001b[0magnostic_nms=False, amp=True, augment=False, auto_augment=randaugment, batch=16, bgr=0.0, box=7.5, cache=False, cfg=None, classes=None, close_mosaic=10, cls=0.5, conf=None, copy_paste=0.0, copy_paste_mode=flip, cos_lr=False, cutmix=0.0, data=Fruits_Dataset/fruit_data.yaml, degrees=0.0, deterministic=True, device=None, dfl=1.5, dnn=False, dropout=0.0, dynamic=False, embed=None, epochs=75, erasing=0.4, exist_ok=False, fliplr=0.5, flipud=0.0, format=torchscript, fraction=1.0, freeze=None, half=False, hsv_h=0.015, hsv_s=0.7, hsv_v=0.4, imgsz=640, int8=False, iou=0.7, keras=False, kobj=1.0, line_width=None, lr0=0.01, lrf=0.01, mask_ratio=4, max_det=300, mixup=0.0, mode=train, model=yolo11l-seg.pt, momentum=0.937, mosaic=1.0, multi_scale=False, name=fruit_yolo_training2, nbs=64, nms=False, opset=None, optimize=False, optimizer=auto, overlap_mask=True, patience=100, perspective=0.0, plots=True, pose=12.0, pretrained=True, profile=False, project=None, rect=False, resume=False, retina_masks=False, save=True, save_conf=False, save_crop=False, save_dir=runs/segment/fruit_yolo_training2, save_frames=False, save_json=False, save_period=-1, save_txt=False, scale=0.5, seed=0, shear=0.0, show=False, show_boxes=True, show_conf=True, show_labels=True, simplify=True, single_cls=False, source=None, split=val, stream_buffer=False, task=segment, time=None, tracker=botsort.yaml, translate=0.1, val=True, verbose=True, vid_stride=1, visualize=False, warmup_bias_lr=0.1, warmup_epochs=3.0, warmup_momentum=0.8, weight_decay=0.0005, workers=8, workspace=None\n",
            "Overriding model.yaml nc=80 with nc=2\n",
            "\n",
            "                   from  n    params  module                                       arguments                     \n",
            "  0                  -1  1      1856  ultralytics.nn.modules.conv.Conv             [3, 64, 3, 2]                 \n",
            "  1                  -1  1     73984  ultralytics.nn.modules.conv.Conv             [64, 128, 3, 2]               \n",
            "  2                  -1  2    173824  ultralytics.nn.modules.block.C3k2            [128, 256, 2, True, 0.25]     \n",
            "  3                  -1  1    590336  ultralytics.nn.modules.conv.Conv             [256, 256, 3, 2]              \n",
            "  4                  -1  2    691712  ultralytics.nn.modules.block.C3k2            [256, 512, 2, True, 0.25]     \n",
            "  5                  -1  1   2360320  ultralytics.nn.modules.conv.Conv             [512, 512, 3, 2]              \n",
            "  6                  -1  2   2234368  ultralytics.nn.modules.block.C3k2            [512, 512, 2, True]           \n",
            "  7                  -1  1   2360320  ultralytics.nn.modules.conv.Conv             [512, 512, 3, 2]              \n",
            "  8                  -1  2   2234368  ultralytics.nn.modules.block.C3k2            [512, 512, 2, True]           \n",
            "  9                  -1  1    656896  ultralytics.nn.modules.block.SPPF            [512, 512, 5]                 \n",
            " 10                  -1  2   1455616  ultralytics.nn.modules.block.C2PSA           [512, 512, 2]                 \n",
            " 11                  -1  1         0  torch.nn.modules.upsampling.Upsample         [None, 2, 'nearest']          \n",
            " 12             [-1, 6]  1         0  ultralytics.nn.modules.conv.Concat           [1]                           \n",
            " 13                  -1  2   2496512  ultralytics.nn.modules.block.C3k2            [1024, 512, 2, True]          \n",
            " 14                  -1  1         0  torch.nn.modules.upsampling.Upsample         [None, 2, 'nearest']          \n",
            " 15             [-1, 4]  1         0  ultralytics.nn.modules.conv.Concat           [1]                           \n",
            " 16                  -1  2    756736  ultralytics.nn.modules.block.C3k2            [1024, 256, 2, True]          \n",
            " 17                  -1  1    590336  ultralytics.nn.modules.conv.Conv             [256, 256, 3, 2]              \n",
            " 18            [-1, 13]  1         0  ultralytics.nn.modules.conv.Concat           [1]                           \n",
            " 19                  -1  2   2365440  ultralytics.nn.modules.block.C3k2            [768, 512, 2, True]           \n",
            " 20                  -1  1   2360320  ultralytics.nn.modules.conv.Conv             [512, 512, 3, 2]              \n",
            " 21            [-1, 10]  1         0  ultralytics.nn.modules.conv.Concat           [1]                           \n",
            " 22                  -1  2   2496512  ultralytics.nn.modules.block.C3k2            [1024, 512, 2, True]          \n",
            " 23        [16, 19, 22]  1   3718774  ultralytics.nn.modules.head.Segment          [2, 32, 256, [256, 512, 512]] \n",
            "YOLO11l-seg summary: 379 layers, 27,618,230 parameters, 27,618,214 gradients, 142.7 GFLOPs\n",
            "\n",
            "Transferred 1071/1077 items from pretrained weights\n",
            "Freezing layer 'model.23.dfl.conv.weight'\n",
            "\u001b[34m\u001b[1mAMP: \u001b[0mrunning Automatic Mixed Precision (AMP) checks...\n",
            "\u001b[34m\u001b[1mAMP: \u001b[0mchecks passed ✅\n",
            "\u001b[34m\u001b[1mtrain: \u001b[0mFast image access ✅ (ping: 0.0±0.0 ms, read: 1278.7±965.1 MB/s, size: 45.3 KB)\n"
          ]
        },
        {
          "name": "stderr",
          "output_type": "stream",
          "text": [
            "\u001b[34m\u001b[1mtrain: \u001b[0mScanning /content/Fruits_Dataset/labels/train.cache... 32 images, 0 backgrounds, 0 corrupt: 100%|██████████| 32/32 [00:00<?, ?it/s]"
          ]
        },
        {
          "name": "stdout",
          "output_type": "stream",
          "text": [
            "\u001b[34m\u001b[1malbumentations: \u001b[0mBlur(p=0.01, blur_limit=(3, 7)), MedianBlur(p=0.01, blur_limit=(3, 7)), ToGray(p=0.01, method='weighted_average', num_output_channels=3), CLAHE(p=0.01, clip_limit=(1.0, 4.0), tile_grid_size=(8, 8))\n"
          ]
        },
        {
          "name": "stderr",
          "output_type": "stream",
          "text": [
            "\n"
          ]
        },
        {
          "name": "stdout",
          "output_type": "stream",
          "text": [
            "\u001b[34m\u001b[1mval: \u001b[0mFast image access ✅ (ping: 0.0±0.0 ms, read: 311.6±106.1 MB/s, size: 28.6 KB)\n"
          ]
        },
        {
          "name": "stderr",
          "output_type": "stream",
          "text": [
            "\u001b[34m\u001b[1mval: \u001b[0mScanning /content/Fruits_Dataset/labels/val.cache... 4 images, 0 backgrounds, 0 corrupt: 100%|██████████| 4/4 [00:00<?, ?it/s]\n"
          ]
        },
        {
          "name": "stdout",
          "output_type": "stream",
          "text": [
            "Plotting labels to runs/segment/fruit_yolo_training2/labels.jpg... \n",
            "\u001b[34m\u001b[1moptimizer:\u001b[0m 'optimizer=auto' found, ignoring 'lr0=0.01' and 'momentum=0.937' and determining best 'optimizer', 'lr0' and 'momentum' automatically... \n",
            "\u001b[34m\u001b[1moptimizer:\u001b[0m AdamW(lr=0.001667, momentum=0.9) with parameter groups 176 weight(decay=0.0), 187 weight(decay=0.0005), 186 bias(decay=0.0)\n",
            "Image sizes 640 train, 640 val\n",
            "Using 2 dataloader workers\n",
            "Logging results to \u001b[1mruns/segment/fruit_yolo_training2\u001b[0m\n",
            "Starting training for 75 epochs...\n",
            "\n",
            "      Epoch    GPU_mem   box_loss   seg_loss   cls_loss   dfl_loss  Instances       Size\n"
          ]
        },
        {
          "name": "stderr",
          "output_type": "stream",
          "text": [
            "       1/75        12G     0.5242      1.529      2.407      1.074         92        640: 100%|██████████| 2/2 [00:02<00:00,  1.05s/it]\n",
            "                 Class     Images  Instances      Box(P          R      mAP50  mAP50-95)     Mask(P          R      mAP50  mAP50-95): 100%|██████████| 1/1 [00:00<00:00,  3.94it/s]"
          ]
        },
        {
          "name": "stdout",
          "output_type": "stream",
          "text": [
            "                   all          4          5      0.204      0.554      0.281      0.149     0.0782      0.167       0.13      0.123\n"
          ]
        },
        {
          "name": "stderr",
          "output_type": "stream",
          "text": [
            "\n"
          ]
        },
        {
          "name": "stdout",
          "output_type": "stream",
          "text": [
            "\n",
            "      Epoch    GPU_mem   box_loss   seg_loss   cls_loss   dfl_loss  Instances       Size\n"
          ]
        },
        {
          "name": "stderr",
          "output_type": "stream",
          "text": [
            "       2/75      11.6G     0.6225      1.742      2.529      1.255         79        640: 100%|██████████| 2/2 [00:02<00:00,  1.39s/it]\n",
            "                 Class     Images  Instances      Box(P          R      mAP50  mAP50-95)     Mask(P          R      mAP50  mAP50-95): 100%|██████████| 1/1 [00:00<00:00,  4.10it/s]"
          ]
        },
        {
          "name": "stdout",
          "output_type": "stream",
          "text": [
            "                   all          4          5      0.222      0.569      0.288      0.165      0.121      0.359      0.145       0.14\n"
          ]
        },
        {
          "name": "stderr",
          "output_type": "stream",
          "text": [
            "\n"
          ]
        },
        {
          "name": "stdout",
          "output_type": "stream",
          "text": [
            "\n",
            "      Epoch    GPU_mem   box_loss   seg_loss   cls_loss   dfl_loss  Instances       Size\n"
          ]
        },
        {
          "name": "stderr",
          "output_type": "stream",
          "text": [
            "       3/75      11.5G     0.5603      1.521      2.353      1.146         73        640: 100%|██████████| 2/2 [00:02<00:00,  1.01s/it]\n",
            "                 Class     Images  Instances      Box(P          R      mAP50  mAP50-95)     Mask(P          R      mAP50  mAP50-95): 100%|██████████| 1/1 [00:00<00:00,  8.26it/s]"
          ]
        },
        {
          "name": "stdout",
          "output_type": "stream",
          "text": [
            "                   all          4          5      0.176      0.518      0.325      0.185      0.145      0.471      0.165      0.158\n"
          ]
        },
        {
          "name": "stderr",
          "output_type": "stream",
          "text": [
            "\n"
          ]
        },
        {
          "name": "stdout",
          "output_type": "stream",
          "text": [
            "\n",
            "      Epoch    GPU_mem   box_loss   seg_loss   cls_loss   dfl_loss  Instances       Size\n"
          ]
        },
        {
          "name": "stderr",
          "output_type": "stream",
          "text": [
            "       4/75      11.5G     0.5355      1.478      2.496      1.127         73        640: 100%|██████████| 2/2 [00:02<00:00,  1.03s/it]\n",
            "                 Class     Images  Instances      Box(P          R      mAP50  mAP50-95)     Mask(P          R      mAP50  mAP50-95): 100%|██████████| 1/1 [00:00<00:00,  8.27it/s]"
          ]
        },
        {
          "name": "stdout",
          "output_type": "stream",
          "text": [
            "                   all          4          5      0.163        0.5      0.424      0.206      0.146      0.833      0.183      0.177\n"
          ]
        },
        {
          "name": "stderr",
          "output_type": "stream",
          "text": [
            "\n"
          ]
        },
        {
          "name": "stdout",
          "output_type": "stream",
          "text": [
            "\n",
            "      Epoch    GPU_mem   box_loss   seg_loss   cls_loss   dfl_loss  Instances       Size\n"
          ]
        },
        {
          "name": "stderr",
          "output_type": "stream",
          "text": [
            "       5/75      11.6G     0.5996      1.544      2.422      1.203         79        640: 100%|██████████| 2/2 [00:02<00:00,  1.31s/it]\n",
            "                 Class     Images  Instances      Box(P          R      mAP50  mAP50-95)     Mask(P          R      mAP50  mAP50-95): 100%|██████████| 1/1 [00:00<00:00,  7.21it/s]"
          ]
        },
        {
          "name": "stdout",
          "output_type": "stream",
          "text": [
            "                   all          4          5      0.569          1      0.829      0.532      0.569          1      0.829      0.655\n"
          ]
        },
        {
          "name": "stderr",
          "output_type": "stream",
          "text": [
            "\n"
          ]
        },
        {
          "name": "stdout",
          "output_type": "stream",
          "text": [
            "\n",
            "      Epoch    GPU_mem   box_loss   seg_loss   cls_loss   dfl_loss  Instances       Size\n"
          ]
        },
        {
          "name": "stderr",
          "output_type": "stream",
          "text": [
            "       6/75      11.7G     0.5511      1.356      1.722      1.151         60        640: 100%|██████████| 2/2 [00:02<00:00,  1.05s/it]\n",
            "                 Class     Images  Instances      Box(P          R      mAP50  mAP50-95)     Mask(P          R      mAP50  mAP50-95): 100%|██████████| 1/1 [00:00<00:00,  8.37it/s]"
          ]
        },
        {
          "name": "stdout",
          "output_type": "stream",
          "text": [
            "                   all          4          5      0.608          1      0.829      0.556      0.608          1      0.829      0.712\n"
          ]
        },
        {
          "name": "stderr",
          "output_type": "stream",
          "text": [
            "\n"
          ]
        },
        {
          "name": "stdout",
          "output_type": "stream",
          "text": [
            "\n",
            "      Epoch    GPU_mem   box_loss   seg_loss   cls_loss   dfl_loss  Instances       Size\n"
          ]
        },
        {
          "name": "stderr",
          "output_type": "stream",
          "text": [
            "       7/75      11.8G     0.5724      1.459      1.417      1.062         81        640: 100%|██████████| 2/2 [00:02<00:00,  1.06s/it]\n",
            "                 Class     Images  Instances      Box(P          R      mAP50  mAP50-95)     Mask(P          R      mAP50  mAP50-95): 100%|██████████| 1/1 [00:00<00:00,  8.58it/s]"
          ]
        },
        {
          "name": "stdout",
          "output_type": "stream",
          "text": [
            "                   all          4          5      0.568      0.893      0.788      0.554      0.568      0.893      0.788       0.54\n"
          ]
        },
        {
          "name": "stderr",
          "output_type": "stream",
          "text": [
            "\n"
          ]
        },
        {
          "name": "stdout",
          "output_type": "stream",
          "text": [
            "\n",
            "      Epoch    GPU_mem   box_loss   seg_loss   cls_loss   dfl_loss  Instances       Size\n"
          ]
        },
        {
          "name": "stderr",
          "output_type": "stream",
          "text": [
            "       8/75      11.8G     0.5964      1.286      1.096       1.07         81        640: 100%|██████████| 2/2 [00:02<00:00,  1.09s/it]\n",
            "                 Class     Images  Instances      Box(P          R      mAP50  mAP50-95)     Mask(P          R      mAP50  mAP50-95): 100%|██████████| 1/1 [00:00<00:00,  7.29it/s]"
          ]
        },
        {
          "name": "stdout",
          "output_type": "stream",
          "text": [
            "                   all          4          5      0.779       0.75       0.87      0.676      0.508          1      0.746      0.531\n"
          ]
        },
        {
          "name": "stderr",
          "output_type": "stream",
          "text": [
            "\n"
          ]
        },
        {
          "name": "stdout",
          "output_type": "stream",
          "text": [
            "\n",
            "      Epoch    GPU_mem   box_loss   seg_loss   cls_loss   dfl_loss  Instances       Size\n"
          ]
        },
        {
          "name": "stderr",
          "output_type": "stream",
          "text": [
            "       9/75      11.7G     0.5886      1.086      1.257      1.066         56        640: 100%|██████████| 2/2 [00:02<00:00,  1.03s/it]\n",
            "                 Class     Images  Instances      Box(P          R      mAP50  mAP50-95)     Mask(P          R      mAP50  mAP50-95): 100%|██████████| 1/1 [00:00<00:00,  8.51it/s]"
          ]
        },
        {
          "name": "stdout",
          "output_type": "stream",
          "text": [
            "                   all          4          5          1        0.5      0.542      0.374          1        0.5      0.541      0.403\n"
          ]
        },
        {
          "name": "stderr",
          "output_type": "stream",
          "text": [
            "\n"
          ]
        },
        {
          "name": "stdout",
          "output_type": "stream",
          "text": [
            "\n",
            "      Epoch    GPU_mem   box_loss   seg_loss   cls_loss   dfl_loss  Instances       Size\n"
          ]
        },
        {
          "name": "stderr",
          "output_type": "stream",
          "text": [
            "      10/75      11.8G     0.5797      1.189       1.06      1.078         98        640: 100%|██████████| 2/2 [00:02<00:00,  1.04s/it]\n",
            "                 Class     Images  Instances      Box(P          R      mAP50  mAP50-95)     Mask(P          R      mAP50  mAP50-95): 100%|██████████| 1/1 [00:00<00:00,  8.52it/s]"
          ]
        },
        {
          "name": "stdout",
          "output_type": "stream",
          "text": [
            "                   all          4          5       0.91        0.5      0.547      0.319       0.91        0.5      0.516      0.437\n"
          ]
        },
        {
          "name": "stderr",
          "output_type": "stream",
          "text": [
            "\n"
          ]
        },
        {
          "name": "stdout",
          "output_type": "stream",
          "text": [
            "\n",
            "      Epoch    GPU_mem   box_loss   seg_loss   cls_loss   dfl_loss  Instances       Size\n"
          ]
        },
        {
          "name": "stderr",
          "output_type": "stream",
          "text": [
            "      11/75      11.8G     0.5982      1.213      1.121      1.055         70        640: 100%|██████████| 2/2 [00:02<00:00,  1.02s/it]\n",
            "                 Class     Images  Instances      Box(P          R      mAP50  mAP50-95)     Mask(P          R      mAP50  mAP50-95): 100%|██████████| 1/1 [00:00<00:00,  6.61it/s]"
          ]
        },
        {
          "name": "stdout",
          "output_type": "stream",
          "text": [
            "                   all          4          5      0.358      0.583      0.527      0.389      0.425      0.833      0.614      0.349\n"
          ]
        },
        {
          "name": "stderr",
          "output_type": "stream",
          "text": [
            "\n"
          ]
        },
        {
          "name": "stdout",
          "output_type": "stream",
          "text": [
            "\n",
            "      Epoch    GPU_mem   box_loss   seg_loss   cls_loss   dfl_loss  Instances       Size\n"
          ]
        },
        {
          "name": "stderr",
          "output_type": "stream",
          "text": [
            "      12/75      11.8G     0.6197       1.44     0.9709      1.092         78        640: 100%|██████████| 2/2 [00:02<00:00,  1.01s/it]\n",
            "                 Class     Images  Instances      Box(P          R      mAP50  mAP50-95)     Mask(P          R      mAP50  mAP50-95): 100%|██████████| 1/1 [00:00<00:00,  8.59it/s]"
          ]
        },
        {
          "name": "stdout",
          "output_type": "stream",
          "text": [
            "                   all          4          5      0.553      0.833      0.741      0.414      0.553      0.833      0.741      0.431\n"
          ]
        },
        {
          "name": "stderr",
          "output_type": "stream",
          "text": [
            "\n"
          ]
        },
        {
          "name": "stdout",
          "output_type": "stream",
          "text": [
            "\n",
            "      Epoch    GPU_mem   box_loss   seg_loss   cls_loss   dfl_loss  Instances       Size\n"
          ]
        },
        {
          "name": "stderr",
          "output_type": "stream",
          "text": [
            "      13/75      11.8G     0.6469      1.201     0.9403      1.075         75        640: 100%|██████████| 2/2 [00:02<00:00,  1.17s/it]\n",
            "                 Class     Images  Instances      Box(P          R      mAP50  mAP50-95)     Mask(P          R      mAP50  mAP50-95): 100%|██████████| 1/1 [00:00<00:00,  8.42it/s]"
          ]
        },
        {
          "name": "stdout",
          "output_type": "stream",
          "text": [
            "                   all          4          5      0.488      0.544      0.658      0.399      0.389      0.583      0.431      0.263\n"
          ]
        },
        {
          "name": "stderr",
          "output_type": "stream",
          "text": [
            "\n"
          ]
        },
        {
          "name": "stdout",
          "output_type": "stream",
          "text": [
            "\n",
            "      Epoch    GPU_mem   box_loss   seg_loss   cls_loss   dfl_loss  Instances       Size\n"
          ]
        },
        {
          "name": "stderr",
          "output_type": "stream",
          "text": [
            "      14/75      11.9G     0.5848      1.187      0.892      1.053         87        640: 100%|██████████| 2/2 [00:02<00:00,  1.01s/it]\n",
            "                 Class     Images  Instances      Box(P          R      mAP50  mAP50-95)     Mask(P          R      mAP50  mAP50-95): 100%|██████████| 1/1 [00:00<00:00,  8.28it/s]"
          ]
        },
        {
          "name": "stdout",
          "output_type": "stream",
          "text": [
            "                   all          4          5      0.665      0.417      0.526      0.325      0.665      0.417      0.526      0.339\n"
          ]
        },
        {
          "name": "stderr",
          "output_type": "stream",
          "text": [
            "\n"
          ]
        },
        {
          "name": "stdout",
          "output_type": "stream",
          "text": [
            "\n",
            "      Epoch    GPU_mem   box_loss   seg_loss   cls_loss   dfl_loss  Instances       Size\n"
          ]
        },
        {
          "name": "stderr",
          "output_type": "stream",
          "text": [
            "      15/75      11.8G     0.6237       1.38     0.9539      1.104         72        640: 100%|██████████| 2/2 [00:02<00:00,  1.00s/it]\n",
            "                 Class     Images  Instances      Box(P          R      mAP50  mAP50-95)     Mask(P          R      mAP50  mAP50-95): 100%|██████████| 1/1 [00:00<00:00,  8.53it/s]"
          ]
        },
        {
          "name": "stdout",
          "output_type": "stream",
          "text": [
            "                   all          4          5   0.000917      0.167   0.000614   0.000123    0.00828       0.25    0.00478    0.00143\n"
          ]
        },
        {
          "name": "stderr",
          "output_type": "stream",
          "text": [
            "\n"
          ]
        },
        {
          "name": "stdout",
          "output_type": "stream",
          "text": [
            "\n",
            "      Epoch    GPU_mem   box_loss   seg_loss   cls_loss   dfl_loss  Instances       Size\n"
          ]
        },
        {
          "name": "stderr",
          "output_type": "stream",
          "text": [
            "      16/75      11.8G     0.5758     0.9264      0.999      1.052         64        640: 100%|██████████| 2/2 [00:01<00:00,  1.01it/s]\n",
            "                 Class     Images  Instances      Box(P          R      mAP50  mAP50-95)     Mask(P          R      mAP50  mAP50-95): 100%|██████████| 1/1 [00:00<00:00,  8.86it/s]"
          ]
        },
        {
          "name": "stdout",
          "output_type": "stream",
          "text": [
            "                   all          4          5          0          0          0          0     0.0178       0.25    0.00946    0.00284\n"
          ]
        },
        {
          "name": "stderr",
          "output_type": "stream",
          "text": [
            "\n"
          ]
        },
        {
          "name": "stdout",
          "output_type": "stream",
          "text": [
            "\n",
            "      Epoch    GPU_mem   box_loss   seg_loss   cls_loss   dfl_loss  Instances       Size\n"
          ]
        },
        {
          "name": "stderr",
          "output_type": "stream",
          "text": [
            "      17/75      11.8G     0.5982      1.142     0.9003      1.062         76        640: 100%|██████████| 2/2 [00:01<00:00,  1.03it/s]\n",
            "                 Class     Images  Instances      Box(P          R      mAP50  mAP50-95)     Mask(P          R      mAP50  mAP50-95): 100%|██████████| 1/1 [00:00<00:00,  8.26it/s]"
          ]
        },
        {
          "name": "stdout",
          "output_type": "stream",
          "text": [
            "                   all          4          5      0.542        0.5      0.046     0.0284      0.542        0.5      0.046     0.0239\n"
          ]
        },
        {
          "name": "stderr",
          "output_type": "stream",
          "text": [
            "\n"
          ]
        },
        {
          "name": "stdout",
          "output_type": "stream",
          "text": [
            "\n",
            "      Epoch    GPU_mem   box_loss   seg_loss   cls_loss   dfl_loss  Instances       Size\n"
          ]
        },
        {
          "name": "stderr",
          "output_type": "stream",
          "text": [
            "      18/75      11.8G     0.5198      1.108     0.9004       1.03         69        640: 100%|██████████| 2/2 [00:02<00:00,  1.11s/it]\n",
            "                 Class     Images  Instances      Box(P          R      mAP50  mAP50-95)     Mask(P          R      mAP50  mAP50-95): 100%|██████████| 1/1 [00:00<00:00,  8.63it/s]"
          ]
        },
        {
          "name": "stdout",
          "output_type": "stream",
          "text": [
            "                   all          4          5      0.569       0.25     0.0894     0.0504      0.569       0.25     0.0857     0.0257\n"
          ]
        },
        {
          "name": "stderr",
          "output_type": "stream",
          "text": [
            "\n"
          ]
        },
        {
          "name": "stdout",
          "output_type": "stream",
          "text": [
            "\n",
            "      Epoch    GPU_mem   box_loss   seg_loss   cls_loss   dfl_loss  Instances       Size\n"
          ]
        },
        {
          "name": "stderr",
          "output_type": "stream",
          "text": [
            "      19/75      11.8G     0.6531      1.449      1.039      1.132        101        640: 100%|██████████| 2/2 [00:01<00:00,  1.03it/s]\n",
            "                 Class     Images  Instances      Box(P          R      mAP50  mAP50-95)     Mask(P          R      mAP50  mAP50-95): 100%|██████████| 1/1 [00:00<00:00,  8.39it/s]"
          ]
        },
        {
          "name": "stdout",
          "output_type": "stream",
          "text": [
            "                   all          4          5      0.197      0.583       0.24        0.2      0.197      0.583       0.24      0.192\n"
          ]
        },
        {
          "name": "stderr",
          "output_type": "stream",
          "text": [
            "\n"
          ]
        },
        {
          "name": "stdout",
          "output_type": "stream",
          "text": [
            "\n",
            "      Epoch    GPU_mem   box_loss   seg_loss   cls_loss   dfl_loss  Instances       Size\n"
          ]
        },
        {
          "name": "stderr",
          "output_type": "stream",
          "text": [
            "      20/75      11.8G     0.6178      1.613      1.035      1.129         96        640: 100%|██████████| 2/2 [00:01<00:00,  1.02it/s]\n",
            "                 Class     Images  Instances      Box(P          R      mAP50  mAP50-95)     Mask(P          R      mAP50  mAP50-95): 100%|██████████| 1/1 [00:00<00:00,  8.46it/s]"
          ]
        },
        {
          "name": "stdout",
          "output_type": "stream",
          "text": [
            "                   all          4          5     0.0096          1     0.0114    0.00491    0.00287      0.167    0.00255   0.000255\n"
          ]
        },
        {
          "name": "stderr",
          "output_type": "stream",
          "text": [
            "\n"
          ]
        },
        {
          "name": "stdout",
          "output_type": "stream",
          "text": [
            "\n",
            "      Epoch    GPU_mem   box_loss   seg_loss   cls_loss   dfl_loss  Instances       Size\n"
          ]
        },
        {
          "name": "stderr",
          "output_type": "stream",
          "text": [
            "      21/75      11.8G     0.5872      1.395     0.8831      1.119         80        640: 100%|██████████| 2/2 [00:02<00:00,  1.04s/it]\n",
            "                 Class     Images  Instances      Box(P          R      mAP50  mAP50-95)     Mask(P          R      mAP50  mAP50-95): 100%|██████████| 1/1 [00:00<00:00,  6.32it/s]\n"
          ]
        },
        {
          "name": "stdout",
          "output_type": "stream",
          "text": [
            "                   all          4          5     0.0125      0.583     0.0316    0.00504          0          0          0          0\n",
            "\n",
            "      Epoch    GPU_mem   box_loss   seg_loss   cls_loss   dfl_loss  Instances       Size\n"
          ]
        },
        {
          "name": "stderr",
          "output_type": "stream",
          "text": [
            "      22/75      11.8G     0.6556      1.573      1.001      1.131         95        640: 100%|██████████| 2/2 [00:02<00:00,  1.12s/it]\n",
            "                 Class     Images  Instances      Box(P          R      mAP50  mAP50-95)     Mask(P          R      mAP50  mAP50-95): 100%|██████████| 1/1 [00:00<00:00,  8.81it/s]"
          ]
        },
        {
          "name": "stdout",
          "output_type": "stream",
          "text": [
            "                   all          4          5      0.157      0.667      0.114      0.032    0.00198        0.5    0.00199   0.000583\n"
          ]
        },
        {
          "name": "stderr",
          "output_type": "stream",
          "text": [
            "\n"
          ]
        },
        {
          "name": "stdout",
          "output_type": "stream",
          "text": [
            "\n",
            "      Epoch    GPU_mem   box_loss   seg_loss   cls_loss   dfl_loss  Instances       Size\n"
          ]
        },
        {
          "name": "stderr",
          "output_type": "stream",
          "text": [
            "      23/75      11.8G     0.5672      1.271     0.8584      1.083         90        640: 100%|██████████| 2/2 [00:01<00:00,  1.02it/s]\n",
            "                 Class     Images  Instances      Box(P          R      mAP50  mAP50-95)     Mask(P          R      mAP50  mAP50-95): 100%|██████████| 1/1 [00:00<00:00,  8.69it/s]"
          ]
        },
        {
          "name": "stdout",
          "output_type": "stream",
          "text": [
            "                   all          4          5    0.00784          1      0.012    0.00364    0.00329      0.667    0.00381    0.00157\n"
          ]
        },
        {
          "name": "stderr",
          "output_type": "stream",
          "text": [
            "\n"
          ]
        },
        {
          "name": "stdout",
          "output_type": "stream",
          "text": [
            "\n",
            "      Epoch    GPU_mem   box_loss   seg_loss   cls_loss   dfl_loss  Instances       Size\n"
          ]
        },
        {
          "name": "stderr",
          "output_type": "stream",
          "text": [
            "      24/75      11.8G     0.5299      1.088     0.6747      1.061         93        640: 100%|██████████| 2/2 [00:01<00:00,  1.01it/s]\n",
            "                 Class     Images  Instances      Box(P          R      mAP50  mAP50-95)     Mask(P          R      mAP50  mAP50-95): 100%|██████████| 1/1 [00:00<00:00,  7.39it/s]"
          ]
        },
        {
          "name": "stdout",
          "output_type": "stream",
          "text": [
            "                   all          4          5    0.00259      0.667    0.00313    0.00202     0.0011       0.25    0.00135   0.000974\n"
          ]
        },
        {
          "name": "stderr",
          "output_type": "stream",
          "text": [
            "\n"
          ]
        },
        {
          "name": "stdout",
          "output_type": "stream",
          "text": [
            "\n",
            "      Epoch    GPU_mem   box_loss   seg_loss   cls_loss   dfl_loss  Instances       Size\n"
          ]
        },
        {
          "name": "stderr",
          "output_type": "stream",
          "text": [
            "      25/75      11.8G     0.5678      1.377     0.8702      1.076         85        640: 100%|██████████| 2/2 [00:02<00:00,  1.00s/it]\n",
            "                 Class     Images  Instances      Box(P          R      mAP50  mAP50-95)     Mask(P          R      mAP50  mAP50-95): 100%|██████████| 1/1 [00:00<00:00,  8.40it/s]"
          ]
        },
        {
          "name": "stdout",
          "output_type": "stream",
          "text": [
            "                   all          4          5     0.0114       0.25     0.0133    0.00574          0          0          0          0\n"
          ]
        },
        {
          "name": "stderr",
          "output_type": "stream",
          "text": [
            "\n"
          ]
        },
        {
          "name": "stdout",
          "output_type": "stream",
          "text": [
            "\n",
            "      Epoch    GPU_mem   box_loss   seg_loss   cls_loss   dfl_loss  Instances       Size\n"
          ]
        },
        {
          "name": "stderr",
          "output_type": "stream",
          "text": [
            "      26/75      11.8G     0.6246      1.365     0.9322      1.077        115        640: 100%|██████████| 2/2 [00:01<00:00,  1.01it/s]\n",
            "                 Class     Images  Instances      Box(P          R      mAP50  mAP50-95)     Mask(P          R      mAP50  mAP50-95): 100%|██████████| 1/1 [00:00<00:00,  8.45it/s]"
          ]
        },
        {
          "name": "stdout",
          "output_type": "stream",
          "text": [
            "                   all          4          5      0.105      0.667      0.152     0.0394          0          0          0          0\n"
          ]
        },
        {
          "name": "stderr",
          "output_type": "stream",
          "text": [
            "\n"
          ]
        },
        {
          "name": "stdout",
          "output_type": "stream",
          "text": [
            "\n",
            "      Epoch    GPU_mem   box_loss   seg_loss   cls_loss   dfl_loss  Instances       Size\n"
          ]
        },
        {
          "name": "stderr",
          "output_type": "stream",
          "text": [
            "      27/75      11.8G     0.5883      1.243     0.8798      1.065         82        640: 100%|██████████| 2/2 [00:02<00:00,  1.00s/it]\n",
            "                 Class     Images  Instances      Box(P          R      mAP50  mAP50-95)     Mask(P          R      mAP50  mAP50-95): 100%|██████████| 1/1 [00:00<00:00,  9.23it/s]"
          ]
        },
        {
          "name": "stdout",
          "output_type": "stream",
          "text": [
            "                   all          4          5      0.532        0.5      0.112      0.043          0          0          0          0\n"
          ]
        },
        {
          "name": "stderr",
          "output_type": "stream",
          "text": [
            "\n"
          ]
        },
        {
          "name": "stdout",
          "output_type": "stream",
          "text": [
            "\n",
            "      Epoch    GPU_mem   box_loss   seg_loss   cls_loss   dfl_loss  Instances       Size\n"
          ]
        },
        {
          "name": "stderr",
          "output_type": "stream",
          "text": [
            "      28/75      11.7G     0.5355     0.8823     0.8259      1.045         84        640: 100%|██████████| 2/2 [00:02<00:00,  1.05s/it]\n",
            "                 Class     Images  Instances      Box(P          R      mAP50  mAP50-95)     Mask(P          R      mAP50  mAP50-95): 100%|██████████| 1/1 [00:00<00:00,  8.02it/s]"
          ]
        },
        {
          "name": "stdout",
          "output_type": "stream",
          "text": [
            "                   all          4          5      0.532        0.5      0.112      0.043          0          0          0          0\n"
          ]
        },
        {
          "name": "stderr",
          "output_type": "stream",
          "text": [
            "\n"
          ]
        },
        {
          "name": "stdout",
          "output_type": "stream",
          "text": [
            "\n",
            "      Epoch    GPU_mem   box_loss   seg_loss   cls_loss   dfl_loss  Instances       Size\n"
          ]
        },
        {
          "name": "stderr",
          "output_type": "stream",
          "text": [
            "      29/75      11.8G     0.6142     0.9939     0.9093       1.11         73        640: 100%|██████████| 2/2 [00:02<00:00,  1.01s/it]\n",
            "                 Class     Images  Instances      Box(P          R      mAP50  mAP50-95)     Mask(P          R      mAP50  mAP50-95): 100%|██████████| 1/1 [00:00<00:00,  9.01it/s]"
          ]
        },
        {
          "name": "stdout",
          "output_type": "stream",
          "text": [
            "                   all          4          5     0.0187          1      0.111     0.0243     0.0413      0.583      0.139     0.0478\n"
          ]
        },
        {
          "name": "stderr",
          "output_type": "stream",
          "text": [
            "\n"
          ]
        },
        {
          "name": "stdout",
          "output_type": "stream",
          "text": [
            "\n",
            "      Epoch    GPU_mem   box_loss   seg_loss   cls_loss   dfl_loss  Instances       Size\n"
          ]
        },
        {
          "name": "stderr",
          "output_type": "stream",
          "text": [
            "      30/75      11.8G      0.513     0.8845     0.7241      1.018         84        640: 100%|██████████| 2/2 [00:02<00:00,  1.02s/it]\n",
            "                 Class     Images  Instances      Box(P          R      mAP50  mAP50-95)     Mask(P          R      mAP50  mAP50-95): 100%|██████████| 1/1 [00:00<00:00,  8.66it/s]"
          ]
        },
        {
          "name": "stdout",
          "output_type": "stream",
          "text": [
            "                   all          4          5       0.17      0.583      0.259     0.0571       0.17      0.583      0.179     0.0537\n"
          ]
        },
        {
          "name": "stderr",
          "output_type": "stream",
          "text": [
            "\n"
          ]
        },
        {
          "name": "stdout",
          "output_type": "stream",
          "text": [
            "\n",
            "      Epoch    GPU_mem   box_loss   seg_loss   cls_loss   dfl_loss  Instances       Size\n"
          ]
        },
        {
          "name": "stderr",
          "output_type": "stream",
          "text": [
            "      31/75      11.8G     0.5853     0.9994     0.7837      1.042         75        640: 100%|██████████| 2/2 [00:02<00:00,  1.02s/it]\n",
            "                 Class     Images  Instances      Box(P          R      mAP50  mAP50-95)     Mask(P          R      mAP50  mAP50-95): 100%|██████████| 1/1 [00:00<00:00,  7.47it/s]"
          ]
        },
        {
          "name": "stdout",
          "output_type": "stream",
          "text": [
            "                   all          4          5       0.17      0.583      0.259     0.0571       0.17      0.583      0.179     0.0537\n"
          ]
        },
        {
          "name": "stderr",
          "output_type": "stream",
          "text": [
            "\n"
          ]
        },
        {
          "name": "stdout",
          "output_type": "stream",
          "text": [
            "\n",
            "      Epoch    GPU_mem   box_loss   seg_loss   cls_loss   dfl_loss  Instances       Size\n"
          ]
        },
        {
          "name": "stderr",
          "output_type": "stream",
          "text": [
            "      32/75      11.9G     0.6482      1.132     0.7975      1.149         61        640: 100%|██████████| 2/2 [00:02<00:00,  1.01s/it]\n",
            "                 Class     Images  Instances      Box(P          R      mAP50  mAP50-95)     Mask(P          R      mAP50  mAP50-95): 100%|██████████| 1/1 [00:00<00:00,  8.94it/s]"
          ]
        },
        {
          "name": "stdout",
          "output_type": "stream",
          "text": [
            "                   all          4          5     0.0464       0.25     0.0887     0.0133     0.0431      0.667     0.0324     0.0112\n"
          ]
        },
        {
          "name": "stderr",
          "output_type": "stream",
          "text": [
            "\n"
          ]
        },
        {
          "name": "stdout",
          "output_type": "stream",
          "text": [
            "\n",
            "      Epoch    GPU_mem   box_loss   seg_loss   cls_loss   dfl_loss  Instances       Size\n"
          ]
        },
        {
          "name": "stderr",
          "output_type": "stream",
          "text": [
            "      33/75      11.8G     0.5729      1.028     0.7867      1.101         66        640: 100%|██████████| 2/2 [00:01<00:00,  1.00it/s]\n",
            "                 Class     Images  Instances      Box(P          R      mAP50  mAP50-95)     Mask(P          R      mAP50  mAP50-95): 100%|██████████| 1/1 [00:00<00:00,  7.18it/s]"
          ]
        },
        {
          "name": "stdout",
          "output_type": "stream",
          "text": [
            "                   all          4          5      0.664      0.167      0.177      0.105       0.18      0.333      0.245      0.162\n"
          ]
        },
        {
          "name": "stderr",
          "output_type": "stream",
          "text": [
            "\n"
          ]
        },
        {
          "name": "stdout",
          "output_type": "stream",
          "text": [
            "\n",
            "      Epoch    GPU_mem   box_loss   seg_loss   cls_loss   dfl_loss  Instances       Size\n"
          ]
        },
        {
          "name": "stderr",
          "output_type": "stream",
          "text": [
            "      34/75      11.8G      0.528     0.9191     0.6602       1.04         96        640: 100%|██████████| 2/2 [00:01<00:00,  1.04it/s]\n",
            "                 Class     Images  Instances      Box(P          R      mAP50  mAP50-95)     Mask(P          R      mAP50  mAP50-95): 100%|██████████| 1/1 [00:00<00:00,  6.94it/s]\n"
          ]
        },
        {
          "name": "stdout",
          "output_type": "stream",
          "text": [
            "                   all          4          5      0.664      0.167      0.177      0.105       0.18      0.333      0.245      0.162\n",
            "\n",
            "      Epoch    GPU_mem   box_loss   seg_loss   cls_loss   dfl_loss  Instances       Size\n"
          ]
        },
        {
          "name": "stderr",
          "output_type": "stream",
          "text": [
            "      35/75      11.9G     0.5749      1.067     0.7084      1.082         77        640: 100%|██████████| 2/2 [00:01<00:00,  1.00it/s]\n",
            "                 Class     Images  Instances      Box(P          R      mAP50  mAP50-95)     Mask(P          R      mAP50  mAP50-95): 100%|██████████| 1/1 [00:00<00:00,  8.86it/s]"
          ]
        },
        {
          "name": "stdout",
          "output_type": "stream",
          "text": [
            "                   all          4          5      0.698      0.333      0.183      0.152      0.698      0.333      0.184      0.152\n"
          ]
        },
        {
          "name": "stderr",
          "output_type": "stream",
          "text": [
            "\n"
          ]
        },
        {
          "name": "stdout",
          "output_type": "stream",
          "text": [
            "\n",
            "      Epoch    GPU_mem   box_loss   seg_loss   cls_loss   dfl_loss  Instances       Size\n"
          ]
        },
        {
          "name": "stderr",
          "output_type": "stream",
          "text": [
            "      36/75      11.8G     0.5835       1.13     0.7234      1.054         80        640: 100%|██████████| 2/2 [00:01<00:00,  1.01it/s]\n",
            "                 Class     Images  Instances      Box(P          R      mAP50  mAP50-95)     Mask(P          R      mAP50  mAP50-95): 100%|██████████| 1/1 [00:00<00:00,  8.25it/s]"
          ]
        },
        {
          "name": "stdout",
          "output_type": "stream",
          "text": [
            "                   all          4          5      0.423      0.565      0.526      0.264      0.324      0.333      0.292       0.26\n"
          ]
        },
        {
          "name": "stderr",
          "output_type": "stream",
          "text": [
            "\n"
          ]
        },
        {
          "name": "stdout",
          "output_type": "stream",
          "text": [
            "\n",
            "      Epoch    GPU_mem   box_loss   seg_loss   cls_loss   dfl_loss  Instances       Size\n"
          ]
        },
        {
          "name": "stderr",
          "output_type": "stream",
          "text": [
            "      37/75      11.8G     0.5928      1.231     0.8411      1.067         75        640: 100%|██████████| 2/2 [00:01<00:00,  1.05it/s]\n",
            "                 Class     Images  Instances      Box(P          R      mAP50  mAP50-95)     Mask(P          R      mAP50  mAP50-95): 100%|██████████| 1/1 [00:00<00:00,  8.51it/s]"
          ]
        },
        {
          "name": "stdout",
          "output_type": "stream",
          "text": [
            "                   all          4          5      0.423      0.565      0.526      0.264      0.324      0.333      0.292       0.26\n"
          ]
        },
        {
          "name": "stderr",
          "output_type": "stream",
          "text": [
            "\n"
          ]
        },
        {
          "name": "stdout",
          "output_type": "stream",
          "text": [
            "\n",
            "      Epoch    GPU_mem   box_loss   seg_loss   cls_loss   dfl_loss  Instances       Size\n"
          ]
        },
        {
          "name": "stderr",
          "output_type": "stream",
          "text": [
            "      38/75      11.8G      0.538     0.9242     0.6989      1.057         86        640: 100%|██████████| 2/2 [00:02<00:00,  1.10s/it]\n",
            "                 Class     Images  Instances      Box(P          R      mAP50  mAP50-95)     Mask(P          R      mAP50  mAP50-95): 100%|██████████| 1/1 [00:00<00:00,  8.59it/s]"
          ]
        },
        {
          "name": "stdout",
          "output_type": "stream",
          "text": [
            "                   all          4          5       0.27      0.417      0.171      0.116       0.16      0.333      0.139      0.117\n"
          ]
        },
        {
          "name": "stderr",
          "output_type": "stream",
          "text": [
            "\n"
          ]
        },
        {
          "name": "stdout",
          "output_type": "stream",
          "text": [
            "\n",
            "      Epoch    GPU_mem   box_loss   seg_loss   cls_loss   dfl_loss  Instances       Size\n"
          ]
        },
        {
          "name": "stderr",
          "output_type": "stream",
          "text": [
            "      39/75      11.8G     0.5182      0.796     0.6104       1.03         95        640: 100%|██████████| 2/2 [00:01<00:00,  1.01it/s]\n",
            "                 Class     Images  Instances      Box(P          R      mAP50  mAP50-95)     Mask(P          R      mAP50  mAP50-95): 100%|██████████| 1/1 [00:00<00:00,  8.76it/s]"
          ]
        },
        {
          "name": "stdout",
          "output_type": "stream",
          "text": [
            "                   all          4          5      0.161      0.333      0.253      0.136      0.161      0.333      0.235      0.192\n"
          ]
        },
        {
          "name": "stderr",
          "output_type": "stream",
          "text": [
            "\n"
          ]
        },
        {
          "name": "stdout",
          "output_type": "stream",
          "text": [
            "\n",
            "      Epoch    GPU_mem   box_loss   seg_loss   cls_loss   dfl_loss  Instances       Size\n"
          ]
        },
        {
          "name": "stderr",
          "output_type": "stream",
          "text": [
            "      40/75      11.7G     0.5348      0.923     0.6336       1.02         91        640: 100%|██████████| 2/2 [00:01<00:00,  1.04it/s]\n",
            "                 Class     Images  Instances      Box(P          R      mAP50  mAP50-95)     Mask(P          R      mAP50  mAP50-95): 100%|██████████| 1/1 [00:00<00:00,  8.94it/s]"
          ]
        },
        {
          "name": "stdout",
          "output_type": "stream",
          "text": [
            "                   all          4          5      0.161      0.333      0.253      0.136      0.161      0.333      0.235      0.192\n"
          ]
        },
        {
          "name": "stderr",
          "output_type": "stream",
          "text": [
            "\n"
          ]
        },
        {
          "name": "stdout",
          "output_type": "stream",
          "text": [
            "\n",
            "      Epoch    GPU_mem   box_loss   seg_loss   cls_loss   dfl_loss  Instances       Size\n"
          ]
        },
        {
          "name": "stderr",
          "output_type": "stream",
          "text": [
            "      41/75      11.9G     0.5636      1.032     0.6585      1.034         56        640: 100%|██████████| 2/2 [00:02<00:00,  1.05s/it]\n",
            "                 Class     Images  Instances      Box(P          R      mAP50  mAP50-95)     Mask(P          R      mAP50  mAP50-95): 100%|██████████| 1/1 [00:00<00:00,  6.79it/s]\n"
          ]
        },
        {
          "name": "stdout",
          "output_type": "stream",
          "text": [
            "                   all          4          5      0.226      0.167     0.0951     0.0442      0.226      0.167     0.0854     0.0342\n",
            "\n",
            "      Epoch    GPU_mem   box_loss   seg_loss   cls_loss   dfl_loss  Instances       Size\n"
          ]
        },
        {
          "name": "stderr",
          "output_type": "stream",
          "text": [
            "      42/75      11.8G     0.5682     0.9669     0.6279      1.059        114        640: 100%|██████████| 2/2 [00:02<00:00,  1.00s/it]\n",
            "                 Class     Images  Instances      Box(P          R      mAP50  mAP50-95)     Mask(P          R      mAP50  mAP50-95): 100%|██████████| 1/1 [00:00<00:00,  8.81it/s]"
          ]
        },
        {
          "name": "stdout",
          "output_type": "stream",
          "text": [
            "                   all          4          5      0.495      0.833       0.34      0.122      0.495      0.833       0.34       0.12\n"
          ]
        },
        {
          "name": "stderr",
          "output_type": "stream",
          "text": [
            "\n"
          ]
        },
        {
          "name": "stdout",
          "output_type": "stream",
          "text": [
            "\n",
            "      Epoch    GPU_mem   box_loss   seg_loss   cls_loss   dfl_loss  Instances       Size\n"
          ]
        },
        {
          "name": "stderr",
          "output_type": "stream",
          "text": [
            "      43/75      11.8G       0.52      0.891     0.6557      1.065         63        640: 100%|██████████| 2/2 [00:01<00:00,  1.04it/s]\n",
            "                 Class     Images  Instances      Box(P          R      mAP50  mAP50-95)     Mask(P          R      mAP50  mAP50-95): 100%|██████████| 1/1 [00:00<00:00,  8.67it/s]"
          ]
        },
        {
          "name": "stdout",
          "output_type": "stream",
          "text": [
            "                   all          4          5      0.495      0.833       0.34      0.122      0.495      0.833       0.34       0.12\n"
          ]
        },
        {
          "name": "stderr",
          "output_type": "stream",
          "text": [
            "\n"
          ]
        },
        {
          "name": "stdout",
          "output_type": "stream",
          "text": [
            "\n",
            "      Epoch    GPU_mem   box_loss   seg_loss   cls_loss   dfl_loss  Instances       Size\n"
          ]
        },
        {
          "name": "stderr",
          "output_type": "stream",
          "text": [
            "      44/75      11.8G     0.5453     0.8886     0.6745      1.012        105        640: 100%|██████████| 2/2 [00:02<00:00,  1.01s/it]\n",
            "                 Class     Images  Instances      Box(P          R      mAP50  mAP50-95)     Mask(P          R      mAP50  mAP50-95): 100%|██████████| 1/1 [00:00<00:00,  8.14it/s]"
          ]
        },
        {
          "name": "stdout",
          "output_type": "stream",
          "text": [
            "                   all          4          5       0.39      0.667      0.182      0.055       0.39      0.667      0.178     0.0215\n"
          ]
        },
        {
          "name": "stderr",
          "output_type": "stream",
          "text": [
            "\n"
          ]
        },
        {
          "name": "stdout",
          "output_type": "stream",
          "text": [
            "\n",
            "      Epoch    GPU_mem   box_loss   seg_loss   cls_loss   dfl_loss  Instances       Size\n"
          ]
        },
        {
          "name": "stderr",
          "output_type": "stream",
          "text": [
            "      45/75      11.7G     0.5466     0.8116     0.6224      1.087         80        640: 100%|██████████| 2/2 [00:01<00:00,  1.01it/s]\n",
            "                 Class     Images  Instances      Box(P          R      mAP50  mAP50-95)     Mask(P          R      mAP50  mAP50-95): 100%|██████████| 1/1 [00:00<00:00,  8.40it/s]"
          ]
        },
        {
          "name": "stdout",
          "output_type": "stream",
          "text": [
            "                   all          4          5       0.39      0.667      0.182      0.055       0.39      0.667      0.178     0.0215\n"
          ]
        },
        {
          "name": "stderr",
          "output_type": "stream",
          "text": [
            "\n"
          ]
        },
        {
          "name": "stdout",
          "output_type": "stream",
          "text": [
            "\n",
            "      Epoch    GPU_mem   box_loss   seg_loss   cls_loss   dfl_loss  Instances       Size\n"
          ]
        },
        {
          "name": "stderr",
          "output_type": "stream",
          "text": [
            "      46/75      11.8G     0.5694      1.054     0.6574      1.029        107        640: 100%|██████████| 2/2 [00:01<00:00,  1.01it/s]\n",
            "                 Class     Images  Instances      Box(P          R      mAP50  mAP50-95)     Mask(P          R      mAP50  mAP50-95): 100%|██████████| 1/1 [00:00<00:00,  9.03it/s]"
          ]
        },
        {
          "name": "stdout",
          "output_type": "stream",
          "text": [
            "                   all          4          5      0.524        0.5       0.13     0.0296      0.513        0.5     0.0224     0.0115\n"
          ]
        },
        {
          "name": "stderr",
          "output_type": "stream",
          "text": [
            "\n"
          ]
        },
        {
          "name": "stdout",
          "output_type": "stream",
          "text": [
            "\n",
            "      Epoch    GPU_mem   box_loss   seg_loss   cls_loss   dfl_loss  Instances       Size\n"
          ]
        },
        {
          "name": "stderr",
          "output_type": "stream",
          "text": [
            "      47/75      11.8G      0.524     0.7061     0.5804      1.014         80        640: 100%|██████████| 2/2 [00:01<00:00,  1.04it/s]\n",
            "                 Class     Images  Instances      Box(P          R      mAP50  mAP50-95)     Mask(P          R      mAP50  mAP50-95): 100%|██████████| 1/1 [00:00<00:00,  9.06it/s]"
          ]
        },
        {
          "name": "stdout",
          "output_type": "stream",
          "text": [
            "                   all          4          5      0.524        0.5       0.13     0.0296      0.513        0.5     0.0224     0.0115\n"
          ]
        },
        {
          "name": "stderr",
          "output_type": "stream",
          "text": [
            "\n"
          ]
        },
        {
          "name": "stdout",
          "output_type": "stream",
          "text": [
            "\n",
            "      Epoch    GPU_mem   box_loss   seg_loss   cls_loss   dfl_loss  Instances       Size\n"
          ]
        },
        {
          "name": "stderr",
          "output_type": "stream",
          "text": [
            "      48/75      11.8G     0.4938     0.8407     0.6427          1         88        640: 100%|██████████| 2/2 [00:02<00:00,  1.07s/it]\n",
            "                 Class     Images  Instances      Box(P          R      mAP50  mAP50-95)     Mask(P          R      mAP50  mAP50-95): 100%|██████████| 1/1 [00:00<00:00,  8.99it/s]"
          ]
        },
        {
          "name": "stdout",
          "output_type": "stream",
          "text": [
            "                   all          4          5      0.517        0.5     0.0362    0.00788      0.517        0.5     0.0221    0.00873\n"
          ]
        },
        {
          "name": "stderr",
          "output_type": "stream",
          "text": [
            "\n"
          ]
        },
        {
          "name": "stdout",
          "output_type": "stream",
          "text": [
            "\n",
            "      Epoch    GPU_mem   box_loss   seg_loss   cls_loss   dfl_loss  Instances       Size\n"
          ]
        },
        {
          "name": "stderr",
          "output_type": "stream",
          "text": [
            "      49/75      11.8G      0.522     0.8114     0.6514      1.035         92        640: 100%|██████████| 2/2 [00:01<00:00,  1.03it/s]\n",
            "                 Class     Images  Instances      Box(P          R      mAP50  mAP50-95)     Mask(P          R      mAP50  mAP50-95): 100%|██████████| 1/1 [00:00<00:00,  9.10it/s]"
          ]
        },
        {
          "name": "stdout",
          "output_type": "stream",
          "text": [
            "                   all          4          5      0.517        0.5     0.0362    0.00788      0.517        0.5     0.0221    0.00873\n"
          ]
        },
        {
          "name": "stderr",
          "output_type": "stream",
          "text": [
            "\n"
          ]
        },
        {
          "name": "stdout",
          "output_type": "stream",
          "text": [
            "\n",
            "      Epoch    GPU_mem   box_loss   seg_loss   cls_loss   dfl_loss  Instances       Size\n"
          ]
        },
        {
          "name": "stderr",
          "output_type": "stream",
          "text": [
            "      50/75      11.8G     0.5058     0.7508     0.6641      1.028         69        640: 100%|██████████| 2/2 [00:02<00:00,  1.00s/it]\n",
            "                 Class     Images  Instances      Box(P          R      mAP50  mAP50-95)     Mask(P          R      mAP50  mAP50-95): 100%|██████████| 1/1 [00:00<00:00,  9.02it/s]"
          ]
        },
        {
          "name": "stdout",
          "output_type": "stream",
          "text": [
            "                   all          4          5      0.516        0.5     0.0557     0.0265      0.516        0.5     0.0319     0.0129\n"
          ]
        },
        {
          "name": "stderr",
          "output_type": "stream",
          "text": [
            "\n"
          ]
        },
        {
          "name": "stdout",
          "output_type": "stream",
          "text": [
            "\n",
            "      Epoch    GPU_mem   box_loss   seg_loss   cls_loss   dfl_loss  Instances       Size\n"
          ]
        },
        {
          "name": "stderr",
          "output_type": "stream",
          "text": [
            "      51/75      11.7G     0.5669      1.046     0.6985       1.06        109        640: 100%|██████████| 2/2 [00:02<00:00,  1.03s/it]\n",
            "                 Class     Images  Instances      Box(P          R      mAP50  mAP50-95)     Mask(P          R      mAP50  mAP50-95): 100%|██████████| 1/1 [00:00<00:00,  6.63it/s]\n"
          ]
        },
        {
          "name": "stdout",
          "output_type": "stream",
          "text": [
            "                   all          4          5      0.516        0.5     0.0557     0.0265      0.516        0.5     0.0319     0.0129\n",
            "\n",
            "      Epoch    GPU_mem   box_loss   seg_loss   cls_loss   dfl_loss  Instances       Size\n"
          ]
        },
        {
          "name": "stderr",
          "output_type": "stream",
          "text": [
            "      52/75      11.8G     0.5443     0.9611     0.5985      1.065        114        640: 100%|██████████| 2/2 [00:01<00:00,  1.02it/s]\n",
            "                 Class     Images  Instances      Box(P          R      mAP50  mAP50-95)     Mask(P          R      mAP50  mAP50-95): 100%|██████████| 1/1 [00:00<00:00,  9.09it/s]"
          ]
        },
        {
          "name": "stdout",
          "output_type": "stream",
          "text": [
            "                   all          4          5     0.0419        0.5     0.0935     0.0617     0.0419        0.5     0.0551     0.0402\n"
          ]
        },
        {
          "name": "stderr",
          "output_type": "stream",
          "text": [
            "\n"
          ]
        },
        {
          "name": "stdout",
          "output_type": "stream",
          "text": [
            "\n",
            "      Epoch    GPU_mem   box_loss   seg_loss   cls_loss   dfl_loss  Instances       Size\n"
          ]
        },
        {
          "name": "stderr",
          "output_type": "stream",
          "text": [
            "      53/75      11.8G     0.4603     0.7773      0.564     0.9819         87        640: 100%|██████████| 2/2 [00:01<00:00,  1.02it/s]\n",
            "                 Class     Images  Instances      Box(P          R      mAP50  mAP50-95)     Mask(P          R      mAP50  mAP50-95): 100%|██████████| 1/1 [00:00<00:00,  8.06it/s]"
          ]
        },
        {
          "name": "stdout",
          "output_type": "stream",
          "text": [
            "                   all          4          5     0.0419        0.5     0.0935     0.0617     0.0419        0.5     0.0551     0.0402\n"
          ]
        },
        {
          "name": "stderr",
          "output_type": "stream",
          "text": [
            "\n"
          ]
        },
        {
          "name": "stdout",
          "output_type": "stream",
          "text": [
            "\n",
            "      Epoch    GPU_mem   box_loss   seg_loss   cls_loss   dfl_loss  Instances       Size\n"
          ]
        },
        {
          "name": "stderr",
          "output_type": "stream",
          "text": [
            "      54/75      11.8G     0.5134     0.7004     0.5638      1.032         91        640: 100%|██████████| 2/2 [00:01<00:00,  1.01it/s]\n",
            "                 Class     Images  Instances      Box(P          R      mAP50  mAP50-95)     Mask(P          R      mAP50  mAP50-95): 100%|██████████| 1/1 [00:00<00:00,  7.39it/s]"
          ]
        },
        {
          "name": "stdout",
          "output_type": "stream",
          "text": [
            "                   all          4          5      0.209      0.667      0.228      0.173      0.651       0.25      0.182      0.159\n"
          ]
        },
        {
          "name": "stderr",
          "output_type": "stream",
          "text": [
            "\n"
          ]
        },
        {
          "name": "stdout",
          "output_type": "stream",
          "text": [
            "\n",
            "      Epoch    GPU_mem   box_loss   seg_loss   cls_loss   dfl_loss  Instances       Size\n"
          ]
        },
        {
          "name": "stderr",
          "output_type": "stream",
          "text": [
            "      55/75      11.8G     0.5041     0.7954     0.6053      1.047         55        640: 100%|██████████| 2/2 [00:01<00:00,  1.01it/s]\n",
            "                 Class     Images  Instances      Box(P          R      mAP50  mAP50-95)     Mask(P          R      mAP50  mAP50-95): 100%|██████████| 1/1 [00:00<00:00,  8.44it/s]"
          ]
        },
        {
          "name": "stdout",
          "output_type": "stream",
          "text": [
            "                   all          4          5      0.209      0.667      0.228      0.173      0.651       0.25      0.182      0.159\n"
          ]
        },
        {
          "name": "stderr",
          "output_type": "stream",
          "text": [
            "\n"
          ]
        },
        {
          "name": "stdout",
          "output_type": "stream",
          "text": [
            "\n",
            "      Epoch    GPU_mem   box_loss   seg_loss   cls_loss   dfl_loss  Instances       Size\n"
          ]
        },
        {
          "name": "stderr",
          "output_type": "stream",
          "text": [
            "      56/75      11.9G      0.472      0.685     0.5558     0.9961         69        640: 100%|██████████| 2/2 [00:01<00:00,  1.00it/s]\n",
            "                 Class     Images  Instances      Box(P          R      mAP50  mAP50-95)     Mask(P          R      mAP50  mAP50-95): 100%|██████████| 1/1 [00:00<00:00,  9.31it/s]"
          ]
        },
        {
          "name": "stdout",
          "output_type": "stream",
          "text": [
            "                   all          4          5      0.316      0.833      0.521      0.462      0.316      0.833      0.481      0.389\n"
          ]
        },
        {
          "name": "stderr",
          "output_type": "stream",
          "text": [
            "\n"
          ]
        },
        {
          "name": "stdout",
          "output_type": "stream",
          "text": [
            "\n",
            "      Epoch    GPU_mem   box_loss   seg_loss   cls_loss   dfl_loss  Instances       Size\n"
          ]
        },
        {
          "name": "stderr",
          "output_type": "stream",
          "text": [
            "      57/75      11.8G     0.4208     0.6643     0.4679     0.9668         87        640: 100%|██████████| 2/2 [00:01<00:00,  1.05it/s]\n",
            "                 Class     Images  Instances      Box(P          R      mAP50  mAP50-95)     Mask(P          R      mAP50  mAP50-95): 100%|██████████| 1/1 [00:00<00:00,  8.77it/s]"
          ]
        },
        {
          "name": "stdout",
          "output_type": "stream",
          "text": [
            "                   all          4          5      0.316      0.833      0.521      0.462      0.316      0.833      0.481      0.389\n"
          ]
        },
        {
          "name": "stderr",
          "output_type": "stream",
          "text": [
            "\n"
          ]
        },
        {
          "name": "stdout",
          "output_type": "stream",
          "text": [
            "\n",
            "      Epoch    GPU_mem   box_loss   seg_loss   cls_loss   dfl_loss  Instances       Size\n"
          ]
        },
        {
          "name": "stderr",
          "output_type": "stream",
          "text": [
            "      58/75      11.8G     0.4124     0.6282     0.4744     0.9531         95        640: 100%|██████████| 2/2 [00:02<00:00,  1.11s/it]\n",
            "                 Class     Images  Instances      Box(P          R      mAP50  mAP50-95)     Mask(P          R      mAP50  mAP50-95): 100%|██████████| 1/1 [00:00<00:00,  7.96it/s]"
          ]
        },
        {
          "name": "stdout",
          "output_type": "stream",
          "text": [
            "                   all          4          5      0.646      0.667       0.49      0.422      0.646      0.667      0.485      0.372\n"
          ]
        },
        {
          "name": "stderr",
          "output_type": "stream",
          "text": [
            "\n"
          ]
        },
        {
          "name": "stdout",
          "output_type": "stream",
          "text": [
            "\n",
            "      Epoch    GPU_mem   box_loss   seg_loss   cls_loss   dfl_loss  Instances       Size\n"
          ]
        },
        {
          "name": "stderr",
          "output_type": "stream",
          "text": [
            "      59/75      11.7G     0.4572     0.6934     0.5329     0.9753         83        640: 100%|██████████| 2/2 [00:01<00:00,  1.03it/s]\n",
            "                 Class     Images  Instances      Box(P          R      mAP50  mAP50-95)     Mask(P          R      mAP50  mAP50-95): 100%|██████████| 1/1 [00:00<00:00,  8.52it/s]"
          ]
        },
        {
          "name": "stdout",
          "output_type": "stream",
          "text": [
            "                   all          4          5      0.646      0.667       0.49      0.422      0.646      0.667      0.485      0.372\n"
          ]
        },
        {
          "name": "stderr",
          "output_type": "stream",
          "text": [
            "\n"
          ]
        },
        {
          "name": "stdout",
          "output_type": "stream",
          "text": [
            "\n",
            "      Epoch    GPU_mem   box_loss   seg_loss   cls_loss   dfl_loss  Instances       Size\n"
          ]
        },
        {
          "name": "stderr",
          "output_type": "stream",
          "text": [
            "      60/75      11.8G     0.4375     0.6771     0.5177     0.9828         95        640: 100%|██████████| 2/2 [00:01<00:00,  1.02it/s]\n",
            "                 Class     Images  Instances      Box(P          R      mAP50  mAP50-95)     Mask(P          R      mAP50  mAP50-95): 100%|██████████| 1/1 [00:00<00:00,  8.22it/s]"
          ]
        },
        {
          "name": "stdout",
          "output_type": "stream",
          "text": [
            "                   all          4          5      0.521      0.805      0.542      0.447      0.521      0.805      0.542      0.495\n"
          ]
        },
        {
          "name": "stderr",
          "output_type": "stream",
          "text": [
            "\n"
          ]
        },
        {
          "name": "stdout",
          "output_type": "stream",
          "text": [
            "\n",
            "      Epoch    GPU_mem   box_loss   seg_loss   cls_loss   dfl_loss  Instances       Size\n"
          ]
        },
        {
          "name": "stderr",
          "output_type": "stream",
          "text": [
            "      61/75      11.8G     0.4227     0.6163     0.5389     0.9591         90        640: 100%|██████████| 2/2 [00:02<00:00,  1.01s/it]\n",
            "                 Class     Images  Instances      Box(P          R      mAP50  mAP50-95)     Mask(P          R      mAP50  mAP50-95): 100%|██████████| 1/1 [00:00<00:00,  6.70it/s]"
          ]
        },
        {
          "name": "stdout",
          "output_type": "stream",
          "text": [
            "                   all          4          5      0.521      0.805      0.542      0.447      0.521      0.805      0.542      0.495\n"
          ]
        },
        {
          "name": "stderr",
          "output_type": "stream",
          "text": [
            "\n"
          ]
        },
        {
          "name": "stdout",
          "output_type": "stream",
          "text": [
            "\n",
            "      Epoch    GPU_mem   box_loss   seg_loss   cls_loss   dfl_loss  Instances       Size\n"
          ]
        },
        {
          "name": "stderr",
          "output_type": "stream",
          "text": [
            "      62/75      11.9G     0.4659     0.8456     0.5422     0.9686        110        640: 100%|██████████| 2/2 [00:01<00:00,  1.01it/s]\n",
            "                 Class     Images  Instances      Box(P          R      mAP50  mAP50-95)     Mask(P          R      mAP50  mAP50-95): 100%|██████████| 1/1 [00:00<00:00,  9.30it/s]"
          ]
        },
        {
          "name": "stdout",
          "output_type": "stream",
          "text": [
            "                   all          4          5       0.52      0.833       0.52       0.45       0.52      0.833       0.52      0.446\n"
          ]
        },
        {
          "name": "stderr",
          "output_type": "stream",
          "text": [
            "\n"
          ]
        },
        {
          "name": "stdout",
          "output_type": "stream",
          "text": [
            "\n",
            "      Epoch    GPU_mem   box_loss   seg_loss   cls_loss   dfl_loss  Instances       Size\n"
          ]
        },
        {
          "name": "stderr",
          "output_type": "stream",
          "text": [
            "      63/75      11.7G     0.4405     0.5786     0.4847     0.9672         82        640: 100%|██████████| 2/2 [00:01<00:00,  1.05it/s]\n",
            "                 Class     Images  Instances      Box(P          R      mAP50  mAP50-95)     Mask(P          R      mAP50  mAP50-95): 100%|██████████| 1/1 [00:00<00:00,  8.46it/s]"
          ]
        },
        {
          "name": "stdout",
          "output_type": "stream",
          "text": [
            "                   all          4          5       0.52      0.833       0.52       0.45       0.52      0.833       0.52      0.446\n"
          ]
        },
        {
          "name": "stderr",
          "output_type": "stream",
          "text": [
            "\n"
          ]
        },
        {
          "name": "stdout",
          "output_type": "stream",
          "text": [
            "\n",
            "      Epoch    GPU_mem   box_loss   seg_loss   cls_loss   dfl_loss  Instances       Size\n"
          ]
        },
        {
          "name": "stderr",
          "output_type": "stream",
          "text": [
            "      64/75      11.9G     0.3979     0.4563     0.4184     0.9787         72        640: 100%|██████████| 2/2 [00:02<00:00,  1.03s/it]\n",
            "                 Class     Images  Instances      Box(P          R      mAP50  mAP50-95)     Mask(P          R      mAP50  mAP50-95): 100%|██████████| 1/1 [00:00<00:00,  6.93it/s]\n"
          ]
        },
        {
          "name": "stdout",
          "output_type": "stream",
          "text": [
            "                   all          4          5      0.547      0.833      0.671      0.578      0.547      0.833      0.671      0.611\n",
            "\n",
            "      Epoch    GPU_mem   box_loss   seg_loss   cls_loss   dfl_loss  Instances       Size\n"
          ]
        },
        {
          "name": "stderr",
          "output_type": "stream",
          "text": [
            "      65/75      11.7G     0.4214     0.5787     0.5159      0.986         95        640: 100%|██████████| 2/2 [00:01<00:00,  1.03it/s]\n",
            "                 Class     Images  Instances      Box(P          R      mAP50  mAP50-95)     Mask(P          R      mAP50  mAP50-95): 100%|██████████| 1/1 [00:00<00:00,  8.44it/s]"
          ]
        },
        {
          "name": "stdout",
          "output_type": "stream",
          "text": [
            "                   all          4          5      0.547      0.833      0.671      0.578      0.547      0.833      0.671      0.611\n"
          ]
        },
        {
          "name": "stderr",
          "output_type": "stream",
          "text": [
            "\n"
          ]
        },
        {
          "name": "stdout",
          "output_type": "stream",
          "text": [
            "Closing dataloader mosaic\n",
            "\u001b[34m\u001b[1malbumentations: \u001b[0mBlur(p=0.01, blur_limit=(3, 7)), MedianBlur(p=0.01, blur_limit=(3, 7)), ToGray(p=0.01, method='weighted_average', num_output_channels=3), CLAHE(p=0.01, clip_limit=(1.0, 4.0), tile_grid_size=(8, 8))\n",
            "\n",
            "      Epoch    GPU_mem   box_loss   seg_loss   cls_loss   dfl_loss  Instances       Size\n"
          ]
        },
        {
          "name": "stderr",
          "output_type": "stream",
          "text": [
            "      66/75      11.7G     0.5604     0.6253     0.6125      1.119         32        640: 100%|██████████| 2/2 [00:02<00:00,  1.40s/it]\n",
            "                 Class     Images  Instances      Box(P          R      mAP50  mAP50-95)     Mask(P          R      mAP50  mAP50-95): 100%|██████████| 1/1 [00:00<00:00,  6.57it/s]"
          ]
        },
        {
          "name": "stdout",
          "output_type": "stream",
          "text": [
            "                   all          4          5      0.945      0.984      0.995      0.822      0.945      0.984      0.995      0.925\n"
          ]
        },
        {
          "name": "stderr",
          "output_type": "stream",
          "text": [
            "\n"
          ]
        },
        {
          "name": "stdout",
          "output_type": "stream",
          "text": [
            "\n",
            "      Epoch    GPU_mem   box_loss   seg_loss   cls_loss   dfl_loss  Instances       Size\n"
          ]
        },
        {
          "name": "stderr",
          "output_type": "stream",
          "text": [
            "      67/75      11.7G     0.3908     0.5091     0.4861     0.9597         31        640: 100%|██████████| 2/2 [00:02<00:00,  1.11s/it]\n",
            "                 Class     Images  Instances      Box(P          R      mAP50  mAP50-95)     Mask(P          R      mAP50  mAP50-95): 100%|██████████| 1/1 [00:00<00:00,  3.24it/s]"
          ]
        },
        {
          "name": "stdout",
          "output_type": "stream",
          "text": [
            "                   all          4          5      0.945      0.984      0.995      0.822      0.945      0.984      0.995      0.925\n"
          ]
        },
        {
          "name": "stderr",
          "output_type": "stream",
          "text": [
            "\n"
          ]
        },
        {
          "name": "stdout",
          "output_type": "stream",
          "text": [
            "\n",
            "      Epoch    GPU_mem   box_loss   seg_loss   cls_loss   dfl_loss  Instances       Size\n"
          ]
        },
        {
          "name": "stderr",
          "output_type": "stream",
          "text": [
            "      68/75      11.7G     0.4376     0.4603     0.5746      1.013         34        640: 100%|██████████| 2/2 [00:01<00:00,  1.04it/s]\n",
            "                 Class     Images  Instances      Box(P          R      mAP50  mAP50-95)     Mask(P          R      mAP50  mAP50-95): 100%|██████████| 1/1 [00:00<00:00,  8.68it/s]"
          ]
        },
        {
          "name": "stdout",
          "output_type": "stream",
          "text": [
            "                   all          4          5      0.968      0.994      0.995        0.9      0.968      0.994      0.995      0.941\n"
          ]
        },
        {
          "name": "stderr",
          "output_type": "stream",
          "text": [
            "\n"
          ]
        },
        {
          "name": "stdout",
          "output_type": "stream",
          "text": [
            "\n",
            "      Epoch    GPU_mem   box_loss   seg_loss   cls_loss   dfl_loss  Instances       Size\n"
          ]
        },
        {
          "name": "stderr",
          "output_type": "stream",
          "text": [
            "      69/75      11.6G     0.3755     0.3775     0.4236     0.9568         35        640: 100%|██████████| 2/2 [00:01<00:00,  1.07it/s]\n",
            "                 Class     Images  Instances      Box(P          R      mAP50  mAP50-95)     Mask(P          R      mAP50  mAP50-95): 100%|██████████| 1/1 [00:00<00:00,  8.74it/s]"
          ]
        },
        {
          "name": "stdout",
          "output_type": "stream",
          "text": [
            "                   all          4          5      0.968      0.994      0.995        0.9      0.968      0.994      0.995      0.941\n"
          ]
        },
        {
          "name": "stderr",
          "output_type": "stream",
          "text": [
            "\n"
          ]
        },
        {
          "name": "stdout",
          "output_type": "stream",
          "text": [
            "\n",
            "      Epoch    GPU_mem   box_loss   seg_loss   cls_loss   dfl_loss  Instances       Size\n"
          ]
        },
        {
          "name": "stderr",
          "output_type": "stream",
          "text": [
            "      70/75      11.7G     0.3193     0.3826     0.4136     0.9423         37        640: 100%|██████████| 2/2 [00:01<00:00,  1.03it/s]\n",
            "                 Class     Images  Instances      Box(P          R      mAP50  mAP50-95)     Mask(P          R      mAP50  mAP50-95): 100%|██████████| 1/1 [00:00<00:00,  9.26it/s]"
          ]
        },
        {
          "name": "stdout",
          "output_type": "stream",
          "text": [
            "                   all          4          5      0.943      0.992      0.995       0.97      0.943      0.992      0.995      0.946\n"
          ]
        },
        {
          "name": "stderr",
          "output_type": "stream",
          "text": [
            "\n"
          ]
        },
        {
          "name": "stdout",
          "output_type": "stream",
          "text": [
            "\n",
            "      Epoch    GPU_mem   box_loss   seg_loss   cls_loss   dfl_loss  Instances       Size\n"
          ]
        },
        {
          "name": "stderr",
          "output_type": "stream",
          "text": [
            "      71/75      11.7G      0.336     0.4419      0.421     0.9196         30        640: 100%|██████████| 2/2 [00:01<00:00,  1.07it/s]\n",
            "                 Class     Images  Instances      Box(P          R      mAP50  mAP50-95)     Mask(P          R      mAP50  mAP50-95): 100%|██████████| 1/1 [00:00<00:00,  8.54it/s]"
          ]
        },
        {
          "name": "stdout",
          "output_type": "stream",
          "text": [
            "                   all          4          5      0.943      0.992      0.995       0.97      0.943      0.992      0.995      0.946\n"
          ]
        },
        {
          "name": "stderr",
          "output_type": "stream",
          "text": [
            "\n"
          ]
        },
        {
          "name": "stdout",
          "output_type": "stream",
          "text": [
            "\n",
            "      Epoch    GPU_mem   box_loss   seg_loss   cls_loss   dfl_loss  Instances       Size\n"
          ]
        },
        {
          "name": "stderr",
          "output_type": "stream",
          "text": [
            "      72/75      11.7G     0.3232     0.3882      0.427     0.8926         43        640: 100%|██████████| 2/2 [00:02<00:00,  1.03s/it]\n",
            "                 Class     Images  Instances      Box(P          R      mAP50  mAP50-95)     Mask(P          R      mAP50  mAP50-95): 100%|██████████| 1/1 [00:00<00:00,  9.24it/s]"
          ]
        },
        {
          "name": "stdout",
          "output_type": "stream",
          "text": [
            "                   all          4          5      0.947      0.999      0.995      0.946      0.947      0.999      0.995      0.937\n"
          ]
        },
        {
          "name": "stderr",
          "output_type": "stream",
          "text": [
            "\n"
          ]
        },
        {
          "name": "stdout",
          "output_type": "stream",
          "text": [
            "\n",
            "      Epoch    GPU_mem   box_loss   seg_loss   cls_loss   dfl_loss  Instances       Size\n"
          ]
        },
        {
          "name": "stderr",
          "output_type": "stream",
          "text": [
            "      73/75      11.6G     0.3078     0.3871     0.4034     0.9006         41        640: 100%|██████████| 2/2 [00:01<00:00,  1.07it/s]\n",
            "                 Class     Images  Instances      Box(P          R      mAP50  mAP50-95)     Mask(P          R      mAP50  mAP50-95): 100%|██████████| 1/1 [00:00<00:00,  8.76it/s]"
          ]
        },
        {
          "name": "stdout",
          "output_type": "stream",
          "text": [
            "                   all          4          5      0.947      0.999      0.995      0.946      0.947      0.999      0.995      0.937\n"
          ]
        },
        {
          "name": "stderr",
          "output_type": "stream",
          "text": [
            "\n"
          ]
        },
        {
          "name": "stdout",
          "output_type": "stream",
          "text": [
            "\n",
            "      Epoch    GPU_mem   box_loss   seg_loss   cls_loss   dfl_loss  Instances       Size\n"
          ]
        },
        {
          "name": "stderr",
          "output_type": "stream",
          "text": [
            "      74/75      11.7G     0.3006     0.3457      0.383     0.9447         28        640: 100%|██████████| 2/2 [00:01<00:00,  1.03it/s]\n",
            "                 Class     Images  Instances      Box(P          R      mAP50  mAP50-95)     Mask(P          R      mAP50  mAP50-95): 100%|██████████| 1/1 [00:00<00:00,  9.36it/s]"
          ]
        },
        {
          "name": "stdout",
          "output_type": "stream",
          "text": [
            "                   all          4          5      0.956          1      0.995      0.955      0.956          1      0.995      0.941\n"
          ]
        },
        {
          "name": "stderr",
          "output_type": "stream",
          "text": [
            "\n"
          ]
        },
        {
          "name": "stdout",
          "output_type": "stream",
          "text": [
            "\n",
            "      Epoch    GPU_mem   box_loss   seg_loss   cls_loss   dfl_loss  Instances       Size\n"
          ]
        },
        {
          "name": "stderr",
          "output_type": "stream",
          "text": [
            "      75/75      11.7G     0.2919     0.3668     0.3442     0.9204         34        640: 100%|██████████| 2/2 [00:01<00:00,  1.01it/s]\n",
            "                 Class     Images  Instances      Box(P          R      mAP50  mAP50-95)     Mask(P          R      mAP50  mAP50-95): 100%|██████████| 1/1 [00:00<00:00,  6.46it/s]"
          ]
        },
        {
          "name": "stdout",
          "output_type": "stream",
          "text": [
            "                   all          4          5      0.956          1      0.995      0.955      0.956          1      0.995      0.941\n"
          ]
        },
        {
          "name": "stderr",
          "output_type": "stream",
          "text": [
            "\n"
          ]
        },
        {
          "name": "stdout",
          "output_type": "stream",
          "text": [
            "\n",
            "75 epochs completed in 0.083 hours.\n",
            "Optimizer stripped from runs/segment/fruit_yolo_training2/weights/last.pt, 55.8MB\n",
            "Optimizer stripped from runs/segment/fruit_yolo_training2/weights/best.pt, 55.8MB\n",
            "\n",
            "Validating runs/segment/fruit_yolo_training2/weights/best.pt...\n",
            "Ultralytics 8.3.139 🚀 Python-3.11.12 torch-2.6.0+cu124 CUDA:0 (Tesla T4, 15095MiB)\n",
            "YOLO11l-seg summary (fused): 203 layers, 27,586,134 parameters, 0 gradients, 141.9 GFLOPs\n"
          ]
        },
        {
          "name": "stderr",
          "output_type": "stream",
          "text": [
            "\r                 Class     Images  Instances      Box(P          R      mAP50  mAP50-95)     Mask(P          R      mAP50  mAP50-95):   0%|          | 0/1 [00:00<?, ?it/s]"
          ]
        },
        {
          "name": "stdout",
          "output_type": "stream",
          "text": [
            "WARNING ⚠️ Limiting validation plots to first 50 items per image for speed...\n",
            "WARNING ⚠️ Limiting validation plots to first 50 items per image for speed...\n",
            "WARNING ⚠️ Limiting validation plots to first 50 items per image for speed...\n",
            "WARNING ⚠️ Limiting validation plots to first 50 items per image for speed...\n"
          ]
        },
        {
          "name": "stderr",
          "output_type": "stream",
          "text": [
            "                 Class     Images  Instances      Box(P          R      mAP50  mAP50-95)     Mask(P          R      mAP50  mAP50-95): 100%|██████████| 1/1 [00:00<00:00,  8.24it/s]\n"
          ]
        },
        {
          "name": "stdout",
          "output_type": "stream",
          "text": [
            "                   all          4          5      0.943      0.992      0.995       0.97      0.943      0.992      0.995      0.946\n",
            "                 apple          2          3          1      0.984      0.995      0.946          1      0.984      0.995      0.946\n",
            "                banana          2          2      0.885          1      0.995      0.995      0.885          1      0.995      0.945\n",
            "Speed: 0.3ms preprocess, 16.4ms inference, 0.0ms loss, 1.1ms postprocess per image\n",
            "Results saved to \u001b[1mruns/segment/fruit_yolo_training2\u001b[0m\n",
            "✅ YOLO model trained and saved to: /content/runs/segment/fruit_yolo_training2/weights/best.pt\n",
            "🔍 Extracting object crops for CNN training...\n",
            "\n",
            "image 1/1 /content/Fruits_Dataset/images/train/d2fb34d3-banana_36.jpg: 640x640 1 banana, 60.9ms\n",
            "Speed: 4.2ms preprocess, 60.9ms inference, 13.8ms postprocess per image at shape (1, 3, 640, 640)\n",
            "\n",
            "image 1/1 /content/Fruits_Dataset/images/train/71ce2af0-apple_7.jpg: 352x640 9 apples, 111.6ms\n",
            "Speed: 2.4ms preprocess, 111.6ms inference, 5.0ms postprocess per image at shape (1, 3, 352, 640)\n",
            "\n",
            "image 1/1 /content/Fruits_Dataset/images/train/060dca69-apple_6.jpg: 448x640 3 apples, 99.7ms\n",
            "Speed: 2.0ms preprocess, 99.7ms inference, 4.5ms postprocess per image at shape (1, 3, 448, 640)\n",
            "\n",
            "image 1/1 /content/Fruits_Dataset/images/train/33d7d546-apple_4.jpg: 352x640 5 apples, 30.9ms\n",
            "Speed: 3.7ms preprocess, 30.9ms inference, 4.2ms postprocess per image at shape (1, 3, 352, 640)\n",
            "\n",
            "image 1/1 /content/Fruits_Dataset/images/train/ba7220b6-banana_49.jpg: 640x640 1 banana, 45.4ms\n",
            "Speed: 4.4ms preprocess, 45.4ms inference, 2.9ms postprocess per image at shape (1, 3, 640, 640)\n",
            "\n",
            "image 1/1 /content/Fruits_Dataset/images/train/d05a497a-apple_21.jpg: 512x640 1 apple, 97.5ms\n",
            "Speed: 2.2ms preprocess, 97.5ms inference, 2.9ms postprocess per image at shape (1, 3, 512, 640)\n",
            "\n",
            "image 1/1 /content/Fruits_Dataset/images/train/0deaf6e2-apple_3.jpg: 384x640 1 apple, 93.9ms\n",
            "Speed: 2.4ms preprocess, 93.9ms inference, 3.1ms postprocess per image at shape (1, 3, 384, 640)\n",
            "\n",
            "image 1/1 /content/Fruits_Dataset/images/train/fa2d8022-bananas-fruits-that-come-herbaceous-600nw-2552818301.webp: 640x640 1 banana, 45.9ms\n",
            "Speed: 5.2ms preprocess, 45.9ms inference, 4.5ms postprocess per image at shape (1, 3, 640, 640)\n",
            "\n",
            "image 1/1 /content/Fruits_Dataset/images/train/9f3e0f40-banana_28.jpg: 640x640 1 apple, 2 bananas, 43.2ms\n",
            "Speed: 5.4ms preprocess, 43.2ms inference, 3.3ms postprocess per image at shape (1, 3, 640, 640)\n",
            "\n",
            "image 1/1 /content/Fruits_Dataset/images/train/c0ec49c8-apple_8.jpg: 576x640 1 apple, 106.6ms\n",
            "Speed: 3.3ms preprocess, 106.6ms inference, 3.7ms postprocess per image at shape (1, 3, 576, 640)\n",
            "\n",
            "image 1/1 /content/Fruits_Dataset/images/train/ed434936-How_To_Freeze_Bananas_023-71e81efacb6a4d87a3596b8c2c519884.jpg: 448x640 5 bananas, 30.8ms\n",
            "Speed: 4.6ms preprocess, 30.8ms inference, 3.2ms postprocess per image at shape (1, 3, 448, 640)\n",
            "\n",
            "image 1/1 /content/Fruits_Dataset/images/train/5fde7256-download_2.jpeg: 640x608 5 bananas, 91.0ms\n",
            "Speed: 3.8ms preprocess, 91.0ms inference, 3.7ms postprocess per image at shape (1, 3, 640, 608)\n",
            "\n",
            "image 1/1 /content/Fruits_Dataset/images/train/4628403d-apple_10.jpg: 480x640 5 apples, 92.7ms\n",
            "Speed: 2.1ms preprocess, 92.7ms inference, 3.1ms postprocess per image at shape (1, 3, 480, 640)\n",
            "\n",
            "image 1/1 /content/Fruits_Dataset/images/train/df45a427-apple_1.jpg: 640x640 1 apple, 47.1ms\n",
            "Speed: 3.6ms preprocess, 47.1ms inference, 2.7ms postprocess per image at shape (1, 3, 640, 640)\n",
            "\n",
            "image 1/1 /content/Fruits_Dataset/images/train/60501549-banana_40.jpg: 640x640 2 bananas, 34.1ms\n",
            "Speed: 5.2ms preprocess, 34.1ms inference, 3.0ms postprocess per image at shape (1, 3, 640, 640)\n",
            "\n",
            "image 1/1 /content/Fruits_Dataset/images/train/46dc3772-banana_33.jpg: 640x640 1 apple, 33.5ms\n",
            "Speed: 4.5ms preprocess, 33.5ms inference, 2.7ms postprocess per image at shape (1, 3, 640, 640)\n",
            "\n",
            "image 1/1 /content/Fruits_Dataset/images/train/6d3413e8-apple_9.jpg: 640x640 1 apple, 34.2ms\n",
            "Speed: 4.1ms preprocess, 34.2ms inference, 3.0ms postprocess per image at shape (1, 3, 640, 640)\n",
            "\n",
            "image 1/1 /content/Fruits_Dataset/images/train/afb773e2-bananas-mc-221004-02-3ddd88.jpg: 416x640 4 bananas, 90.8ms\n",
            "Speed: 4.4ms preprocess, 90.8ms inference, 3.0ms postprocess per image at shape (1, 3, 416, 640)\n",
            "\n",
            "image 1/1 /content/Fruits_Dataset/images/train/cae960bf-banana_29.jpg: 640x640 1 banana, 32.7ms\n",
            "Speed: 4.0ms preprocess, 32.7ms inference, 3.2ms postprocess per image at shape (1, 3, 640, 640)\n",
            "\n",
            "image 1/1 /content/Fruits_Dataset/images/train/e99fa299-apple_5.jpg: 448x640 5 apples, 29.5ms\n",
            "Speed: 2.0ms preprocess, 29.5ms inference, 3.6ms postprocess per image at shape (1, 3, 448, 640)\n",
            "\n",
            "image 1/1 /content/Fruits_Dataset/images/train/f1ba8f92-banana_45.jpg: 640x640 1 banana, 47.8ms\n",
            "Speed: 5.7ms preprocess, 47.8ms inference, 3.7ms postprocess per image at shape (1, 3, 640, 640)\n",
            "\n",
            "image 1/1 /content/Fruits_Dataset/images/train/cd846992-apple_2.jpg: 512x640 1 apple, 35.7ms\n",
            "Speed: 3.6ms preprocess, 35.7ms inference, 3.8ms postprocess per image at shape (1, 3, 512, 640)\n",
            "\n",
            "image 1/1 /content/Fruits_Dataset/images/train/82082129-apple_16.jpg: 512x640 3 apples, 30.9ms\n",
            "Speed: 3.8ms preprocess, 30.9ms inference, 6.2ms postprocess per image at shape (1, 3, 512, 640)\n",
            "\n",
            "image 1/1 /content/Fruits_Dataset/images/train/c9ad0610-banana_37.jpg: 640x640 1 banana, 54.4ms\n",
            "Speed: 5.4ms preprocess, 54.4ms inference, 6.3ms postprocess per image at shape (1, 3, 640, 640)\n",
            "\n",
            "image 1/1 /content/Fruits_Dataset/images/train/769606c0-apple_11.jpg: 640x640 1 apple, 32.5ms\n",
            "Speed: 6.0ms preprocess, 32.5ms inference, 3.9ms postprocess per image at shape (1, 3, 640, 640)\n",
            "\n",
            "image 1/1 /content/Fruits_Dataset/images/train/f7ddd3ff-banana_44.jpg: 640x640 1 banana, 40.4ms\n",
            "Speed: 4.3ms preprocess, 40.4ms inference, 3.4ms postprocess per image at shape (1, 3, 640, 640)\n",
            "\n",
            "image 1/1 /content/Fruits_Dataset/images/train/258f2ecb-apple_15.jpg: 640x544 1 apple, 95.6ms\n",
            "Speed: 4.7ms preprocess, 95.6ms inference, 3.8ms postprocess per image at shape (1, 3, 640, 544)\n",
            "\n",
            "image 1/1 /content/Fruits_Dataset/images/train/03955da6-download_1.jpeg: 448x640 1 apple, 39.7ms\n",
            "Speed: 2.9ms preprocess, 39.7ms inference, 3.9ms postprocess per image at shape (1, 3, 448, 640)\n",
            "\n",
            "image 1/1 /content/Fruits_Dataset/images/train/848b426f-apple_17.jpg: 288x640 3 apples, 113.5ms\n",
            "Speed: 1.6ms preprocess, 113.5ms inference, 3.7ms postprocess per image at shape (1, 3, 288, 640)\n",
            "\n",
            "image 1/1 /content/Fruits_Dataset/images/train/98a48283-banana_47.jpg: 640x640 1 banana, 37.8ms\n",
            "Speed: 4.5ms preprocess, 37.8ms inference, 4.1ms postprocess per image at shape (1, 3, 640, 640)\n",
            "\n",
            "image 1/1 /content/Fruits_Dataset/images/train/f3fc5f32-apple_18.jpg: 640x640 1 apple, 37.6ms\n",
            "Speed: 4.8ms preprocess, 37.6ms inference, 4.2ms postprocess per image at shape (1, 3, 640, 640)\n",
            "\n",
            "image 1/1 /content/Fruits_Dataset/images/train/e75557e2-apple_20.jpg: 640x640 1 apple, 38.8ms\n",
            "Speed: 4.3ms preprocess, 38.8ms inference, 4.1ms postprocess per image at shape (1, 3, 640, 640)\n",
            "\n",
            "image 1/1 /content/Fruits_Dataset/images/val/58f55406-banana_30.jpg: 640x640 1 banana, 44.6ms\n",
            "Speed: 5.3ms preprocess, 44.6ms inference, 4.0ms postprocess per image at shape (1, 3, 640, 640)\n",
            "\n",
            "image 1/1 /content/Fruits_Dataset/images/val/2b196056-apple_22.jpg: 448x640 2 apples, 42.3ms\n",
            "Speed: 3.1ms preprocess, 42.3ms inference, 4.0ms postprocess per image at shape (1, 3, 448, 640)\n",
            "\n",
            "image 1/1 /content/Fruits_Dataset/images/val/14ce52fe-apple_19.jpg: 608x640 1 apple, 79.7ms\n",
            "Speed: 4.4ms preprocess, 79.7ms inference, 2.5ms postprocess per image at shape (1, 3, 608, 640)\n",
            "\n",
            "image 1/1 /content/Fruits_Dataset/images/val/d5ae9bee-banana_41.jpg: 640x640 1 banana, 31.4ms\n",
            "Speed: 4.0ms preprocess, 31.4ms inference, 2.3ms postprocess per image at shape (1, 3, 640, 640)\n",
            "\n",
            "image 1/1 /content/Fruits_Dataset/images/test/0fdfd4a5-pngtree-banana-yellow-fruit-banana-skewers-png-image_5944324.jpeg: 384x640 5 bananas, 22.5ms\n",
            "Speed: 1.5ms preprocess, 22.5ms inference, 2.2ms postprocess per image at shape (1, 3, 384, 640)\n",
            "\n",
            "image 1/1 /content/Fruits_Dataset/images/test/e0f3c760-banana_42.jpg: 640x640 1 banana, 34.7ms\n",
            "Speed: 4.1ms preprocess, 34.7ms inference, 2.2ms postprocess per image at shape (1, 3, 640, 640)\n",
            "\n",
            "image 1/1 /content/Fruits_Dataset/images/test/9a9fcd93-apple_12.jpg: 608x640 1 apple, 43.8ms\n",
            "Speed: 4.5ms preprocess, 43.8ms inference, 2.1ms postprocess per image at shape (1, 3, 608, 640)\n",
            "\n",
            "image 1/1 /content/Fruits_Dataset/images/test/aaed0808-banana_46.jpg: 640x640 2 bananas, 33.1ms\n",
            "Speed: 3.6ms preprocess, 33.1ms inference, 2.2ms postprocess per image at shape (1, 3, 640, 640)\n",
            "✅ Regression dataset created with 73 samples.\n",
            "📦 Training CNN regressor with callbacks...\n",
            "[Epoch 1] Train Loss: 27996.9813 | Val Loss: 27163.6191 | MAE: 163.43 | R²: -58.543\n",
            "[Epoch 2] Train Loss: 27583.1369 | Val Loss: 26930.6758 | MAE: 162.72 | R²: -58.033\n",
            "[Epoch 3] Train Loss: 27214.1078 | Val Loss: 26594.4922 | MAE: 161.69 | R²: -57.296\n",
            "[Epoch 4] Train Loss: 26916.6714 | Val Loss: 26235.7793 | MAE: 160.57 | R²: -56.510\n",
            "[Epoch 5] Train Loss: 26674.5358 | Val Loss: 25991.5332 | MAE: 159.81 | R²: -55.974\n",
            "[Epoch 6] Train Loss: 26486.4236 | Val Loss: 25816.3691 | MAE: 159.26 | R²: -55.590\n",
            "[Epoch 7] Train Loss: 26282.9375 | Val Loss: 25667.3301 | MAE: 158.82 | R²: -55.263\n",
            "[Epoch 8] Train Loss: 26117.1404 | Val Loss: 25503.3945 | MAE: 158.33 | R²: -54.904\n",
            "[Epoch 9] Train Loss: 25964.5453 | Val Loss: 25315.1465 | MAE: 157.73 | R²: -54.491\n",
            "[Epoch 10] Train Loss: 25851.9780 | Val Loss: 25150.0137 | MAE: 157.20 | R²: -54.130\n",
            "[Epoch 11] Train Loss: 25705.0651 | Val Loss: 25020.5762 | MAE: 156.77 | R²: -53.846\n",
            "[Epoch 12] Train Loss: 25591.5060 | Val Loss: 24888.1641 | MAE: 156.34 | R²: -53.556\n",
            "[Epoch 13] Train Loss: 25501.7386 | Val Loss: 24770.3535 | MAE: 155.96 | R²: -53.297\n",
            "[Epoch 14] Train Loss: 25374.2327 | Val Loss: 24679.1367 | MAE: 155.66 | R²: -53.097\n",
            "[Epoch 15] Train Loss: 25267.2464 | Val Loss: 24572.5996 | MAE: 155.32 | R²: -52.864\n",
            "[Epoch 16] Train Loss: 25168.3441 | Val Loss: 24404.8008 | MAE: 154.78 | R²: -52.496\n",
            "[Epoch 17] Train Loss: 25098.6154 | Val Loss: 24310.4629 | MAE: 154.48 | R²: -52.289\n",
            "[Epoch 18] Train Loss: 25000.4339 | Val Loss: 24202.3242 | MAE: 154.13 | R²: -52.052\n",
            "[Epoch 19] Train Loss: 24907.2938 | Val Loss: 24108.2637 | MAE: 153.82 | R²: -51.846\n",
            "[Epoch 20] Train Loss: 24814.3668 | Val Loss: 24065.6328 | MAE: 153.69 | R²: -51.753\n",
            "[Epoch 21] Train Loss: 24737.9716 | Val Loss: 24008.9082 | MAE: 153.50 | R²: -51.628\n",
            "[Epoch 22] Train Loss: 24649.0131 | Val Loss: 23905.7812 | MAE: 153.16 | R²: -51.402\n",
            "[Epoch 23] Train Loss: 24613.5573 | Val Loss: 23784.4922 | MAE: 152.76 | R²: -51.136\n",
            "[Epoch 24] Train Loss: 24477.3189 | Val Loss: 23727.0254 | MAE: 152.57 | R²: -51.010\n",
            "[Epoch 25] Train Loss: 24401.3205 | Val Loss: 23623.2441 | MAE: 152.23 | R²: -50.783\n",
            "[Epoch 26] Train Loss: 24355.3030 | Val Loss: 23553.1934 | MAE: 152.00 | R²: -50.629\n",
            "[Epoch 27] Train Loss: 24277.2544 | Val Loss: 23476.5449 | MAE: 151.75 | R²: -50.461\n",
            "[Epoch 28] Train Loss: 24202.5455 | Val Loss: 23441.0664 | MAE: 151.63 | R²: -50.383\n",
            "[Epoch 29] Train Loss: 24073.8343 | Val Loss: 23359.4668 | MAE: 151.36 | R²: -50.205\n",
            "[Epoch 30] Train Loss: 24042.5365 | Val Loss: 23230.9297 | MAE: 150.94 | R²: -49.923\n",
            "[Epoch 31] Train Loss: 23935.0351 | Val Loss: 23104.9902 | MAE: 150.52 | R²: -49.647\n",
            "[Epoch 32] Train Loss: 23838.2231 | Val Loss: 23035.5488 | MAE: 150.29 | R²: -49.495\n",
            "[Epoch 33] Train Loss: 23796.8487 | Val Loss: 22941.0391 | MAE: 149.97 | R²: -49.287\n",
            "[Epoch 34] Train Loss: 23750.8621 | Val Loss: 22823.5742 | MAE: 149.58 | R²: -49.030\n",
            "[Epoch 35] Train Loss: 23643.2389 | Val Loss: 22795.5801 | MAE: 149.49 | R²: -48.969\n",
            "[Epoch 36] Train Loss: 23560.6753 | Val Loss: 22763.0449 | MAE: 149.37 | R²: -48.897\n",
            "[Epoch 37] Train Loss: 23480.4479 | Val Loss: 22659.9629 | MAE: 149.02 | R²: -48.671\n",
            "[Epoch 38] Train Loss: 23438.8807 | Val Loss: 22571.6191 | MAE: 148.73 | R²: -48.478\n",
            "[Epoch 39] Train Loss: 23347.5808 | Val Loss: 22575.1582 | MAE: 148.75 | R²: -48.485\n",
            "[Epoch 40] Train Loss: 23261.5853 | Val Loss: 22556.3984 | MAE: 148.70 | R²: -48.444\n",
            "[Epoch 41] Train Loss: 23189.7021 | Val Loss: 22434.0703 | MAE: 148.29 | R²: -48.176\n",
            "[Epoch 42] Train Loss: 23104.0478 | Val Loss: 22366.7754 | MAE: 148.06 | R²: -48.029\n",
            "[Epoch 43] Train Loss: 23032.2411 | Val Loss: 22293.4512 | MAE: 147.81 | R²: -47.868\n",
            "[Epoch 44] Train Loss: 22967.7021 | Val Loss: 22133.2402 | MAE: 147.26 | R²: -47.517\n",
            "[Epoch 45] Train Loss: 22898.9641 | Val Loss: 22013.8965 | MAE: 146.84 | R²: -47.255\n",
            "[Epoch 46] Train Loss: 22820.7084 | Val Loss: 21969.6582 | MAE: 146.68 | R²: -47.158\n",
            "[Epoch 47] Train Loss: 22730.2392 | Val Loss: 21955.2441 | MAE: 146.64 | R²: -47.126\n",
            "[Epoch 48] Train Loss: 22715.1333 | Val Loss: 21896.4277 | MAE: 146.44 | R²: -46.998\n",
            "[Epoch 49] Train Loss: 22586.9268 | Val Loss: 21800.7520 | MAE: 146.13 | R²: -46.788\n",
            "[Epoch 50] Train Loss: 22532.0357 | Val Loss: 21705.6035 | MAE: 145.82 | R²: -46.579\n",
            "[Epoch 51] Train Loss: 22437.4057 | Val Loss: 21653.5059 | MAE: 145.64 | R²: -46.465\n",
            "[Epoch 52] Train Loss: 22377.8658 | Val Loss: 21594.5430 | MAE: 145.43 | R²: -46.336\n",
            "[Epoch 53] Train Loss: 22324.0601 | Val Loss: 21555.5059 | MAE: 145.29 | R²: -46.250\n",
            "[Epoch 54] Train Loss: 22199.6033 | Val Loss: 21467.9297 | MAE: 144.98 | R²: -46.058\n",
            "[Epoch 55] Train Loss: 22143.1043 | Val Loss: 21267.5137 | MAE: 144.28 | R²: -45.619\n",
            "[Epoch 56] Train Loss: 22121.6294 | Val Loss: 21214.1367 | MAE: 144.10 | R²: -45.502\n",
            "[Epoch 57] Train Loss: 21980.0558 | Val Loss: 21241.1289 | MAE: 144.19 | R²: -45.561\n",
            "[Epoch 58] Train Loss: 21938.6861 | Val Loss: 21185.5742 | MAE: 144.00 | R²: -45.439\n",
            "[Epoch 59] Train Loss: 21877.2171 | Val Loss: 21074.7910 | MAE: 143.62 | R²: -45.197\n",
            "[Epoch 60] Train Loss: 21767.1551 | Val Loss: 21113.7441 | MAE: 143.76 | R²: -45.282\n",
            "[Epoch 61] Train Loss: 21690.6486 | Val Loss: 20967.8223 | MAE: 143.25 | R²: -44.962\n",
            "[Epoch 62] Train Loss: 21641.2685 | Val Loss: 20810.3184 | MAE: 142.69 | R²: -44.617\n",
            "[Epoch 63] Train Loss: 21553.2445 | Val Loss: 20733.2246 | MAE: 142.41 | R²: -44.448\n",
            "[Epoch 64] Train Loss: 21513.7391 | Val Loss: 20712.6855 | MAE: 142.34 | R²: -44.403\n",
            "[Epoch 65] Train Loss: 21412.1041 | Val Loss: 20722.4980 | MAE: 142.39 | R²: -44.424\n",
            "[Epoch 66] Train Loss: 21339.4019 | Val Loss: 20620.2754 | MAE: 142.05 | R²: -44.200\n",
            "[Epoch 67] Train Loss: 21259.5055 | Val Loss: 20579.5293 | MAE: 141.92 | R²: -44.111\n",
            "[Epoch 68] Train Loss: 21207.9143 | Val Loss: 20486.6602 | MAE: 141.59 | R²: -43.907\n",
            "[Epoch 69] Train Loss: 21105.3795 | Val Loss: 20337.2227 | MAE: 141.06 | R²: -43.580\n",
            "[Epoch 70] Train Loss: 21081.9714 | Val Loss: 20230.2812 | MAE: 140.65 | R²: -43.345\n",
            "[Epoch 71] Train Loss: 20964.4005 | Val Loss: 20064.4668 | MAE: 140.06 | R²: -42.982\n",
            "[Epoch 72] Train Loss: 20885.8610 | Val Loss: 19908.9121 | MAE: 139.47 | R²: -42.641\n",
            "[Epoch 73] Train Loss: 20820.5709 | Val Loss: 20014.3555 | MAE: 139.89 | R²: -42.872\n",
            "[Epoch 74] Train Loss: 20752.5783 | Val Loss: 20056.8086 | MAE: 140.06 | R²: -42.965\n",
            "[Epoch 75] Train Loss: 20679.8219 | Val Loss: 20022.3184 | MAE: 139.93 | R²: -42.889\n",
            "[Epoch 76] Train Loss: 20584.4630 | Val Loss: 19738.0273 | MAE: 138.92 | R²: -42.266\n",
            "[Epoch 77] Train Loss: 20546.3293 | Val Loss: 19771.6133 | MAE: 139.05 | R²: -42.340\n",
            "[Epoch 78] Train Loss: 20468.4355 | Val Loss: 19858.4434 | MAE: 139.35 | R²: -42.530\n",
            "[Epoch 79] Train Loss: 20371.4572 | Val Loss: 19764.9473 | MAE: 139.03 | R²: -42.325\n",
            "[Epoch 80] Train Loss: 20282.3382 | Val Loss: 19573.1680 | MAE: 138.34 | R²: -41.905\n",
            "[Epoch 81] Train Loss: 20203.5061 | Val Loss: 19348.5977 | MAE: 137.51 | R²: -41.413\n",
            "[Epoch 82] Train Loss: 20117.9910 | Val Loss: 19328.9863 | MAE: 137.45 | R²: -41.370\n",
            "[Epoch 83] Train Loss: 20046.2046 | Val Loss: 19386.1914 | MAE: 137.66 | R²: -41.495\n",
            "[Epoch 84] Train Loss: 19976.6989 | Val Loss: 19352.6621 | MAE: 137.57 | R²: -41.422\n",
            "[Epoch 85] Train Loss: 19861.1454 | Val Loss: 19188.5508 | MAE: 136.97 | R²: -41.062\n",
            "[Epoch 86] Train Loss: 19825.0394 | Val Loss: 19052.3398 | MAE: 136.46 | R²: -40.763\n",
            "[Epoch 87] Train Loss: 19729.8671 | Val Loss: 18971.2266 | MAE: 136.13 | R²: -40.585\n",
            "[Epoch 88] Train Loss: 19642.6453 | Val Loss: 18895.2793 | MAE: 135.86 | R²: -40.419\n",
            "[Epoch 89] Train Loss: 19568.5555 | Val Loss: 18668.1875 | MAE: 135.01 | R²: -39.921\n",
            "[Epoch 90] Train Loss: 19493.7160 | Val Loss: 18742.7910 | MAE: 135.28 | R²: -40.085\n",
            "[Epoch 91] Train Loss: 19443.7277 | Val Loss: 18928.5117 | MAE: 136.00 | R²: -40.492\n",
            "[Epoch 92] Train Loss: 19333.2581 | Val Loss: 18645.9375 | MAE: 134.93 | R²: -39.872\n",
            "[Epoch 93] Train Loss: 19278.4263 | Val Loss: 18469.0078 | MAE: 134.28 | R²: -39.485\n",
            "[Epoch 94] Train Loss: 19174.6289 | Val Loss: 18367.2539 | MAE: 133.88 | R²: -39.262\n",
            "[Epoch 95] Train Loss: 19095.6611 | Val Loss: 18246.6387 | MAE: 133.37 | R²: -38.997\n",
            "[Epoch 96] Train Loss: 19036.7855 | Val Loss: 18260.0566 | MAE: 133.50 | R²: -39.027\n",
            "[Epoch 97] Train Loss: 18966.9409 | Val Loss: 18336.3066 | MAE: 133.83 | R²: -39.194\n",
            "[Epoch 98] Train Loss: 18855.0183 | Val Loss: 18229.3086 | MAE: 133.48 | R²: -38.959\n",
            "[Epoch 99] Train Loss: 18778.6680 | Val Loss: 18078.6133 | MAE: 132.90 | R²: -38.629\n",
            "[Epoch 100] Train Loss: 18708.8547 | Val Loss: 18075.7441 | MAE: 132.88 | R²: -38.623\n",
            "[Epoch 101] Train Loss: 18649.2654 | Val Loss: 17995.8926 | MAE: 132.53 | R²: -38.447\n",
            "[Epoch 102] Train Loss: 18552.7626 | Val Loss: 17660.7598 | MAE: 131.27 | R²: -37.713\n",
            "[Epoch 103] Train Loss: 18448.8052 | Val Loss: 17841.9336 | MAE: 132.00 | R²: -38.110\n",
            "[Epoch 104] Train Loss: 18404.4878 | Val Loss: 18016.7910 | MAE: 132.69 | R²: -38.493\n",
            "[Epoch 105] Train Loss: 18280.9278 | Val Loss: 17574.3535 | MAE: 130.98 | R²: -37.523\n",
            "[Epoch 106] Train Loss: 18209.7602 | Val Loss: 17384.7461 | MAE: 130.25 | R²: -37.108\n",
            "[Epoch 107] Train Loss: 18127.8373 | Val Loss: 17594.3984 | MAE: 131.08 | R²: -37.567\n",
            "[Epoch 108] Train Loss: 18053.7626 | Val Loss: 17409.0117 | MAE: 130.35 | R²: -37.161\n",
            "[Epoch 109] Train Loss: 17974.9124 | Val Loss: 17324.0078 | MAE: 130.01 | R²: -36.975\n",
            "[Epoch 110] Train Loss: 17896.5483 | Val Loss: 17387.4883 | MAE: 130.31 | R²: -37.114\n",
            "[Epoch 111] Train Loss: 17800.3289 | Val Loss: 17080.6152 | MAE: 129.13 | R²: -36.441\n",
            "[Epoch 112] Train Loss: 17712.7624 | Val Loss: 17103.7832 | MAE: 129.21 | R²: -36.492\n",
            "[Epoch 113] Train Loss: 17626.8180 | Val Loss: 17112.2988 | MAE: 129.27 | R²: -36.511\n",
            "[Epoch 114] Train Loss: 17558.8862 | Val Loss: 16989.9590 | MAE: 128.78 | R²: -36.242\n",
            "[Epoch 115] Train Loss: 17476.1094 | Val Loss: 16871.3945 | MAE: 128.31 | R²: -35.983\n",
            "[Epoch 116] Train Loss: 17392.8726 | Val Loss: 16789.4492 | MAE: 128.01 | R²: -35.803\n",
            "[Epoch 117] Train Loss: 17337.7173 | Val Loss: 16511.6172 | MAE: 126.93 | R²: -35.194\n",
            "[Epoch 118] Train Loss: 17246.4787 | Val Loss: 16481.2949 | MAE: 126.80 | R²: -35.127\n",
            "[Epoch 119] Train Loss: 17148.9861 | Val Loss: 16473.3398 | MAE: 126.78 | R²: -35.110\n",
            "[Epoch 120] Train Loss: 17099.0933 | Val Loss: 16517.2910 | MAE: 126.96 | R²: -35.206\n",
            "[Epoch 121] Train Loss: 17008.0082 | Val Loss: 16311.4570 | MAE: 126.17 | R²: -34.755\n",
            "[Epoch 122] Train Loss: 16906.5614 | Val Loss: 16045.1699 | MAE: 125.12 | R²: -34.171\n",
            "[Epoch 123] Train Loss: 16829.8596 | Val Loss: 16076.4648 | MAE: 125.28 | R²: -34.240\n",
            "[Epoch 124] Train Loss: 16733.5479 | Val Loss: 15967.9531 | MAE: 124.84 | R²: -34.002\n",
            "[Epoch 125] Train Loss: 16659.9444 | Val Loss: 15997.8389 | MAE: 124.93 | R²: -34.068\n",
            "[Epoch 126] Train Loss: 16593.9048 | Val Loss: 16188.1602 | MAE: 125.69 | R²: -34.485\n",
            "[Epoch 127] Train Loss: 16480.8949 | Val Loss: 16055.9541 | MAE: 125.20 | R²: -34.195\n",
            "[Epoch 128] Train Loss: 16406.7258 | Val Loss: 15676.8799 | MAE: 123.59 | R²: -33.364\n",
            "[Epoch 129] Train Loss: 16323.3756 | Val Loss: 15888.8525 | MAE: 124.53 | R²: -33.829\n",
            "[Epoch 130] Train Loss: 16249.4009 | Val Loss: 15775.1221 | MAE: 124.06 | R²: -33.579\n",
            "[Epoch 131] Train Loss: 16166.7341 | Val Loss: 15571.2871 | MAE: 123.26 | R²: -33.133\n",
            "[Epoch 132] Train Loss: 16062.6117 | Val Loss: 15317.3711 | MAE: 122.24 | R²: -32.576\n",
            "[Epoch 133] Train Loss: 15985.1234 | Val Loss: 15448.8906 | MAE: 122.78 | R²: -32.864\n",
            "[Epoch 134] Train Loss: 15903.5271 | Val Loss: 15262.0107 | MAE: 121.99 | R²: -32.455\n",
            "[Epoch 135] Train Loss: 15836.3060 | Val Loss: 15571.3066 | MAE: 123.28 | R²: -33.133\n",
            "[Epoch 136] Train Loss: 15726.0361 | Val Loss: 15169.6650 | MAE: 121.68 | R²: -32.252\n",
            "[Epoch 137] Train Loss: 15647.2506 | Val Loss: 15348.2383 | MAE: 122.48 | R²: -32.644\n",
            "[Epoch 138] Train Loss: 15607.5948 | Val Loss: 14937.8584 | MAE: 120.77 | R²: -31.744\n",
            "[Epoch 139] Train Loss: 15500.4702 | Val Loss: 14823.0498 | MAE: 120.22 | R²: -31.493\n",
            "[Epoch 140] Train Loss: 15384.5428 | Val Loss: 14525.1855 | MAE: 118.99 | R²: -30.840\n",
            "[Epoch 141] Train Loss: 15315.8348 | Val Loss: 14362.2754 | MAE: 118.23 | R²: -30.482\n",
            "[Epoch 142] Train Loss: 15213.7489 | Val Loss: 14475.1387 | MAE: 118.77 | R²: -30.730\n",
            "[Epoch 143] Train Loss: 15151.4925 | Val Loss: 14798.1602 | MAE: 120.19 | R²: -31.438\n",
            "[Epoch 144] Train Loss: 15022.2600 | Val Loss: 14491.5850 | MAE: 118.84 | R²: -30.766\n",
            "[Epoch 145] Train Loss: 14938.4849 | Val Loss: 14482.9971 | MAE: 118.82 | R²: -30.747\n",
            "[Epoch 146] Train Loss: 14880.6085 | Val Loss: 14580.0244 | MAE: 119.31 | R²: -30.960\n",
            "[Epoch 147] Train Loss: 14778.9423 | Val Loss: 14151.5996 | MAE: 117.53 | R²: -30.021\n",
            "[Epoch 148] Train Loss: 14693.7498 | Val Loss: 14169.1855 | MAE: 117.51 | R²: -30.059\n",
            "[Epoch 149] Train Loss: 14610.5984 | Val Loss: 14154.1631 | MAE: 117.48 | R²: -30.026\n",
            "[Epoch 150] Train Loss: 14537.8128 | Val Loss: 13973.9746 | MAE: 116.72 | R²: -29.631\n",
            "[Epoch 151] Train Loss: 14445.6682 | Val Loss: 13798.7979 | MAE: 115.94 | R²: -29.247\n",
            "[Epoch 152] Train Loss: 14342.2774 | Val Loss: 13808.8955 | MAE: 115.97 | R²: -29.269\n",
            "[Epoch 153] Train Loss: 14267.9865 | Val Loss: 13608.9463 | MAE: 115.07 | R²: -28.831\n",
            "[Epoch 154] Train Loss: 14164.2152 | Val Loss: 13186.9033 | MAE: 113.21 | R²: -27.906\n",
            "[Epoch 155] Train Loss: 14108.3665 | Val Loss: 13243.6465 | MAE: 113.48 | R²: -28.030\n",
            "[Epoch 156] Train Loss: 14043.5354 | Val Loss: 13367.6729 | MAE: 113.90 | R²: -28.302\n",
            "[Epoch 157] Train Loss: 13938.3718 | Val Loss: 13733.7314 | MAE: 115.59 | R²: -29.105\n",
            "[Epoch 158] Train Loss: 13849.8828 | Val Loss: 13968.2861 | MAE: 116.82 | R²: -29.619\n",
            "[Epoch 159] Train Loss: 13784.4006 | Val Loss: 13535.9219 | MAE: 114.80 | R²: -28.671\n",
            "[Epoch 160] Train Loss: 13752.3491 | Val Loss: 13838.5117 | MAE: 116.13 | R²: -29.334\n",
            "[Epoch 161] Train Loss: 13642.9970 | Val Loss: 12742.1523 | MAE: 111.09 | R²: -26.931\n",
            "[Epoch 162] Train Loss: 13538.7508 | Val Loss: 13587.1855 | MAE: 115.23 | R²: -28.783\n",
            "[Epoch 163] Train Loss: 13454.2791 | Val Loss: 13270.5732 | MAE: 113.72 | R²: -28.089\n",
            "[Epoch 164] Train Loss: 13395.8910 | Val Loss: 13321.1025 | MAE: 114.10 | R²: -28.200\n",
            "[Epoch 165] Train Loss: 13296.5092 | Val Loss: 12993.7764 | MAE: 112.69 | R²: -27.483\n",
            "[Epoch 166] Train Loss: 13204.2153 | Val Loss: 13034.6084 | MAE: 112.89 | R²: -27.572\n",
            "[Epoch 167] Train Loss: 13100.4769 | Val Loss: 12242.4463 | MAE: 109.20 | R²: -25.836\n",
            "[Epoch 168] Train Loss: 13021.8374 | Val Loss: 12682.0850 | MAE: 110.96 | R²: -26.799\n",
            "[Epoch 169] Train Loss: 12945.0785 | Val Loss: 12720.3643 | MAE: 111.26 | R²: -26.883\n",
            "[Epoch 170] Train Loss: 12852.6600 | Val Loss: 11857.1299 | MAE: 107.21 | R²: -24.991\n",
            "[Epoch 171] Train Loss: 12758.2005 | Val Loss: 11767.7207 | MAE: 106.82 | R²: -24.795\n",
            "[Epoch 172] Train Loss: 12677.0722 | Val Loss: 12123.8965 | MAE: 108.59 | R²: -25.576\n",
            "[Epoch 173] Train Loss: 12581.4726 | Val Loss: 12716.4775 | MAE: 111.46 | R²: -26.875\n",
            "[Epoch 174] Train Loss: 12492.8970 | Val Loss: 12349.2656 | MAE: 109.60 | R²: -26.070\n",
            "[Epoch 175] Train Loss: 12423.1054 | Val Loss: 12299.5498 | MAE: 109.47 | R²: -25.961\n",
            "[Epoch 176] Train Loss: 12314.0849 | Val Loss: 11987.0176 | MAE: 108.16 | R²: -25.276\n",
            "[Epoch 177] Train Loss: 12249.8839 | Val Loss: 11617.5723 | MAE: 106.20 | R²: -24.466\n",
            "[Epoch 178] Train Loss: 12155.1969 | Val Loss: 11728.0898 | MAE: 106.75 | R²: -24.708\n",
            "[Epoch 179] Train Loss: 12076.9306 | Val Loss: 11363.3398 | MAE: 105.00 | R²: -23.909\n",
            "[Epoch 180] Train Loss: 11978.5383 | Val Loss: 11239.9629 | MAE: 104.66 | R²: -23.638\n",
            "[Epoch 181] Train Loss: 11897.6392 | Val Loss: 11324.0469 | MAE: 104.75 | R²: -23.823\n",
            "[Epoch 182] Train Loss: 11820.0283 | Val Loss: 11452.8652 | MAE: 105.57 | R²: -24.105\n",
            "[Epoch 183] Train Loss: 11732.3958 | Val Loss: 11243.4541 | MAE: 104.65 | R²: -23.646\n",
            "[Epoch 184] Train Loss: 11632.3085 | Val Loss: 11135.5928 | MAE: 104.22 | R²: -23.410\n",
            "[Epoch 185] Train Loss: 11557.9666 | Val Loss: 11352.6025 | MAE: 105.07 | R²: -23.885\n",
            "[Epoch 186] Train Loss: 11483.3538 | Val Loss: 10902.9326 | MAE: 103.02 | R²: -22.900\n",
            "[Epoch 187] Train Loss: 11387.6992 | Val Loss: 10591.2148 | MAE: 101.41 | R²: -22.216\n",
            "[Epoch 188] Train Loss: 11332.8085 | Val Loss: 10766.9980 | MAE: 102.10 | R²: -22.602\n",
            "[Epoch 189] Train Loss: 11221.4257 | Val Loss: 10699.3291 | MAE: 101.87 | R²: -22.453\n",
            "[Epoch 190] Train Loss: 11149.7104 | Val Loss: 10491.3135 | MAE: 100.72 | R²: -21.997\n",
            "[Epoch 191] Train Loss: 11064.9324 | Val Loss: 10659.0898 | MAE: 101.81 | R²: -22.365\n",
            "[Epoch 192] Train Loss: 10969.2134 | Val Loss: 10251.5361 | MAE: 99.52 | R²: -21.472\n",
            "[Epoch 193] Train Loss: 10894.4160 | Val Loss: 10533.2705 | MAE: 101.32 | R²: -22.089\n",
            "[Epoch 194] Train Loss: 10813.4698 | Val Loss: 10449.5254 | MAE: 100.92 | R²: -21.906\n",
            "[Epoch 195] Train Loss: 10715.3508 | Val Loss: 10175.4873 | MAE: 99.33 | R²: -21.305\n",
            "[Epoch 196] Train Loss: 10641.9384 | Val Loss: 10162.7998 | MAE: 99.42 | R²: -21.277\n",
            "[Epoch 197] Train Loss: 10592.4968 | Val Loss: 9952.3115 | MAE: 98.35 | R²: -20.816\n",
            "[Epoch 198] Train Loss: 10507.4842 | Val Loss: 9693.6963 | MAE: 96.96 | R²: -20.249\n",
            "[Epoch 199] Train Loss: 10412.8616 | Val Loss: 9923.0684 | MAE: 97.58 | R²: -20.752\n",
            "[Epoch 200] Train Loss: 10332.1658 | Val Loss: 9741.5088 | MAE: 96.79 | R²: -20.354\n",
            "[Epoch 201] Train Loss: 10238.1667 | Val Loss: 9991.6729 | MAE: 98.63 | R²: -20.902\n",
            "[Epoch 202] Train Loss: 10166.1613 | Val Loss: 9637.3281 | MAE: 96.58 | R²: -20.125\n",
            "[Epoch 203] Train Loss: 10075.6417 | Val Loss: 9791.2051 | MAE: 97.49 | R²: -20.463\n",
            "[Epoch 204] Train Loss: 10010.8231 | Val Loss: 9961.6885 | MAE: 98.36 | R²: -20.836\n",
            "[Epoch 205] Train Loss: 9954.7722 | Val Loss: 9532.5371 | MAE: 96.31 | R²: -19.896\n",
            "[Epoch 206] Train Loss: 9872.5956 | Val Loss: 9457.0762 | MAE: 95.84 | R²: -19.730\n",
            "[Epoch 207] Train Loss: 9783.5339 | Val Loss: 9622.7842 | MAE: 96.74 | R²: -20.093\n",
            "[Epoch 208] Train Loss: 9718.3292 | Val Loss: 9570.6816 | MAE: 96.54 | R²: -19.979\n",
            "[Epoch 209] Train Loss: 9617.2438 | Val Loss: 9347.3398 | MAE: 95.38 | R²: -19.490\n",
            "[Epoch 210] Train Loss: 9557.9079 | Val Loss: 9099.4150 | MAE: 94.05 | R²: -18.946\n",
            "[Epoch 211] Train Loss: 9486.0110 | Val Loss: 9320.8066 | MAE: 95.11 | R²: -19.431\n",
            "[Epoch 212] Train Loss: 9399.6062 | Val Loss: 9408.6465 | MAE: 95.84 | R²: -19.624\n",
            "[Epoch 213] Train Loss: 9299.4287 | Val Loss: 9039.7119 | MAE: 93.88 | R²: -18.815\n",
            "[Epoch 214] Train Loss: 9246.4400 | Val Loss: 8931.5039 | MAE: 93.15 | R²: -18.578\n",
            "[Epoch 215] Train Loss: 9165.1359 | Val Loss: 8798.4805 | MAE: 92.23 | R²: -18.287\n",
            "[Epoch 216] Train Loss: 9088.1519 | Val Loss: 8768.0762 | MAE: 92.23 | R²: -18.220\n",
            "[Epoch 217] Train Loss: 9021.3930 | Val Loss: 8544.3945 | MAE: 91.02 | R²: -17.730\n",
            "[Epoch 218] Train Loss: 8968.1685 | Val Loss: 8517.7197 | MAE: 90.49 | R²: -17.671\n",
            "[Epoch 219] Train Loss: 8882.1843 | Val Loss: 8404.8965 | MAE: 89.90 | R²: -17.424\n",
            "[Epoch 220] Train Loss: 8815.7449 | Val Loss: 8633.7812 | MAE: 91.64 | R²: -17.925\n",
            "[Epoch 221] Train Loss: 8697.1118 | Val Loss: 8111.1333 | MAE: 88.74 | R²: -16.780\n",
            "[Epoch 222] Train Loss: 8645.8012 | Val Loss: 8193.8613 | MAE: 88.88 | R²: -16.961\n",
            "[Epoch 223] Train Loss: 8566.4053 | Val Loss: 8539.1738 | MAE: 90.96 | R²: -17.718\n",
            "[Epoch 224] Train Loss: 8489.6767 | Val Loss: 8246.6934 | MAE: 89.25 | R²: -17.077\n",
            "[Epoch 225] Train Loss: 8389.5340 | Val Loss: 7741.5420 | MAE: 86.46 | R²: -15.970\n",
            "[Epoch 226] Train Loss: 8332.8928 | Val Loss: 7816.8135 | MAE: 86.86 | R²: -16.135\n",
            "[Epoch 227] Train Loss: 8248.8223 | Val Loss: 7948.8125 | MAE: 88.06 | R²: -16.424\n",
            "[Epoch 228] Train Loss: 8164.6072 | Val Loss: 7601.0952 | MAE: 85.77 | R²: -15.662\n",
            "[Epoch 229] Train Loss: 8087.8979 | Val Loss: 8097.0488 | MAE: 88.68 | R²: -16.749\n",
            "[Epoch 230] Train Loss: 8011.8457 | Val Loss: 7734.7749 | MAE: 86.70 | R²: -15.955\n",
            "[Epoch 231] Train Loss: 7923.1576 | Val Loss: 7077.2510 | MAE: 82.73 | R²: -14.514\n",
            "[Epoch 232] Train Loss: 7852.3269 | Val Loss: 7360.7402 | MAE: 84.47 | R²: -15.135\n",
            "[Epoch 233] Train Loss: 7795.1718 | Val Loss: 7683.2944 | MAE: 86.42 | R²: -15.842\n",
            "[Epoch 234] Train Loss: 7726.5892 | Val Loss: 7319.3530 | MAE: 84.29 | R²: -15.044\n",
            "[Epoch 235] Train Loss: 7655.7417 | Val Loss: 7257.3188 | MAE: 83.72 | R²: -14.908\n",
            "[Epoch 236] Train Loss: 7593.3375 | Val Loss: 7473.1392 | MAE: 85.08 | R²: -15.381\n",
            "[Epoch 237] Train Loss: 7487.1734 | Val Loss: 7085.1177 | MAE: 83.01 | R²: -14.531\n",
            "[Epoch 238] Train Loss: 7420.8479 | Val Loss: 6841.6973 | MAE: 81.06 | R²: -13.997\n",
            "[Epoch 239] Train Loss: 7333.9380 | Val Loss: 7306.8828 | MAE: 84.25 | R²: -15.017\n",
            "[Epoch 240] Train Loss: 7312.8439 | Val Loss: 7362.4248 | MAE: 84.70 | R²: -15.139\n",
            "[Epoch 241] Train Loss: 7187.2110 | Val Loss: 6674.1235 | MAE: 80.32 | R²: -13.630\n",
            "[Epoch 242] Train Loss: 7108.0765 | Val Loss: 6762.1416 | MAE: 81.04 | R²: -13.823\n",
            "[Epoch 243] Train Loss: 7041.2329 | Val Loss: 6831.3159 | MAE: 81.41 | R²: -13.974\n",
            "[Epoch 244] Train Loss: 6979.5004 | Val Loss: 6622.4521 | MAE: 79.83 | R²: -13.517\n",
            "[Epoch 245] Train Loss: 6917.7989 | Val Loss: 6694.5303 | MAE: 80.17 | R²: -13.675\n",
            "[Epoch 246] Train Loss: 6838.3649 | Val Loss: 6754.0747 | MAE: 80.75 | R²: -13.805\n",
            "[Epoch 247] Train Loss: 6790.5945 | Val Loss: 6926.5127 | MAE: 82.21 | R²: -14.183\n",
            "[Epoch 248] Train Loss: 6696.1237 | Val Loss: 6458.2720 | MAE: 79.30 | R²: -13.157\n",
            "[Epoch 249] Train Loss: 6610.6476 | Val Loss: 6447.8662 | MAE: 79.17 | R²: -13.134\n",
            "[Epoch 250] Train Loss: 6551.2876 | Val Loss: 6214.2549 | MAE: 77.58 | R²: -12.622\n",
            "[Epoch 251] Train Loss: 6475.7475 | Val Loss: 6099.6240 | MAE: 76.88 | R²: -12.371\n",
            "[Epoch 252] Train Loss: 6387.4969 | Val Loss: 6190.3135 | MAE: 77.49 | R²: -12.569\n",
            "[Epoch 253] Train Loss: 6342.2228 | Val Loss: 6431.8481 | MAE: 79.14 | R²: -13.099\n",
            "[Epoch 254] Train Loss: 6261.1389 | Val Loss: 6190.1831 | MAE: 77.48 | R²: -12.569\n",
            "[Epoch 255] Train Loss: 6199.4253 | Val Loss: 6183.7788 | MAE: 77.46 | R²: -12.555\n",
            "[Epoch 256] Train Loss: 6129.3418 | Val Loss: 5989.6689 | MAE: 76.15 | R²: -12.130\n",
            "[Epoch 257] Train Loss: 6060.2889 | Val Loss: 5906.8892 | MAE: 75.56 | R²: -11.948\n",
            "[Epoch 258] Train Loss: 6006.1174 | Val Loss: 6120.4219 | MAE: 77.23 | R²: -12.416\n",
            "[Epoch 259] Train Loss: 5934.0517 | Val Loss: 5704.9644 | MAE: 74.17 | R²: -11.505\n",
            "[Epoch 260] Train Loss: 5862.4412 | Val Loss: 5630.9346 | MAE: 73.49 | R²: -11.343\n",
            "[Epoch 261] Train Loss: 5844.2204 | Val Loss: 6081.9014 | MAE: 76.80 | R²: -12.332\n",
            "[Epoch 262] Train Loss: 5755.5355 | Val Loss: 5602.7754 | MAE: 73.68 | R²: -11.281\n",
            "[Epoch 263] Train Loss: 5654.8093 | Val Loss: 5402.5825 | MAE: 72.10 | R²: -10.843\n",
            "[Epoch 264] Train Loss: 5598.9756 | Val Loss: 5831.6792 | MAE: 75.22 | R²: -11.783\n",
            "[Epoch 265] Train Loss: 5529.3622 | Val Loss: 5464.0703 | MAE: 72.66 | R²: -10.977\n",
            "[Epoch 266] Train Loss: 5453.4576 | Val Loss: 4984.1787 | MAE: 69.05 | R²: -9.925\n",
            "[Epoch 267] Train Loss: 5393.3507 | Val Loss: 5072.2095 | MAE: 69.70 | R²: -10.118\n",
            "[Epoch 268] Train Loss: 5338.7216 | Val Loss: 5251.6724 | MAE: 71.22 | R²: -10.512\n",
            "[Epoch 269] Train Loss: 5278.2649 | Val Loss: 5029.3647 | MAE: 69.26 | R²: -10.025\n",
            "[Epoch 270] Train Loss: 5205.5376 | Val Loss: 4952.9751 | MAE: 68.97 | R²: -9.857\n",
            "[Epoch 271] Train Loss: 5153.5081 | Val Loss: 4908.5786 | MAE: 68.72 | R²: -9.760\n",
            "[Epoch 272] Train Loss: 5146.4176 | Val Loss: 4946.5283 | MAE: 69.09 | R²: -9.843\n",
            "[Epoch 273] Train Loss: 5147.5689 | Val Loss: 4607.7046 | MAE: 66.27 | R²: -9.100\n",
            "[Epoch 274] Train Loss: 5114.8785 | Val Loss: 4293.2832 | MAE: 63.77 | R²: -8.411\n",
            "[Epoch 275] Train Loss: 5032.5513 | Val Loss: 4325.0913 | MAE: 64.31 | R²: -8.481\n",
            "[Epoch 276] Train Loss: 4947.0562 | Val Loss: 4063.1536 | MAE: 62.11 | R²: -7.907\n",
            "[Epoch 277] Train Loss: 4883.7472 | Val Loss: 4603.6606 | MAE: 66.13 | R²: -9.091\n",
            "[Epoch 278] Train Loss: 4825.1463 | Val Loss: 4561.1343 | MAE: 66.03 | R²: -8.998\n",
            "[Epoch 279] Train Loss: 4733.0895 | Val Loss: 4291.5591 | MAE: 63.82 | R²: -8.407\n",
            "[Epoch 280] Train Loss: 4665.7344 | Val Loss: 5041.3740 | MAE: 69.90 | R²: -10.051\n",
            "[Epoch 281] Train Loss: 4599.2977 | Val Loss: 4612.5928 | MAE: 66.42 | R²: -9.111\n",
            "[Epoch 282] Train Loss: 4566.2933 | Val Loss: 5171.8389 | MAE: 70.36 | R²: -10.337\n",
            "[Epoch 283] Train Loss: 4481.1525 | Val Loss: 5507.0176 | MAE: 72.81 | R²: -11.072\n",
            "[Epoch 284] Train Loss: 4433.1440 | Val Loss: 4984.4380 | MAE: 69.11 | R²: -9.926\n",
            "[Epoch 285] Train Loss: 4402.7468 | Val Loss: 3928.0168 | MAE: 61.58 | R²: -7.610\n",
            "[Epoch 286] Train Loss: 4304.1830 | Val Loss: 4162.9849 | MAE: 62.95 | R²: -8.125\n",
            "[Epoch 287] Train Loss: 4258.1648 | Val Loss: 4442.3042 | MAE: 65.07 | R²: -8.738\n",
            "[Epoch 288] Train Loss: 4188.6610 | Val Loss: 4268.4639 | MAE: 64.21 | R²: -8.357\n",
            "[Epoch 289] Train Loss: 4155.4510 | Val Loss: 4055.3391 | MAE: 62.44 | R²: -7.889\n",
            "[Epoch 290] Train Loss: 4100.0237 | Val Loss: 4188.8423 | MAE: 63.03 | R²: -8.182\n",
            "[Epoch 291] Train Loss: 4039.4405 | Val Loss: 4280.5010 | MAE: 63.79 | R²: -8.383\n",
            "[Epoch 292] Train Loss: 3986.1981 | Val Loss: 4094.8389 | MAE: 62.58 | R²: -7.976\n",
            "[Epoch 293] Train Loss: 3932.1271 | Val Loss: 3826.6096 | MAE: 60.70 | R²: -7.388\n",
            "[Epoch 294] Train Loss: 3878.0384 | Val Loss: 3699.2004 | MAE: 59.84 | R²: -7.109\n",
            "[Epoch 295] Train Loss: 3828.7949 | Val Loss: 3675.8313 | MAE: 59.53 | R²: -7.058\n",
            "[Epoch 296] Train Loss: 3806.6885 | Val Loss: 3657.2795 | MAE: 59.19 | R²: -7.017\n",
            "[Epoch 297] Train Loss: 3724.7879 | Val Loss: 3639.2983 | MAE: 59.04 | R²: -6.977\n",
            "[Epoch 298] Train Loss: 3685.9152 | Val Loss: 3474.6577 | MAE: 57.46 | R²: -6.617\n",
            "[Epoch 299] Train Loss: 3640.9450 | Val Loss: 3523.1216 | MAE: 57.79 | R²: -6.723\n",
            "[Epoch 300] Train Loss: 3586.0389 | Val Loss: 3352.0325 | MAE: 56.46 | R²: -6.348\n",
            "[Epoch 301] Train Loss: 3560.4094 | Val Loss: 3136.9717 | MAE: 53.71 | R²: -5.876\n",
            "[Epoch 302] Train Loss: 3518.6050 | Val Loss: 3379.9988 | MAE: 56.34 | R²: -6.409\n",
            "[Epoch 303] Train Loss: 3487.7823 | Val Loss: 3686.7942 | MAE: 59.49 | R²: -7.082\n",
            "[Epoch 304] Train Loss: 3406.7084 | Val Loss: 3371.3987 | MAE: 57.19 | R²: -6.390\n",
            "[Epoch 305] Train Loss: 3371.8310 | Val Loss: 3196.5242 | MAE: 55.67 | R²: -6.007\n",
            "[Epoch 306] Train Loss: 3311.6359 | Val Loss: 3336.6431 | MAE: 56.69 | R²: -6.314\n",
            "[Epoch 307] Train Loss: 3263.2783 | Val Loss: 3288.5195 | MAE: 55.90 | R²: -6.209\n",
            "[Epoch 308] Train Loss: 3236.6823 | Val Loss: 3255.5415 | MAE: 55.75 | R²: -6.136\n",
            "[Epoch 309] Train Loss: 3202.1748 | Val Loss: 3279.9861 | MAE: 56.28 | R²: -6.190\n",
            "[Epoch 310] Train Loss: 3150.9549 | Val Loss: 2739.2034 | MAE: 51.00 | R²: -5.004\n",
            "[Epoch 311] Train Loss: 3123.8526 | Val Loss: 3165.8357 | MAE: 55.07 | R²: -5.940\n",
            "[Epoch 312] Train Loss: 3065.6158 | Val Loss: 3421.7400 | MAE: 57.20 | R²: -6.501\n",
            "[Epoch 313] Train Loss: 3036.1109 | Val Loss: 2882.2688 | MAE: 51.86 | R²: -5.318\n",
            "[Epoch 314] Train Loss: 2986.3245 | Val Loss: 2909.4763 | MAE: 52.62 | R²: -5.378\n",
            "[Epoch 315] Train Loss: 2944.7764 | Val Loss: 2637.2131 | MAE: 49.77 | R²: -4.781\n",
            "[Epoch 316] Train Loss: 2886.4632 | Val Loss: 2602.1814 | MAE: 49.02 | R²: -4.704\n",
            "[Epoch 317] Train Loss: 2871.6938 | Val Loss: 2809.0894 | MAE: 50.98 | R²: -5.158\n",
            "[Epoch 318] Train Loss: 2817.0408 | Val Loss: 2694.3816 | MAE: 49.95 | R²: -4.906\n",
            "[Epoch 319] Train Loss: 2809.3675 | Val Loss: 2558.1091 | MAE: 48.92 | R²: -4.607\n",
            "[Epoch 320] Train Loss: 2732.7930 | Val Loss: 2405.0049 | MAE: 47.73 | R²: -4.272\n",
            "[Epoch 321] Train Loss: 2702.1257 | Val Loss: 2472.3108 | MAE: 48.52 | R²: -4.419\n",
            "[Epoch 322] Train Loss: 2689.5287 | Val Loss: 2722.5349 | MAE: 50.98 | R²: -4.968\n",
            "[Epoch 323] Train Loss: 2613.4631 | Val Loss: 2590.4417 | MAE: 49.37 | R²: -4.678\n",
            "[Epoch 324] Train Loss: 2603.0843 | Val Loss: 2408.9600 | MAE: 47.38 | R²: -4.281\n",
            "[Epoch 325] Train Loss: 2568.8828 | Val Loss: 2469.6819 | MAE: 48.06 | R²: -4.414\n",
            "[Epoch 326] Train Loss: 2527.6352 | Val Loss: 2620.4155 | MAE: 49.87 | R²: -4.744\n",
            "[Epoch 327] Train Loss: 2504.6465 | Val Loss: 2200.2874 | MAE: 45.02 | R²: -3.823\n",
            "[Epoch 328] Train Loss: 2465.0916 | Val Loss: 2165.4832 | MAE: 44.91 | R²: -3.747\n",
            "[Epoch 329] Train Loss: 2424.6971 | Val Loss: 2386.1982 | MAE: 47.32 | R²: -4.231\n",
            "[Epoch 330] Train Loss: 2383.3511 | Val Loss: 2349.9187 | MAE: 46.91 | R²: -4.151\n",
            "[Epoch 331] Train Loss: 2362.5199 | Val Loss: 2422.7781 | MAE: 47.78 | R²: -4.311\n",
            "[Epoch 332] Train Loss: 2315.0414 | Val Loss: 2320.9502 | MAE: 46.78 | R²: -4.088\n",
            "[Epoch 333] Train Loss: 2304.4862 | Val Loss: 2080.7800 | MAE: 43.71 | R²: -3.561\n",
            "[Epoch 334] Train Loss: 2266.4780 | Val Loss: 2049.5540 | MAE: 43.36 | R²: -3.493\n",
            "[Epoch 335] Train Loss: 2228.6342 | Val Loss: 2256.4568 | MAE: 46.01 | R²: -3.946\n",
            "[Epoch 336] Train Loss: 2198.1571 | Val Loss: 2132.6470 | MAE: 44.43 | R²: -3.675\n",
            "[Epoch 337] Train Loss: 2173.9296 | Val Loss: 2257.7605 | MAE: 45.78 | R²: -3.949\n",
            "[Epoch 338] Train Loss: 2122.6454 | Val Loss: 2138.5095 | MAE: 44.30 | R²: -3.688\n",
            "[Epoch 339] Train Loss: 2091.4797 | Val Loss: 1952.2811 | MAE: 42.58 | R²: -3.279\n",
            "[Epoch 340] Train Loss: 2060.3067 | Val Loss: 1885.8239 | MAE: 41.68 | R²: -3.134\n",
            "[Epoch 341] Train Loss: 2041.5808 | Val Loss: 1829.4399 | MAE: 40.89 | R²: -3.010\n",
            "[Epoch 342] Train Loss: 1992.2360 | Val Loss: 1754.7169 | MAE: 40.29 | R²: -2.846\n",
            "[Epoch 343] Train Loss: 1976.6387 | Val Loss: 1671.8124 | MAE: 39.25 | R²: -2.665\n",
            "[Epoch 344] Train Loss: 1949.0187 | Val Loss: 1894.9054 | MAE: 41.79 | R²: -3.154\n",
            "[Epoch 345] Train Loss: 1909.7832 | Val Loss: 1974.9995 | MAE: 42.73 | R²: -3.329\n",
            "[Epoch 346] Train Loss: 1913.6062 | Val Loss: 1899.9309 | MAE: 41.86 | R²: -3.165\n",
            "[Epoch 347] Train Loss: 1882.2686 | Val Loss: 1837.9995 | MAE: 41.85 | R²: -3.029\n",
            "[Epoch 348] Train Loss: 1863.9838 | Val Loss: 1882.9861 | MAE: 42.25 | R²: -3.128\n",
            "[Epoch 349] Train Loss: 1815.6823 | Val Loss: 1922.2684 | MAE: 41.60 | R²: -3.214\n",
            "[Epoch 350] Train Loss: 1777.8039 | Val Loss: 1698.7040 | MAE: 39.51 | R²: -2.724\n",
            "[Epoch 351] Train Loss: 1753.2424 | Val Loss: 1573.5809 | MAE: 38.32 | R²: -2.449\n",
            "[Epoch 352] Train Loss: 1726.4816 | Val Loss: 1504.5925 | MAE: 37.26 | R²: -2.298\n",
            "[Epoch 353] Train Loss: 1713.7019 | Val Loss: 1356.6244 | MAE: 35.09 | R²: -1.974\n",
            "[Epoch 354] Train Loss: 1696.2906 | Val Loss: 1558.3583 | MAE: 37.58 | R²: -2.416\n",
            "[Epoch 355] Train Loss: 1662.2852 | Val Loss: 1682.4810 | MAE: 39.26 | R²: -2.688\n",
            "[Epoch 356] Train Loss: 1634.4533 | Val Loss: 1622.1047 | MAE: 38.75 | R²: -2.556\n",
            "[Epoch 357] Train Loss: 1605.1907 | Val Loss: 1571.7628 | MAE: 38.00 | R²: -2.445\n",
            "[Epoch 358] Train Loss: 1590.0591 | Val Loss: 1556.7056 | MAE: 37.89 | R²: -2.412\n",
            "[Epoch 359] Train Loss: 1556.2903 | Val Loss: 1510.2517 | MAE: 37.47 | R²: -2.311\n",
            "[Epoch 360] Train Loss: 1543.3992 | Val Loss: 1435.8069 | MAE: 36.49 | R²: -2.147\n",
            "[Epoch 361] Train Loss: 1510.3871 | Val Loss: 1439.6571 | MAE: 36.41 | R²: -2.156\n",
            "[Epoch 362] Train Loss: 1481.6253 | Val Loss: 1452.9391 | MAE: 36.48 | R²: -2.185\n",
            "[Epoch 363] Train Loss: 1468.1365 | Val Loss: 1270.3406 | MAE: 34.46 | R²: -1.785\n",
            "[Epoch 364] Train Loss: 1441.4438 | Val Loss: 1316.2616 | MAE: 35.01 | R²: -1.885\n",
            "[Epoch 365] Train Loss: 1432.9394 | Val Loss: 1459.3602 | MAE: 36.57 | R²: -2.199\n",
            "[Epoch 366] Train Loss: 1394.6504 | Val Loss: 1339.5353 | MAE: 35.30 | R²: -1.936\n",
            "[Epoch 367] Train Loss: 1403.5046 | Val Loss: 1283.0905 | MAE: 34.32 | R²: -1.813\n",
            "[Epoch 368] Train Loss: 1380.8070 | Val Loss: 1351.2155 | MAE: 35.41 | R²: -1.962\n",
            "[Epoch 369] Train Loss: 1351.5337 | Val Loss: 1181.0190 | MAE: 33.40 | R²: -1.589\n",
            "[Epoch 370] Train Loss: 1394.6143 | Val Loss: 1062.6964 | MAE: 31.76 | R²: -1.329\n",
            "[Epoch 371] Train Loss: 1475.6443 | Val Loss: 1210.4310 | MAE: 34.32 | R²: -1.653\n",
            "[Epoch 372] Train Loss: 1478.2332 | Val Loss: 1625.5446 | MAE: 38.69 | R²: -2.563\n",
            "[Epoch 373] Train Loss: 1420.1124 | Val Loss: 1974.8929 | MAE: 43.44 | R²: -3.329\n",
            "[Epoch 374] Train Loss: 1370.7738 | Val Loss: 2154.2378 | MAE: 44.72 | R²: -3.722\n",
            "[Epoch 375] Train Loss: 1334.2342 | Val Loss: 1921.2791 | MAE: 41.76 | R²: -3.211\n",
            "[Epoch 376] Train Loss: 1319.8690 | Val Loss: 2103.0571 | MAE: 43.18 | R²: -3.610\n",
            "[Epoch 377] Train Loss: 1256.5032 | Val Loss: 1683.3688 | MAE: 39.25 | R²: -2.690\n",
            "[Epoch 378] Train Loss: 1262.5263 | Val Loss: 1336.3625 | MAE: 35.13 | R²: -1.929\n",
            "[Epoch 379] Train Loss: 1246.5206 | Val Loss: 1281.1890 | MAE: 34.35 | R²: -1.808\n",
            "[Epoch 380] Train Loss: 1188.1105 | Val Loss: 1285.9673 | MAE: 34.51 | R²: -1.819\n",
            "[Epoch 381] Train Loss: 1186.3199 | Val Loss: 1228.3700 | MAE: 33.83 | R²: -1.693\n",
            "[Epoch 382] Train Loss: 1135.8219 | Val Loss: 1099.9270 | MAE: 31.63 | R²: -1.411\n",
            "[Epoch 383] Train Loss: 1102.1478 | Val Loss: 1079.8021 | MAE: 30.43 | R²: -1.367\n",
            "[Epoch 384] Train Loss: 1104.1428 | Val Loss: 1079.8362 | MAE: 30.80 | R²: -1.367\n",
            "[Epoch 385] Train Loss: 1095.6448 | Val Loss: 1173.3661 | MAE: 32.38 | R²: -1.572\n",
            "[Epoch 386] Train Loss: 1049.7678 | Val Loss: 993.0240 | MAE: 30.33 | R²: -1.177\n",
            "[Epoch 387] Train Loss: 1050.5469 | Val Loss: 878.4313 | MAE: 28.16 | R²: -0.926\n",
            "[Epoch 388] Train Loss: 1013.9548 | Val Loss: 881.3105 | MAE: 28.33 | R²: -0.932\n",
            "[Epoch 389] Train Loss: 994.4112 | Val Loss: 833.3591 | MAE: 27.71 | R²: -0.827\n",
            "[Epoch 390] Train Loss: 981.0175 | Val Loss: 783.3818 | MAE: 26.85 | R²: -0.717\n",
            "[Epoch 391] Train Loss: 960.4776 | Val Loss: 797.7473 | MAE: 27.22 | R²: -0.749\n",
            "[Epoch 392] Train Loss: 954.2654 | Val Loss: 894.9755 | MAE: 28.98 | R²: -0.962\n",
            "[Epoch 393] Train Loss: 945.3983 | Val Loss: 916.4012 | MAE: 28.98 | R²: -1.009\n",
            "[Epoch 394] Train Loss: 924.9738 | Val Loss: 924.8394 | MAE: 29.45 | R²: -1.027\n",
            "[Epoch 395] Train Loss: 895.4119 | Val Loss: 989.5366 | MAE: 30.13 | R²: -1.169\n",
            "[Epoch 396] Train Loss: 894.2082 | Val Loss: 840.4154 | MAE: 27.98 | R²: -0.842\n",
            "[Epoch 397] Train Loss: 872.1191 | Val Loss: 804.3333 | MAE: 27.25 | R²: -0.763\n",
            "[Epoch 398] Train Loss: 848.6417 | Val Loss: 760.0588 | MAE: 26.29 | R²: -0.666\n",
            "[Epoch 399] Train Loss: 849.0316 | Val Loss: 901.4141 | MAE: 28.76 | R²: -0.976\n",
            "[Epoch 400] Train Loss: 843.2708 | Val Loss: 853.6281 | MAE: 27.98 | R²: -0.871\n",
            "[Epoch 401] Train Loss: 803.3697 | Val Loss: 774.6770 | MAE: 26.41 | R²: -0.698\n",
            "[Epoch 402] Train Loss: 797.3396 | Val Loss: 768.5004 | MAE: 26.03 | R²: -0.685\n",
            "[Epoch 403] Train Loss: 810.4327 | Val Loss: 628.6984 | MAE: 23.47 | R²: -0.378\n",
            "[Epoch 404] Train Loss: 794.4595 | Val Loss: 592.6700 | MAE: 22.83 | R²: -0.299\n",
            "[Epoch 405] Train Loss: 757.5037 | Val Loss: 810.4835 | MAE: 26.35 | R²: -0.777\n",
            "[Epoch 406] Train Loss: 759.1290 | Val Loss: 748.0178 | MAE: 26.01 | R²: -0.640\n",
            "[Epoch 407] Train Loss: 746.9901 | Val Loss: 593.5025 | MAE: 22.94 | R²: -0.301\n",
            "[Epoch 408] Train Loss: 730.5885 | Val Loss: 813.5801 | MAE: 25.96 | R²: -0.783\n",
            "[Epoch 409] Train Loss: 722.3654 | Val Loss: 814.6747 | MAE: 27.06 | R²: -0.786\n",
            "[Epoch 410] Train Loss: 698.0401 | Val Loss: 734.2432 | MAE: 25.62 | R²: -0.609\n",
            "[Epoch 411] Train Loss: 690.2963 | Val Loss: 719.9638 | MAE: 25.33 | R²: -0.578\n",
            "[Epoch 412] Train Loss: 671.4687 | Val Loss: 620.1228 | MAE: 23.87 | R²: -0.359\n",
            "[Epoch 413] Train Loss: 658.1401 | Val Loss: 499.5953 | MAE: 21.28 | R²: -0.095\n",
            "[Epoch 414] Train Loss: 654.2781 | Val Loss: 457.9835 | MAE: 20.21 | R²: -0.004\n",
            "[Epoch 415] Train Loss: 646.1515 | Val Loss: 616.0624 | MAE: 23.33 | R²: -0.350\n",
            "[Epoch 416] Train Loss: 629.1047 | Val Loss: 739.3662 | MAE: 25.91 | R²: -0.621\n",
            "[Epoch 417] Train Loss: 611.0124 | Val Loss: 542.0745 | MAE: 22.18 | R²: -0.188\n",
            "[Epoch 418] Train Loss: 614.6067 | Val Loss: 459.7439 | MAE: 20.33 | R²: -0.008\n",
            "[Epoch 419] Train Loss: 596.7206 | Val Loss: 532.4603 | MAE: 21.88 | R²: -0.167\n",
            "[Epoch 420] Train Loss: 588.2182 | Val Loss: 592.9330 | MAE: 22.96 | R²: -0.300\n",
            "[Epoch 421] Train Loss: 577.3600 | Val Loss: 617.3113 | MAE: 23.51 | R²: -0.353\n",
            "[Epoch 422] Train Loss: 567.0174 | Val Loss: 591.3596 | MAE: 23.37 | R²: -0.296\n",
            "[Epoch 423] Train Loss: 555.4691 | Val Loss: 550.0439 | MAE: 22.49 | R²: -0.206\n",
            "[Epoch 424] Train Loss: 565.8364 | Val Loss: 622.3604 | MAE: 23.72 | R²: -0.364\n",
            "[Epoch 425] Train Loss: 555.9181 | Val Loss: 790.1068 | MAE: 27.08 | R²: -0.732\n",
            "[Epoch 426] Train Loss: 542.2830 | Val Loss: 1061.6990 | MAE: 30.10 | R²: -1.327\n",
            "[Epoch 427] Train Loss: 520.8688 | Val Loss: 493.7877 | MAE: 21.04 | R²: -0.082\n",
            "[Epoch 428] Train Loss: 511.8574 | Val Loss: 451.1674 | MAE: 20.09 | R²: 0.011\n",
            "[Epoch 429] Train Loss: 518.1808 | Val Loss: 589.0051 | MAE: 23.06 | R²: -0.291\n",
            "[Epoch 430] Train Loss: 494.8647 | Val Loss: 615.3575 | MAE: 23.75 | R²: -0.349\n",
            "[Epoch 431] Train Loss: 492.2776 | Val Loss: 504.1768 | MAE: 21.41 | R²: -0.105\n",
            "[Epoch 432] Train Loss: 479.0495 | Val Loss: 427.8806 | MAE: 19.88 | R²: 0.062\n",
            "[Epoch 433] Train Loss: 459.8972 | Val Loss: 483.3492 | MAE: 21.01 | R²: -0.060\n",
            "[Epoch 434] Train Loss: 461.5187 | Val Loss: 514.5529 | MAE: 21.49 | R²: -0.128\n",
            "[Epoch 435] Train Loss: 463.3006 | Val Loss: 474.3055 | MAE: 20.93 | R²: -0.040\n",
            "[Epoch 436] Train Loss: 442.6737 | Val Loss: 484.7792 | MAE: 21.08 | R²: -0.063\n",
            "[Epoch 437] Train Loss: 459.7869 | Val Loss: 571.6567 | MAE: 22.70 | R²: -0.253\n",
            "[Epoch 438] Train Loss: 458.0176 | Val Loss: 491.1618 | MAE: 20.98 | R²: -0.077\n",
            "[Epoch 439] Train Loss: 433.9398 | Val Loss: 392.3156 | MAE: 19.14 | R²: 0.140\n",
            "[Epoch 440] Train Loss: 420.9292 | Val Loss: 584.7284 | MAE: 22.80 | R²: -0.282\n",
            "[Epoch 441] Train Loss: 396.8541 | Val Loss: 737.7952 | MAE: 25.42 | R²: -0.617\n",
            "[Epoch 442] Train Loss: 393.2208 | Val Loss: 555.6477 | MAE: 22.50 | R²: -0.218\n",
            "[Epoch 443] Train Loss: 387.2563 | Val Loss: 488.1439 | MAE: 20.96 | R²: -0.070\n",
            "[Epoch 444] Train Loss: 381.6653 | Val Loss: 427.8043 | MAE: 19.78 | R²: 0.062\n",
            "[Epoch 445] Train Loss: 371.0886 | Val Loss: 426.3170 | MAE: 19.71 | R²: 0.066\n",
            "[Epoch 446] Train Loss: 369.4966 | Val Loss: 467.2832 | MAE: 20.29 | R²: -0.024\n",
            "[Epoch 447] Train Loss: 366.4957 | Val Loss: 401.4517 | MAE: 18.86 | R²: 0.120\n",
            "[Epoch 448] Train Loss: 355.0465 | Val Loss: 297.3695 | MAE: 16.25 | R²: 0.348\n",
            "[Epoch 449] Train Loss: 346.1886 | Val Loss: 335.9321 | MAE: 17.51 | R²: 0.264\n",
            "[Epoch 450] Train Loss: 349.7614 | Val Loss: 297.4811 | MAE: 16.68 | R²: 0.348\n",
            "[Epoch 451] Train Loss: 333.4848 | Val Loss: 297.3627 | MAE: 16.47 | R²: 0.348\n",
            "[Epoch 452] Train Loss: 335.9039 | Val Loss: 464.1288 | MAE: 20.42 | R²: -0.017\n",
            "[Epoch 453] Train Loss: 327.6121 | Val Loss: 396.6919 | MAE: 18.74 | R²: 0.130\n",
            "[Epoch 454] Train Loss: 319.5428 | Val Loss: 284.5252 | MAE: 15.24 | R²: 0.376\n",
            "[Epoch 455] Train Loss: 339.3465 | Val Loss: 401.3460 | MAE: 18.28 | R²: 0.120\n",
            "[Epoch 456] Train Loss: 325.0981 | Val Loss: 416.2484 | MAE: 18.76 | R²: 0.088\n",
            "[Epoch 457] Train Loss: 329.4911 | Val Loss: 457.9423 | MAE: 19.75 | R²: -0.004\n",
            "[Epoch 458] Train Loss: 334.0982 | Val Loss: 462.7096 | MAE: 20.24 | R²: -0.014\n",
            "[Epoch 459] Train Loss: 298.6710 | Val Loss: 649.8425 | MAE: 23.95 | R²: -0.424\n",
            "[Epoch 460] Train Loss: 289.1013 | Val Loss: 693.0169 | MAE: 24.48 | R²: -0.519\n",
            "[Epoch 461] Train Loss: 286.4862 | Val Loss: 790.1562 | MAE: 25.92 | R²: -0.732\n",
            "[Epoch 462] Train Loss: 278.0605 | Val Loss: 509.5125 | MAE: 21.10 | R²: -0.117\n",
            "[Epoch 463] Train Loss: 277.6902 | Val Loss: 466.2236 | MAE: 20.29 | R²: -0.022\n",
            "[Epoch 464] Train Loss: 273.0506 | Val Loss: 515.3811 | MAE: 20.86 | R²: -0.130\n",
            "[Epoch 465] Train Loss: 271.0093 | Val Loss: 328.6673 | MAE: 16.79 | R²: 0.280\n",
            "[Epoch 466] Train Loss: 262.8481 | Val Loss: 416.1522 | MAE: 19.05 | R²: 0.088\n",
            "[Epoch 467] Train Loss: 255.6407 | Val Loss: 404.1452 | MAE: 18.64 | R²: 0.114\n",
            "[Epoch 468] Train Loss: 245.6514 | Val Loss: 329.4057 | MAE: 16.75 | R²: 0.278\n",
            "[Epoch 469] Train Loss: 249.7972 | Val Loss: 292.1100 | MAE: 15.30 | R²: 0.360\n",
            "[Epoch 470] Train Loss: 247.5593 | Val Loss: 342.0567 | MAE: 16.89 | R²: 0.250\n",
            "[Epoch 471] Train Loss: 230.8219 | Val Loss: 350.3377 | MAE: 16.82 | R²: 0.232\n",
            "[Epoch 472] Train Loss: 225.3838 | Val Loss: 337.6282 | MAE: 16.12 | R²: 0.260\n",
            "[Epoch 473] Train Loss: 232.4301 | Val Loss: 351.5998 | MAE: 16.33 | R²: 0.229\n",
            "[Epoch 474] Train Loss: 225.3788 | Val Loss: 424.1024 | MAE: 18.36 | R²: 0.070\n",
            "[Epoch 475] Train Loss: 218.0391 | Val Loss: 470.8618 | MAE: 19.51 | R²: -0.032\n",
            "[Epoch 476] Train Loss: 227.2357 | Val Loss: 328.1842 | MAE: 16.51 | R²: 0.281\n",
            "[Epoch 477] Train Loss: 221.3857 | Val Loss: 289.4126 | MAE: 15.78 | R²: 0.366\n",
            "[Epoch 478] Train Loss: 209.7218 | Val Loss: 395.3079 | MAE: 18.62 | R²: 0.133\n",
            "[Epoch 479] Train Loss: 198.0723 | Val Loss: 375.5631 | MAE: 18.20 | R²: 0.177\n",
            "[Epoch 480] Train Loss: 186.4886 | Val Loss: 352.8895 | MAE: 17.52 | R²: 0.226\n",
            "[Epoch 481] Train Loss: 208.1521 | Val Loss: 274.8598 | MAE: 15.17 | R²: 0.397\n",
            "[Epoch 482] Train Loss: 188.9898 | Val Loss: 291.4946 | MAE: 16.05 | R²: 0.361\n",
            "[Epoch 483] Train Loss: 180.6272 | Val Loss: 295.2012 | MAE: 16.12 | R²: 0.353\n",
            "[Epoch 484] Train Loss: 176.4962 | Val Loss: 305.5979 | MAE: 16.18 | R²: 0.330\n",
            "[Epoch 485] Train Loss: 181.3770 | Val Loss: 288.3771 | MAE: 15.79 | R²: 0.368\n",
            "[Epoch 486] Train Loss: 202.7469 | Val Loss: 253.6129 | MAE: 14.72 | R²: 0.444\n",
            "[Epoch 487] Train Loss: 167.6631 | Val Loss: 263.6757 | MAE: 14.64 | R²: 0.422\n",
            "[Epoch 488] Train Loss: 160.1294 | Val Loss: 252.0755 | MAE: 13.99 | R²: 0.447\n",
            "[Epoch 489] Train Loss: 160.5638 | Val Loss: 241.6489 | MAE: 13.82 | R²: 0.470\n",
            "[Epoch 490] Train Loss: 164.1181 | Val Loss: 221.4826 | MAE: 13.48 | R²: 0.515\n",
            "[Epoch 491] Train Loss: 164.7099 | Val Loss: 264.0931 | MAE: 14.93 | R²: 0.421\n",
            "[Epoch 492] Train Loss: 157.1815 | Val Loss: 314.7983 | MAE: 16.17 | R²: 0.310\n",
            "[Epoch 493] Train Loss: 172.7557 | Val Loss: 295.2313 | MAE: 15.34 | R²: 0.353\n",
            "[Epoch 494] Train Loss: 154.3379 | Val Loss: 347.7585 | MAE: 16.47 | R²: 0.238\n",
            "[Epoch 495] Train Loss: 149.0123 | Val Loss: 227.9075 | MAE: 12.78 | R²: 0.500\n",
            "[Epoch 496] Train Loss: 143.1823 | Val Loss: 265.1208 | MAE: 14.25 | R²: 0.419\n",
            "[Epoch 497] Train Loss: 147.5121 | Val Loss: 289.7903 | MAE: 15.07 | R²: 0.365\n",
            "[Epoch 498] Train Loss: 154.4794 | Val Loss: 320.0549 | MAE: 15.58 | R²: 0.298\n",
            "[Epoch 499] Train Loss: 139.6962 | Val Loss: 221.7487 | MAE: 12.39 | R²: 0.514\n",
            "[Epoch 500] Train Loss: 140.4557 | Val Loss: 239.8127 | MAE: 13.73 | R²: 0.474\n",
            "[Epoch 501] Train Loss: 145.9297 | Val Loss: 266.7400 | MAE: 14.36 | R²: 0.415\n",
            "[Epoch 502] Train Loss: 125.3012 | Val Loss: 216.8512 | MAE: 12.42 | R²: 0.525\n",
            "[Epoch 503] Train Loss: 137.4473 | Val Loss: 244.9528 | MAE: 13.42 | R²: 0.463\n",
            "[Epoch 504] Train Loss: 125.9638 | Val Loss: 197.4500 | MAE: 11.90 | R²: 0.567\n",
            "[Epoch 505] Train Loss: 136.1194 | Val Loss: 244.9042 | MAE: 13.88 | R²: 0.463\n",
            "[Epoch 506] Train Loss: 129.1454 | Val Loss: 314.6685 | MAE: 15.72 | R²: 0.310\n",
            "[Epoch 507] Train Loss: 128.7268 | Val Loss: 255.6423 | MAE: 14.22 | R²: 0.440\n",
            "[Epoch 508] Train Loss: 131.5744 | Val Loss: 173.9350 | MAE: 10.52 | R²: 0.619\n",
            "[Epoch 509] Train Loss: 131.3782 | Val Loss: 241.9986 | MAE: 13.41 | R²: 0.470\n",
            "[Epoch 510] Train Loss: 128.0516 | Val Loss: 300.6134 | MAE: 15.52 | R²: 0.341\n",
            "[Epoch 511] Train Loss: 115.4882 | Val Loss: 253.1948 | MAE: 14.18 | R²: 0.445\n",
            "[Epoch 512] Train Loss: 118.7134 | Val Loss: 214.6567 | MAE: 12.39 | R²: 0.529\n",
            "[Epoch 513] Train Loss: 109.0550 | Val Loss: 253.9515 | MAE: 14.16 | R²: 0.443\n",
            "[Epoch 514] Train Loss: 112.2589 | Val Loss: 202.5939 | MAE: 13.22 | R²: 0.556\n",
            "[Epoch 515] Train Loss: 105.8006 | Val Loss: 253.0642 | MAE: 15.05 | R²: 0.445\n",
            "[Epoch 516] Train Loss: 100.0367 | Val Loss: 258.8850 | MAE: 14.94 | R²: 0.433\n",
            "[Epoch 517] Train Loss: 102.3491 | Val Loss: 160.4288 | MAE: 11.59 | R²: 0.648\n",
            "[Epoch 518] Train Loss: 102.2305 | Val Loss: 163.3401 | MAE: 11.22 | R²: 0.642\n",
            "[Epoch 519] Train Loss: 106.0372 | Val Loss: 200.2167 | MAE: 12.55 | R²: 0.561\n",
            "[Epoch 520] Train Loss: 106.7667 | Val Loss: 171.9527 | MAE: 11.15 | R²: 0.623\n",
            "[Epoch 521] Train Loss: 90.3740 | Val Loss: 152.7969 | MAE: 10.39 | R²: 0.665\n",
            "[Epoch 522] Train Loss: 111.4596 | Val Loss: 139.1119 | MAE: 9.96 | R²: 0.695\n",
            "[Epoch 523] Train Loss: 96.4170 | Val Loss: 170.4760 | MAE: 11.35 | R²: 0.626\n",
            "[Epoch 524] Train Loss: 97.7400 | Val Loss: 166.8953 | MAE: 11.23 | R²: 0.634\n",
            "[Epoch 525] Train Loss: 96.6705 | Val Loss: 162.6649 | MAE: 10.97 | R²: 0.643\n",
            "[Epoch 526] Train Loss: 89.1212 | Val Loss: 193.7941 | MAE: 11.77 | R²: 0.575\n",
            "[Epoch 527] Train Loss: 95.6244 | Val Loss: 177.1145 | MAE: 11.35 | R²: 0.612\n",
            "[Epoch 528] Train Loss: 87.1824 | Val Loss: 168.3018 | MAE: 10.51 | R²: 0.631\n",
            "[Epoch 529] Train Loss: 84.0220 | Val Loss: 141.9696 | MAE: 9.33 | R²: 0.689\n",
            "[Epoch 530] Train Loss: 89.6287 | Val Loss: 167.6053 | MAE: 10.42 | R²: 0.633\n",
            "[Epoch 531] Train Loss: 79.9494 | Val Loss: 172.5439 | MAE: 10.80 | R²: 0.622\n",
            "[Epoch 532] Train Loss: 81.6023 | Val Loss: 146.5921 | MAE: 10.22 | R²: 0.679\n",
            "[Epoch 533] Train Loss: 80.2782 | Val Loss: 139.8990 | MAE: 9.97 | R²: 0.693\n",
            "[Epoch 534] Train Loss: 81.1611 | Val Loss: 153.4372 | MAE: 10.40 | R²: 0.664\n",
            "[Epoch 535] Train Loss: 88.0763 | Val Loss: 172.1125 | MAE: 11.01 | R²: 0.623\n",
            "[Epoch 536] Train Loss: 78.4857 | Val Loss: 147.8506 | MAE: 9.34 | R²: 0.676\n",
            "[Epoch 537] Train Loss: 78.6745 | Val Loss: 182.2212 | MAE: 11.10 | R²: 0.601\n",
            "[Epoch 538] Train Loss: 91.9934 | Val Loss: 129.8111 | MAE: 9.32 | R²: 0.715\n",
            "[Epoch 539] Train Loss: 72.2012 | Val Loss: 127.1699 | MAE: 9.89 | R²: 0.721\n",
            "[Epoch 540] Train Loss: 80.7621 | Val Loss: 155.6154 | MAE: 11.47 | R²: 0.659\n",
            "[Epoch 541] Train Loss: 76.5752 | Val Loss: 197.7494 | MAE: 12.73 | R²: 0.567\n",
            "[Epoch 542] Train Loss: 71.5332 | Val Loss: 139.5071 | MAE: 10.29 | R²: 0.694\n",
            "[Epoch 543] Train Loss: 76.4848 | Val Loss: 154.1930 | MAE: 10.75 | R²: 0.662\n",
            "[Epoch 544] Train Loss: 74.4581 | Val Loss: 264.7805 | MAE: 14.24 | R²: 0.420\n",
            "[Epoch 545] Train Loss: 73.2130 | Val Loss: 193.9567 | MAE: 12.90 | R²: 0.575\n",
            "[Epoch 546] Train Loss: 70.7174 | Val Loss: 132.9105 | MAE: 10.37 | R²: 0.709\n",
            "[Epoch 547] Train Loss: 71.2286 | Val Loss: 174.6271 | MAE: 11.52 | R²: 0.617\n",
            "[Epoch 548] Train Loss: 65.1567 | Val Loss: 136.5877 | MAE: 10.12 | R²: 0.701\n",
            "[Epoch 549] Train Loss: 68.3707 | Val Loss: 124.3888 | MAE: 9.93 | R²: 0.727\n",
            "[Epoch 550] Train Loss: 76.9503 | Val Loss: 161.2010 | MAE: 11.09 | R²: 0.647\n",
            "[Epoch 551] Train Loss: 76.4572 | Val Loss: 244.3774 | MAE: 12.85 | R²: 0.464\n",
            "[Epoch 552] Train Loss: 68.5725 | Val Loss: 108.2080 | MAE: 9.03 | R²: 0.763\n",
            "[Epoch 553] Train Loss: 59.7701 | Val Loss: 129.2365 | MAE: 9.86 | R²: 0.717\n",
            "[Epoch 554] Train Loss: 73.9042 | Val Loss: 176.4220 | MAE: 11.22 | R²: 0.613\n",
            "[Epoch 555] Train Loss: 65.0842 | Val Loss: 109.7288 | MAE: 8.99 | R²: 0.759\n",
            "[Epoch 556] Train Loss: 56.9967 | Val Loss: 131.2119 | MAE: 9.58 | R²: 0.712\n",
            "[Epoch 557] Train Loss: 58.7079 | Val Loss: 143.6966 | MAE: 9.79 | R²: 0.685\n",
            "[Epoch 558] Train Loss: 62.9172 | Val Loss: 135.8955 | MAE: 9.31 | R²: 0.702\n",
            "[Epoch 559] Train Loss: 52.9789 | Val Loss: 161.0960 | MAE: 10.24 | R²: 0.647\n",
            "[Epoch 560] Train Loss: 62.3892 | Val Loss: 213.7365 | MAE: 12.37 | R²: 0.531\n",
            "[Epoch 561] Train Loss: 59.1881 | Val Loss: 180.5436 | MAE: 11.58 | R²: 0.604\n",
            "[Epoch 562] Train Loss: 54.7982 | Val Loss: 157.4919 | MAE: 10.57 | R²: 0.655\n",
            "[Epoch 563] Train Loss: 48.8027 | Val Loss: 174.2536 | MAE: 10.66 | R²: 0.618\n",
            "[Epoch 564] Train Loss: 48.6563 | Val Loss: 210.1072 | MAE: 11.21 | R²: 0.539\n",
            "[Epoch 565] Train Loss: 63.1280 | Val Loss: 186.2295 | MAE: 10.22 | R²: 0.592\n",
            "[Epoch 566] Train Loss: 55.0317 | Val Loss: 157.8105 | MAE: 8.45 | R²: 0.654\n",
            "[Epoch 567] Train Loss: 63.9357 | Val Loss: 192.2455 | MAE: 10.21 | R²: 0.579\n",
            "[Epoch 568] Train Loss: 49.3466 | Val Loss: 158.5447 | MAE: 9.49 | R²: 0.652\n",
            "[Epoch 569] Train Loss: 58.4240 | Val Loss: 133.4766 | MAE: 9.23 | R²: 0.707\n",
            "[Epoch 570] Train Loss: 51.8511 | Val Loss: 171.0026 | MAE: 10.46 | R²: 0.625\n",
            "[Epoch 571] Train Loss: 51.8348 | Val Loss: 187.2936 | MAE: 10.40 | R²: 0.589\n",
            "[Epoch 572] Train Loss: 56.7998 | Val Loss: 153.5982 | MAE: 7.75 | R²: 0.663\n",
            "[Epoch 573] Train Loss: 54.9379 | Val Loss: 128.5835 | MAE: 6.89 | R²: 0.718\n",
            "[Epoch 574] Train Loss: 55.0997 | Val Loss: 141.4684 | MAE: 8.56 | R²: 0.690\n",
            "[Epoch 575] Train Loss: 51.0713 | Val Loss: 138.1524 | MAE: 8.87 | R²: 0.697\n",
            "[Epoch 576] Train Loss: 53.9328 | Val Loss: 167.5144 | MAE: 10.26 | R²: 0.633\n",
            "[Epoch 577] Train Loss: 53.4144 | Val Loss: 142.3443 | MAE: 9.53 | R²: 0.688\n",
            "[Epoch 578] Train Loss: 43.3316 | Val Loss: 121.4781 | MAE: 8.46 | R²: 0.734\n",
            "[Epoch 579] Train Loss: 47.1465 | Val Loss: 128.9864 | MAE: 8.66 | R²: 0.717\n",
            "[Epoch 580] Train Loss: 48.9521 | Val Loss: 203.6754 | MAE: 11.22 | R²: 0.554\n",
            "[Epoch 581] Train Loss: 39.4549 | Val Loss: 202.3175 | MAE: 11.00 | R²: 0.557\n",
            "[Epoch 582] Train Loss: 53.2866 | Val Loss: 216.6297 | MAE: 11.59 | R²: 0.525\n",
            "[Epoch 583] Train Loss: 51.6553 | Val Loss: 202.7657 | MAE: 10.90 | R²: 0.556\n",
            "[Epoch 584] Train Loss: 49.5274 | Val Loss: 222.1306 | MAE: 11.69 | R²: 0.513\n",
            "[Epoch 585] Train Loss: 56.1258 | Val Loss: 181.5501 | MAE: 9.56 | R²: 0.602\n",
            "[Epoch 586] Train Loss: 49.8814 | Val Loss: 188.6688 | MAE: 9.49 | R²: 0.586\n",
            "[Epoch 587] Train Loss: 47.2677 | Val Loss: 210.1013 | MAE: 9.69 | R²: 0.539\n",
            "[Epoch 588] Train Loss: 57.3037 | Val Loss: 181.8080 | MAE: 9.64 | R²: 0.601\n",
            "[Epoch 589] Train Loss: 51.7989 | Val Loss: 101.7878 | MAE: 7.63 | R²: 0.777\n",
            "[Epoch 590] Train Loss: 49.5074 | Val Loss: 69.9098 | MAE: 6.43 | R²: 0.847\n",
            "[Epoch 591] Train Loss: 70.5629 | Val Loss: 117.4342 | MAE: 8.15 | R²: 0.743\n",
            "[Epoch 592] Train Loss: 52.0607 | Val Loss: 193.2633 | MAE: 10.67 | R²: 0.576\n",
            "[Epoch 593] Train Loss: 51.7950 | Val Loss: 149.7832 | MAE: 7.48 | R²: 0.672\n",
            "[Epoch 594] Train Loss: 45.9278 | Val Loss: 123.5701 | MAE: 6.32 | R²: 0.729\n",
            "[Epoch 595] Train Loss: 57.7966 | Val Loss: 173.9872 | MAE: 9.51 | R²: 0.619\n",
            "[Epoch 596] Train Loss: 55.3412 | Val Loss: 163.0415 | MAE: 9.95 | R²: 0.643\n",
            "[Epoch 597] Train Loss: 50.5737 | Val Loss: 141.7432 | MAE: 9.14 | R²: 0.689\n",
            "[Epoch 598] Train Loss: 44.0391 | Val Loss: 180.2165 | MAE: 10.56 | R²: 0.605\n",
            "[Epoch 599] Train Loss: 44.8830 | Val Loss: 159.3387 | MAE: 9.49 | R²: 0.651\n",
            "[Epoch 600] Train Loss: 37.7478 | Val Loss: 154.5879 | MAE: 9.78 | R²: 0.661\n",
            "[Epoch 601] Train Loss: 53.5006 | Val Loss: 177.0845 | MAE: 11.27 | R²: 0.612\n",
            "[Epoch 602] Train Loss: 55.5180 | Val Loss: 341.9682 | MAE: 16.87 | R²: 0.250\n",
            "[Epoch 603] Train Loss: 43.2942 | Val Loss: 233.3181 | MAE: 12.99 | R²: 0.489\n",
            "[Epoch 604] Train Loss: 49.9176 | Val Loss: 182.2584 | MAE: 10.62 | R²: 0.600\n",
            "[Epoch 605] Train Loss: 39.4045 | Val Loss: 211.7710 | MAE: 12.14 | R²: 0.536\n",
            "[Epoch 606] Train Loss: 57.0176 | Val Loss: 187.5142 | MAE: 10.43 | R²: 0.589\n",
            "[Epoch 607] Train Loss: 45.2349 | Val Loss: 194.4783 | MAE: 10.63 | R²: 0.574\n",
            "[Epoch 608] Train Loss: 40.5189 | Val Loss: 217.3749 | MAE: 11.84 | R²: 0.524\n",
            "[Epoch 609] Train Loss: 44.8882 | Val Loss: 260.0720 | MAE: 13.31 | R²: 0.430\n",
            "[Epoch 610] Train Loss: 43.4646 | Val Loss: 207.6429 | MAE: 10.83 | R²: 0.545\n",
            "[Epoch 611] Train Loss: 51.5907 | Val Loss: 250.0541 | MAE: 12.09 | R²: 0.452\n",
            "[Epoch 612] Train Loss: 48.4385 | Val Loss: 243.3854 | MAE: 11.05 | R²: 0.466\n",
            "[Epoch 613] Train Loss: 38.3519 | Val Loss: 220.1701 | MAE: 9.57 | R²: 0.517\n",
            "[Epoch 614] Train Loss: 40.3339 | Val Loss: 193.1921 | MAE: 9.35 | R²: 0.577\n",
            "[Epoch 615] Train Loss: 61.6949 | Val Loss: 167.3072 | MAE: 8.63 | R²: 0.633\n",
            "[Epoch 616] Train Loss: 42.0195 | Val Loss: 186.3914 | MAE: 9.53 | R²: 0.591\n",
            "[Epoch 617] Train Loss: 57.2782 | Val Loss: 208.2086 | MAE: 10.85 | R²: 0.544\n",
            "[Epoch 618] Train Loss: 38.1821 | Val Loss: 169.5355 | MAE: 9.13 | R²: 0.628\n",
            "[Epoch 619] Train Loss: 37.5976 | Val Loss: 212.5666 | MAE: 10.90 | R²: 0.534\n",
            "[Epoch 620] Train Loss: 31.3876 | Val Loss: 212.7792 | MAE: 10.55 | R²: 0.534\n",
            "[Epoch 621] Train Loss: 39.0770 | Val Loss: 220.6942 | MAE: 10.29 | R²: 0.516\n",
            "[Epoch 622] Train Loss: 34.6598 | Val Loss: 215.9203 | MAE: 9.20 | R²: 0.527\n",
            "[Epoch 623] Train Loss: 72.6271 | Val Loss: 219.5561 | MAE: 8.74 | R²: 0.519\n",
            "[Epoch 624] Train Loss: 37.4385 | Val Loss: 265.2337 | MAE: 11.36 | R²: 0.419\n",
            "⛔ Early stopping at epoch 624\n",
            "\n",
            "✅ Best model saved to: regression_data/cnn_weight_regressor.pt\n",
            "\n",
            "📊 Final Evaluation:\n",
            "MAE: 6.32g\n",
            "R²:  0.7291\n"
          ]
        },
        {
          "name": "stderr",
          "output_type": "stream",
          "text": [
            "<ipython-input-4-98e55ad5d1c0>:245: UserWarning: Glyph 128201 (\\N{CHART WITH DOWNWARDS TREND}) missing from font(s) DejaVu Sans.\n",
            "  plt.tight_layout()\n",
            "<ipython-input-4-98e55ad5d1c0>:247: UserWarning: Glyph 128201 (\\N{CHART WITH DOWNWARDS TREND}) missing from font(s) DejaVu Sans.\n",
            "  plt.savefig(plot_path)\n",
            "/usr/local/lib/python3.11/dist-packages/IPython/core/pylabtools.py:151: UserWarning: Glyph 128201 (\\N{CHART WITH DOWNWARDS TREND}) missing from font(s) DejaVu Sans.\n",
            "  fig.canvas.print_figure(bytes_io, **kw)\n"
          ]
        },
        {
          "data": {
            "image/png": "[encoded data removed]",
            "text/plain": [
              "<Figure size 800x500 with 1 Axes>"
            ]
          },
          "metadata": {},
          "output_type": "display_data"
        },
        {
          "name": "stdout",
          "output_type": "stream",
          "text": [
            "📈 Training curve saved to: regression_data/cnn_training_curve.png\n",
            "🎉 Pipeline complete!\n"
          ]
        }
      ],
      "source": [
        "import os\n",
        "import cv2\n",
        "import torch\n",
        "import pandas as pd\n",
        "import numpy as np\n",
        "import matplotlib.pyplot as plt\n",
        "from pathlib import Path\n",
        "from ultralytics import YOLO\n",
        "from torchvision import transforms, models\n",
        "from torch.utils.data import Dataset, DataLoader, random_split\n",
        "from sklearn.metrics import mean_absolute_error, r2_score\n",
        "import torch.nn as nn\n",
        "import torch.optim as optim\n",
        "\n",
        "# ----------------- CONFIG -----------------\n",
        "# Set up all the main paths, filenames, and hyperparameters we'll use throughout the pipeline\n",
        "SPLIT_DIR = \"Data/Fruits_Dataset\"\n",
        "REG_DATA_DIR = \"regression_data\"\n",
        "MODEL_NAME = \"yolo11l-seg.pt\"\n",
        "YOLO_MODEL_SAVE = \"runs/segment/fruit_yolo_training/weights/best.pt\"\n",
        "CNN_MODEL_SAVE = f\"{REG_DATA_DIR}/cnn_weight_regressor.pt\"\n",
        "WEIGHTS_CSV = \"Data/weights.csv\"\n",
        "DATA_YAML = f\"{SPLIT_DIR}/fruit_data.yaml\"\n",
        "IMG_SIZE = 224\n",
        "YOLO_EPOCHS = 75\n",
        "EPOCHS = 1000\n",
        "BATCH_SIZE = 16\n",
        "LR = 1e-4\n",
        "DEVICE = torch.device(\"cuda\" if torch.cuda.is_available() else \"cpu\")\n",
        "\n",
        "# ----------------- STEP 1: TRAIN YOLOv11 -----------------\n",
        "# This function trains a YOLOv11 segmentation model on our fruit dataset\n",
        "def train_yolo():\n",
        "    # Download the YOLOv11 model weights if they're not already present\n",
        "    if not os.path.exists(MODEL_NAME) or os.path.getsize(MODEL_NAME) < 10_000_000:\n",
        "        print(f\"⬇️ Downloading {MODEL_NAME}...\")\n",
        "        YOLO(MODEL_NAME)  # auto-download\n",
        "    model = YOLO(MODEL_NAME)\n",
        "    # Start training the model using our dataset and settings\n",
        "    model.train(data=DATA_YAML, epochs=YOLO_EPOCHS, imgsz=640, name=\"fruit_yolo_training\", task=\"segment\")\n",
        "    print(f\"✅ YOLO model trained and saved to: {YOLO_MODEL_SAVE}\")\n",
        "\n",
        "# ----------------- STEP 2: EXTRACT REGRESSION DATA -----------------\n",
        "# This function uses the trained YOLO model to crop out each fruit and save it for regression\n",
        "def extract_regression_data():\n",
        "    os.makedirs(f\"{REG_DATA_DIR}/crops\", exist_ok=True)\n",
        "    weights_df = pd.read_csv(WEIGHTS_CSV)\n",
        "    model = YOLO(YOLO_MODEL_SAVE)\n",
        "\n",
        "    # Helper to get the weight for a specific fruit object in an image\n",
        "    def get_weight(img_name, obj_id):\n",
        "        match = weights_df[(weights_df[\"image_name\"] == img_name) & (weights_df[\"object_id\"] == obj_id)]\n",
        "        return float(match[\"weight\"].values[0]) if not match.empty else None\n",
        "\n",
        "    all_rows = []\n",
        "    for split in [\"train\", \"val\", \"test\"]:\n",
        "        img_dir = f\"{SPLIT_DIR}/images/{split}\"\n",
        "        for img_name in os.listdir(img_dir):\n",
        "            if not img_name.lower().endswith(('.jpg', '.jpeg', '.png', '.webp')):\n",
        "                continue\n",
        "\n",
        "            img_path = os.path.join(img_dir, img_name)\n",
        "            img = cv2.imread(img_path)\n",
        "            if img is None:\n",
        "                continue\n",
        "\n",
        "            # Run YOLO segmentation on the image\n",
        "            results = model(img_path, conf=0.25)[0]\n",
        "            boxes = results.boxes.xyxy.cpu().numpy() if results.boxes else []\n",
        "            masks = results.masks.data.cpu().numpy() if results.masks else []\n",
        "            class_ids = results.boxes.cls.cpu().numpy().astype(int) if results.boxes else []\n",
        "\n",
        "            # For each detected fruit, crop it out and save the crop and its info\n",
        "            for obj_id, (cls_id, box, mask) in enumerate(zip(class_ids, boxes, masks)):\n",
        "                x1, y1, x2, y2 = map(int, box)\n",
        "                crop = img[y1:y2, x1:x2]\n",
        "                if crop is None or crop.shape[0] == 0 or crop.shape[1] == 0:\n",
        "                    continue\n",
        "\n",
        "                mask_full = (mask * 255).astype(np.uint8)\n",
        "                mask_crop = mask_full[y1:y2, x1:x2]\n",
        "                if mask_crop is None or mask_crop.shape[0] == 0 or mask_crop.shape[1] == 0:\n",
        "                    continue\n",
        "\n",
        "                # Make sure the mask and crop are the same size\n",
        "                if mask_crop.shape[:2] != crop.shape[:2]:\n",
        "                    try:\n",
        "                        mask_crop = cv2.resize(mask_crop, (crop.shape[1], crop.shape[0]), interpolation=cv2.INTER_NEAREST)\n",
        "                    except:\n",
        "                        continue\n",
        "                if mask_crop.shape[:2] != crop.shape[:2]:\n",
        "                    continue\n",
        "\n",
        "                # Apply the mask to the crop so we only keep the fruit\n",
        "                masked_crop = cv2.bitwise_and(crop, crop, mask=mask_crop)\n",
        "                weight = get_weight(img_name, obj_id)\n",
        "                if weight is None:\n",
        "                    continue\n",
        "\n",
        "                crop_name = f\"{Path(img_name).stem}_obj_{obj_id}_{model.names[cls_id]}.jpg\"\n",
        "                crop_path = f\"{REG_DATA_DIR}/crops/{crop_name}\"\n",
        "                cv2.imwrite(crop_path, masked_crop)\n",
        "\n",
        "                all_rows.append({\n",
        "                    \"image_name\": img_name,\n",
        "                    \"object_id\": obj_id,\n",
        "                    \"class\": model.names[cls_id],\n",
        "                    \"crop_path\": crop_path,\n",
        "                    \"weight\": weight\n",
        "                })\n",
        "\n",
        "    # Save all the crop info to a CSV for the regression model\n",
        "    df = pd.DataFrame(all_rows)\n",
        "    df.to_csv(f\"{REG_DATA_DIR}/regression_dataset.csv\", index=False)\n",
        "    print(f\"✅ Regression dataset created with {len(df)} samples.\")\n",
        "\n",
        "# ----------------- CNN REGRESSOR CLASSES -----------------\n",
        "# Custom dataset for loading fruit crops and their weights\n",
        "class FruitCropDataset(Dataset):\n",
        "    def __init__(self, csv_path, transform=None):\n",
        "        self.data = pd.read_csv(csv_path)\n",
        "        self.transform = transform\n",
        "\n",
        "    def __len__(self): return len(self.data)\n",
        "\n",
        "    def __getitem__(self, idx):\n",
        "        row = self.data.iloc[idx]\n",
        "        img = cv2.imread(row[\"crop_path\"])\n",
        "        img = cv2.cvtColor(img, cv2.COLOR_BGR2RGB)\n",
        "        x = self.transform(img) if self.transform else img\n",
        "        y = torch.tensor(row[\"weight\"], dtype=torch.float32)\n",
        "        return x, y\n",
        "\n",
        "# Simple CNN regressor based on ResNet18, modified for regression\n",
        "class FruitCNNRegressor(nn.Module):\n",
        "    def __init__(self):\n",
        "        super().__init__()\n",
        "        base = models.resnet18(weights=None)\n",
        "        base.fc = nn.Linear(base.fc.in_features, 1)\n",
        "        self.model = base\n",
        "\n",
        "    def forward(self, x):\n",
        "        return self.model(x).squeeze()\n",
        "\n",
        "# ----------------- STEP 3: TRAIN CNN WITH CALLBACKS -----------------\n",
        "# This function trains the CNN to predict fruit weights from the crops, with early stopping and best model saving\n",
        "def train_cnn_regressor():\n",
        "    transform = transforms.Compose([\n",
        "        transforms.ToPILImage(),\n",
        "        transforms.Resize((IMG_SIZE, IMG_SIZE)),\n",
        "        transforms.ToTensor(),\n",
        "        transforms.Normalize([0.5]*3, [0.5]*3),\n",
        "    ])\n",
        "\n",
        "    dataset = FruitCropDataset(f\"{REG_DATA_DIR}/regression_dataset.csv\", transform)\n",
        "    train_len = int(0.8 * len(dataset))\n",
        "    val_len = len(dataset) - train_len\n",
        "    train_ds, val_ds = random_split(dataset, [train_len, val_len])\n",
        "\n",
        "    loader = {\n",
        "        'train': DataLoader(train_ds, batch_size=BATCH_SIZE, shuffle=True),\n",
        "        'val': DataLoader(val_ds, batch_size=BATCH_SIZE)\n",
        "    }\n",
        "\n",
        "    model = FruitCNNRegressor().to(DEVICE)\n",
        "    loss_fn = nn.MSELoss()\n",
        "    opt = optim.Adam(model.parameters(), lr=LR)\n",
        "\n",
        "    train_losses, val_losses = [], []\n",
        "\n",
        "    # ---------- Callbacks ----------\n",
        "    # Early stopping: stop training if validation MAE doesn't improve for a while\n",
        "    class EarlyStopping:\n",
        "        def __init__(self, patience=30):\n",
        "            self.patience = patience\n",
        "            self.counter = 0\n",
        "            self.best_score = float('inf')\n",
        "            self.early_stop = False\n",
        "\n",
        "        def __call__(self, score):\n",
        "            if score < self.best_score:\n",
        "                self.best_score = score\n",
        "                self.counter = 0\n",
        "            else:\n",
        "                self.counter += 1\n",
        "                if self.counter >= self.patience:\n",
        "                    self.early_stop = True\n",
        "\n",
        "    # Save the model whenever it achieves a new best MAE on validation\n",
        "    class BestModelSaver:\n",
        "        def __init__(self, path):\n",
        "            self.best_mae = float('inf')\n",
        "            self.path = path\n",
        "            self.best_preds = []\n",
        "            self.best_truths = []\n",
        "\n",
        "        def update(self, mae, preds, truths, model):\n",
        "            if mae < self.best_mae:\n",
        "                self.best_mae = mae\n",
        "                self.best_preds = preds\n",
        "                self.best_truths = truths\n",
        "                torch.save(model.state_dict(), self.path)\n",
        "\n",
        "    stopper = EarlyStopping()\n",
        "    saver = BestModelSaver(CNN_MODEL_SAVE)\n",
        "\n",
        "    # ---------- Training ----------\n",
        "    for epoch in range(EPOCHS):\n",
        "        model.train()\n",
        "        train_loss = 0.0\n",
        "        for xb, yb in loader['train']:\n",
        "            xb, yb = xb.to(DEVICE), yb.to(DEVICE)\n",
        "            pred = model(xb)\n",
        "            loss = loss_fn(pred, yb)\n",
        "            opt.zero_grad()\n",
        "            loss.backward()\n",
        "            opt.step()\n",
        "            train_loss += loss.item() * xb.size(0)\n",
        "\n",
        "        avg_train_loss = train_loss / len(train_ds)\n",
        "        train_losses.append(avg_train_loss)\n",
        "\n",
        "        # Validation: check how well the model is doing on unseen data\n",
        "        model.eval()\n",
        "        val_loss = 0.0\n",
        "        preds, truths = [], []\n",
        "        with torch.no_grad():\n",
        "            for xb, yb in loader['val']:\n",
        "                xb = xb.to(DEVICE)\n",
        "                pred = model(xb).cpu().numpy()\n",
        "                preds.extend(pred)\n",
        "                truths.extend(yb.numpy())\n",
        "                loss = loss_fn(torch.tensor(pred), yb)\n",
        "                val_loss += loss.item() * xb.size(0)\n",
        "\n",
        "        avg_val_loss = val_loss / len(val_ds)\n",
        "        val_losses.append(avg_val_loss)\n",
        "\n",
        "        mae = mean_absolute_error(truths, preds)\n",
        "        r2 = r2_score(truths, preds)\n",
        "        print(f\"[Epoch {epoch+1}] Train Loss: {avg_train_loss:.4f} | Val Loss: {avg_val_loss:.4f} | MAE: {mae:.2f} | R²: {r2:.3f}\")\n",
        "\n",
        "        saver.update(mae, preds, truths, model)\n",
        "        stopper(mae)\n",
        "        if stopper.early_stop:\n",
        "            print(f\"⛔ Early stopping at epoch {epoch+1}\")\n",
        "            break\n",
        "\n",
        "    print(f\"\\n✅ Best model saved to: {CNN_MODEL_SAVE}\")\n",
        "    final_mae = mean_absolute_error(saver.best_truths, saver.best_preds)\n",
        "    final_r2 = r2_score(saver.best_truths, saver.best_preds)\n",
        "    print(f\"\\n📊 Final Evaluation:\\nMAE: {final_mae:.2f}g\\nR²:  {final_r2:.4f}\")\n",
        "\n",
        "    # ---------- Plot ----------\n",
        "    # Plot the training and validation loss curves for visualization\n",
        "    plt.figure(figsize=(8, 5))\n",
        "    plt.plot(train_losses, label=\"Train Loss\")\n",
        "    plt.plot(val_losses, label=\"Val Loss\")\n",
        "    plt.xlabel(\"Epoch\")\n",
        "    plt.ylabel(\"MSE Loss\")\n",
        "    plt.title(\"📉 CNN Training Curve\")\n",
        "    plt.legend()\n",
        "    plt.grid()\n",
        "    plt.tight_layout()\n",
        "    plot_path = os.path.join(REG_DATA_DIR, \"cnn_training_curve.png\")\n",
        "    plt.savefig(plot_path)\n",
        "    plt.show()\n",
        "    print(f\"📈 Training curve saved to: {plot_path}\")\n",
        "\n",
        "# ----------------- RUN EVERYTHING -----------------\n",
        "# This function runs the full pipeline: train YOLO, extract crops, train CNN\n",
        "def run_full_training_pipeline():\n",
        "    print(\"🚀 Training YOLOv11 segmentation model...\")\n",
        "    train_yolo()\n",
        "    print(\"🔍 Extracting object crops for CNN training...\")\n",
        "    extract_regression_data()\n",
        "    print(\"📦 Training CNN regressor with callbacks...\")\n",
        "    train_cnn_regressor()\n",
        "    print(\"🎉 Pipeline complete!\")\n",
        "\n",
        "if __name__ == \"__main__\":\n",
        "    run_full_training_pipeline()"
      ]
    },
    {
      "cell_type": "markdown",
      "metadata": {
        "id": "5KgKSPbW0hHZ"
      },
      "source": [
        "# YOLOv11 + CNN Regressor Inference Pipeline"
      ]
    },
    {
      "cell_type": "code",
      "execution_count": null,
      "metadata": {
        "colab": {
          "base_uri": "https://localhost:8080/"
        },
        "id": "xiYCkiG30gaX",
        "outputId": "23db9c4b-5f77-4ea9-f360-d9f8917d27a2"
      },
      "outputs": [
        {
          "name": "stdout",
          "output_type": "stream",
          "text": [
            "\n",
            "image 1/1 /content/Fruits_Dataset/images/test/0fdfd4a5-pngtree-banana-yellow-fruit-banana-skewers-png-image_5944324.jpeg: 384x640 5 bananas, 40.2ms\n",
            "Speed: 1.7ms preprocess, 40.2ms inference, 2.3ms postprocess per image at shape (1, 3, 384, 640)\n",
            "\n",
            "image 1/1 /content/Fruits_Dataset/images/test/e0f3c760-banana_42.jpg: 640x640 1 banana, 61.9ms\n",
            "Speed: 2.6ms preprocess, 61.9ms inference, 2.1ms postprocess per image at shape (1, 3, 640, 640)\n",
            "\n",
            "image 1/1 /content/Fruits_Dataset/images/test/9a9fcd93-apple_12.jpg: 608x640 1 apple, 39.9ms\n",
            "Speed: 2.6ms preprocess, 39.9ms inference, 2.4ms postprocess per image at shape (1, 3, 608, 640)\n",
            "\n",
            "image 1/1 /content/Fruits_Dataset/images/test/aaed0808-banana_46.jpg: 640x640 2 bananas, 38.7ms\n",
            "Speed: 3.2ms preprocess, 38.7ms inference, 2.2ms postprocess per image at shape (1, 3, 640, 640)\n",
            "\n",
            "✅ Results saved to regression_data/unified_results/cnn_predictions.csv\n",
            "\n",
            "📊 Evaluation on Test Set:\n",
            "MAE: 93.67g\n",
            "R²:  -907.7139\n"
          ]
        }
      ],
      "source": [
        "import os\n",
        "import cv2\n",
        "import torch\n",
        "import numpy as np\n",
        "import pandas as pd\n",
        "from pathlib import Path\n",
        "from torchvision import transforms, models\n",
        "from ultralytics import YOLO\n",
        "from sklearn.metrics import mean_absolute_error, r2_score\n",
        "import matplotlib.pyplot as plt\n",
        "\n",
        "# ============================ CONFIG ============================\n",
        "YOLO_MODEL_PATH = \"runs/segment/fruit_yolo_training/weights/best.pt\"\n",
        "CNN_MODEL_PATH = \"regression_data/cnn_weight_regressor.pt\"\n",
        "CSV_PATH = \"regression_data/regression_dataset.csv\"\n",
        "TEST_IMAGE_DIR = \"Fruits_Dataset/images/test\"\n",
        "OUTPUT_DIR = \"regression_data/unified_results\"\n",
        "IMG_SIZE = 224\n",
        "DEVICE = torch.device(\"cuda\" if torch.cuda.is_available() else \"cpu\")\n",
        "CONF_THRESHOLD = 0.25\n",
        "\n",
        "os.makedirs(OUTPUT_DIR, exist_ok=True)\n",
        "\n",
        "# ======================= MODEL DEFINITIONS =======================\n",
        "class FruitCNNRegressor(torch.nn.Module):\n",
        "    def __init__(self):\n",
        "        super().__init__()\n",
        "        base = models.resnet18(weights=None)\n",
        "        base.fc = torch.nn.Linear(base.fc.in_features, 1)\n",
        "        self.model = base\n",
        "\n",
        "    def forward(self, x):\n",
        "        return self.model(x).squeeze()\n",
        "\n",
        "def load_cnn_model(path):\n",
        "    model = FruitCNNRegressor().to(DEVICE)\n",
        "    model.load_state_dict(torch.load(path, map_location=DEVICE))\n",
        "    model.eval()\n",
        "    return model\n",
        "\n",
        "# ======================= HELPER FUNCTIONS ========================\n",
        "def load_ground_truth(csv_path):\n",
        "    df = pd.read_csv(csv_path)\n",
        "    return {\n",
        "        (row[\"image_name\"], row[\"object_id\"]): row[\"weight\"]\n",
        "        for _, row in df.iterrows()\n",
        "    }\n",
        "\n",
        "def preprocess_image(image):\n",
        "    transform = transforms.Compose([\n",
        "        transforms.ToPILImage(),\n",
        "        transforms.Resize((IMG_SIZE, IMG_SIZE)),\n",
        "        transforms.ToTensor(),\n",
        "        transforms.Normalize([0.5]*3, [0.5]*3),\n",
        "    ])\n",
        "    return transform(image).unsqueeze(0).to(DEVICE)\n",
        "\n",
        "def draw_prediction(image, box, label, color=(0, 255, 0)):\n",
        "    x1, y1, x2, y2 = map(int, box)\n",
        "    cv2.rectangle(image, (x1, y1), (x2, y2), color, 2)\n",
        "    cv2.putText(image, label, (x1, y1 - 10), cv2.FONT_HERSHEY_SIMPLEX, 0.5, color, 2)\n",
        "\n",
        "# ======================= MAIN PIPELINE ===========================\n",
        "def run_pipeline():\n",
        "    # Load models\n",
        "    yolo_model = YOLO(YOLO_MODEL_PATH)\n",
        "    cnn_model = load_cnn_model(CNN_MODEL_PATH)\n",
        "    ground_truth = load_ground_truth(CSV_PATH)\n",
        "\n",
        "    results_list = []\n",
        "    predictions, actuals = [], []\n",
        "\n",
        "    # Process each test image\n",
        "    for img_file in os.listdir(TEST_IMAGE_DIR):\n",
        "        if not img_file.lower().endswith(('.jpg', '.jpeg', '.png', '.webp')):\n",
        "            continue\n",
        "\n",
        "        image_path = os.path.join(TEST_IMAGE_DIR, img_file)\n",
        "        original = cv2.imread(image_path)\n",
        "        if original is None:\n",
        "            continue\n",
        "        overlay = original.copy()\n",
        "\n",
        "        # YOLOv11 inference\n",
        "        detections = yolo_model(image_path, conf=CONF_THRESHOLD)[0]\n",
        "        boxes = detections.boxes.xyxy.cpu().numpy() if detections.boxes else []\n",
        "        class_ids = detections.boxes.cls.cpu().numpy().astype(int) if detections.boxes else []\n",
        "\n",
        "        for obj_id, (cls_id, box) in enumerate(zip(class_ids, boxes)):\n",
        "            class_name = yolo_model.names[cls_id]\n",
        "            x1, y1, x2, y2 = map(int, box)\n",
        "            crop = original[y1:y2, x1:x2]\n",
        "\n",
        "            if crop.size == 0:\n",
        "                continue\n",
        "\n",
        "            input_tensor = preprocess_image(crop)\n",
        "            with torch.no_grad():\n",
        "                pred_weight = cnn_model(input_tensor).item()\n",
        "\n",
        "            key = (img_file, obj_id)\n",
        "            true_weight = ground_truth.get(key)\n",
        "\n",
        "            if true_weight is None:\n",
        "                continue  # skip unmatched objects\n",
        "\n",
        "            predictions.append(pred_weight)\n",
        "            actuals.append(true_weight)\n",
        "\n",
        "            error = abs(pred_weight - true_weight)\n",
        "            color = (0, 255, 0) if error < 10 else (0, 0, 255)\n",
        "\n",
        "            label = f\"{class_name}: {pred_weight:.1f}g / GT: {true_weight:.1f}g\"\n",
        "            draw_prediction(overlay, box, label, color)\n",
        "\n",
        "            results_list.append({\n",
        "                \"image_name\": img_file,\n",
        "                \"object_id\": obj_id,\n",
        "                \"class\": class_name,\n",
        "                \"predicted_weight\": round(pred_weight, 2),\n",
        "                \"actual_weight\": round(true_weight, 2),\n",
        "                \"abs_error\": round(error, 2)\n",
        "            })\n",
        "\n",
        "        # Save visualized result\n",
        "        out_path = os.path.join(OUTPUT_DIR, f\"{Path(img_file).stem}_result.jpg\")\n",
        "        cv2.imwrite(out_path, overlay)\n",
        "\n",
        "    # Save results to CSV\n",
        "    df = pd.DataFrame(results_list)\n",
        "    csv_out = os.path.join(OUTPUT_DIR, \"cnn_predictions.csv\")\n",
        "    df.to_csv(csv_out, index=False)\n",
        "    print(f\"\\n✅ Results saved to {csv_out}\")\n",
        "\n",
        "    # Print evaluation\n",
        "    mae = mean_absolute_error(actuals, predictions)\n",
        "    r2 = r2_score(actuals, predictions)\n",
        "    print(f\"\\n📊 Evaluation on Test Set:\")\n",
        "    print(f\"MAE: {mae:.2f}g\")\n",
        "    print(f\"R²:  {r2:.4f}\")\n",
        "\n",
        "# ===================== EXECUTION ENTRY POINT =====================\n",
        "if __name__ == \"__main__\":\n",
        "    run_pipeline()"
      ]
    },
    {
      "cell_type": "markdown",
      "metadata": {
        "id": "s1eyDMpbO38n"
      },
      "source": [
        "# YOLOv11 + GradientBoostingRegressor Unified Training Pipeline"
      ]
    },
    {
      "cell_type": "code",
      "execution_count": null,
      "metadata": {
        "colab": {
          "base_uri": "https://localhost:8080/",
          "height": 1000
        },
        "id": "Zk8O5rmaG-TK",
        "outputId": "bbd392eb-af6a-40f8-fae5-ed53d494dd31"
      },
      "outputs": [
        {
          "name": "stdout",
          "output_type": "stream",
          "text": [
            "Creating new Ultralytics Settings v0.0.6 file ✅ \n",
            "View Ultralytics Settings with 'yolo settings' or at '/root/.config/Ultralytics/settings.json'\n",
            "Update Settings with 'yolo settings key=value', i.e. 'yolo settings runs_dir=path/to/dir'. For help see https://docs.ultralytics.com/quickstart/#ultralytics-settings.\n",
            "🚀 Training YOLOv11 segmentation model...\n",
            "Ultralytics 8.3.139 🚀 Python-3.11.12 torch-2.6.0+cu124 CUDA:0 (Tesla T4, 15095MiB)\n",
            "\u001b[34m\u001b[1mengine/trainer: \u001b[0magnostic_nms=False, amp=True, augment=False, auto_augment=randaugment, batch=16, bgr=0.0, box=7.5, cache=False, cfg=None, classes=None, close_mosaic=10, cls=0.5, conf=None, copy_paste=0.0, copy_paste_mode=flip, cos_lr=False, cutmix=0.0, data=Fruits_Dataset/fruit_data.yaml, degrees=0.0, deterministic=True, device=None, dfl=1.5, dnn=False, dropout=0.0, dynamic=False, embed=None, epochs=75, erasing=0.4, exist_ok=False, fliplr=0.5, flipud=0.0, format=torchscript, fraction=1.0, freeze=None, half=False, hsv_h=0.015, hsv_s=0.7, hsv_v=0.4, imgsz=640, int8=False, iou=0.7, keras=False, kobj=1.0, line_width=None, lr0=0.01, lrf=0.01, mask_ratio=4, max_det=300, mixup=0.0, mode=train, model=yolo11l-seg.pt, momentum=0.937, mosaic=1.0, multi_scale=False, name=fruit_yolo_training, nbs=64, nms=False, opset=None, optimize=False, optimizer=auto, overlap_mask=True, patience=100, perspective=0.0, plots=True, pose=12.0, pretrained=True, profile=False, project=None, rect=False, resume=False, retina_masks=False, save=True, save_conf=False, save_crop=False, save_dir=runs/segment/fruit_yolo_training, save_frames=False, save_json=False, save_period=-1, save_txt=False, scale=0.5, seed=0, shear=0.0, show=False, show_boxes=True, show_conf=True, show_labels=True, simplify=True, single_cls=False, source=None, split=val, stream_buffer=False, task=segment, time=None, tracker=botsort.yaml, translate=0.1, val=True, verbose=True, vid_stride=1, visualize=False, warmup_bias_lr=0.1, warmup_epochs=3.0, warmup_momentum=0.8, weight_decay=0.0005, workers=8, workspace=None\n",
            "Downloading https://ultralytics.com/assets/Arial.ttf to '/root/.config/Ultralytics/Arial.ttf'...\n"
          ]
        },
        {
          "name": "stderr",
          "output_type": "stream",
          "text": [
            "100%|██████████| 755k/755k [00:00<00:00, 14.6MB/s]"
          ]
        },
        {
          "name": "stdout",
          "output_type": "stream",
          "text": [
            "Overriding model.yaml nc=80 with nc=2\n",
            "\n",
            "                   from  n    params  module                                       arguments                     \n",
            "  0                  -1  1      1856  ultralytics.nn.modules.conv.Conv             [3, 64, 3, 2]                 \n",
            "  1                  -1  1     73984  ultralytics.nn.modules.conv.Conv             [64, 128, 3, 2]               \n",
            "  2                  -1  2    173824  ultralytics.nn.modules.block.C3k2            [128, 256, 2, True, 0.25]     \n",
            "  3                  -1  1    590336  ultralytics.nn.modules.conv.Conv             [256, 256, 3, 2]              \n",
            "  4                  -1  2    691712  ultralytics.nn.modules.block.C3k2            [256, 512, 2, True, 0.25]     \n",
            "  5                  -1  1   2360320  ultralytics.nn.modules.conv.Conv             [512, 512, 3, 2]              \n",
            "  6                  -1  2   2234368  ultralytics.nn.modules.block.C3k2            [512, 512, 2, True]           \n",
            "  7                  -1  1   2360320  ultralytics.nn.modules.conv.Conv             [512, 512, 3, 2]              \n"
          ]
        },
        {
          "name": "stderr",
          "output_type": "stream",
          "text": [
            "\n"
          ]
        },
        {
          "name": "stdout",
          "output_type": "stream",
          "text": [
            "  8                  -1  2   2234368  ultralytics.nn.modules.block.C3k2            [512, 512, 2, True]           \n",
            "  9                  -1  1    656896  ultralytics.nn.modules.block.SPPF            [512, 512, 5]                 \n",
            " 10                  -1  2   1455616  ultralytics.nn.modules.block.C2PSA           [512, 512, 2]                 \n",
            " 11                  -1  1         0  torch.nn.modules.upsampling.Upsample         [None, 2, 'nearest']          \n",
            " 12             [-1, 6]  1         0  ultralytics.nn.modules.conv.Concat           [1]                           \n",
            " 13                  -1  2   2496512  ultralytics.nn.modules.block.C3k2            [1024, 512, 2, True]          \n",
            " 14                  -1  1         0  torch.nn.modules.upsampling.Upsample         [None, 2, 'nearest']          \n",
            " 15             [-1, 4]  1         0  ultralytics.nn.modules.conv.Concat           [1]                           \n",
            " 16                  -1  2    756736  ultralytics.nn.modules.block.C3k2            [1024, 256, 2, True]          \n",
            " 17                  -1  1    590336  ultralytics.nn.modules.conv.Conv             [256, 256, 3, 2]              \n",
            " 18            [-1, 13]  1         0  ultralytics.nn.modules.conv.Concat           [1]                           \n",
            " 19                  -1  2   2365440  ultralytics.nn.modules.block.C3k2            [768, 512, 2, True]           \n",
            " 20                  -1  1   2360320  ultralytics.nn.modules.conv.Conv             [512, 512, 3, 2]              \n",
            " 21            [-1, 10]  1         0  ultralytics.nn.modules.conv.Concat           [1]                           \n",
            " 22                  -1  2   2496512  ultralytics.nn.modules.block.C3k2            [1024, 512, 2, True]          \n",
            " 23        [16, 19, 22]  1   3718774  ultralytics.nn.modules.head.Segment          [2, 32, 256, [256, 512, 512]] \n",
            "YOLO11l-seg summary: 379 layers, 27,618,230 parameters, 27,618,214 gradients, 142.7 GFLOPs\n",
            "\n",
            "Transferred 1071/1077 items from pretrained weights\n",
            "Freezing layer 'model.23.dfl.conv.weight'\n",
            "\u001b[34m\u001b[1mAMP: \u001b[0mrunning Automatic Mixed Precision (AMP) checks...\n",
            "Downloading https://github.com/ultralytics/assets/releases/download/v8.3.0/yolo11n.pt to 'yolo11n.pt'...\n"
          ]
        },
        {
          "name": "stderr",
          "output_type": "stream",
          "text": [
            "100%|██████████| 5.35M/5.35M [00:00<00:00, 64.7MB/s]\n"
          ]
        },
        {
          "name": "stdout",
          "output_type": "stream",
          "text": [
            "\u001b[34m\u001b[1mAMP: \u001b[0mchecks passed ✅\n",
            "\u001b[34m\u001b[1mtrain: \u001b[0mFast image access ✅ (ping: 0.0±0.0 ms, read: 21.0±11.1 MB/s, size: 45.3 KB)\n"
          ]
        },
        {
          "name": "stderr",
          "output_type": "stream",
          "text": [
            "\u001b[34m\u001b[1mtrain: \u001b[0mScanning /content/Fruits_Dataset/labels/train... 32 images, 0 backgrounds, 0 corrupt: 100%|██████████| 32/32 [00:00<00:00, 191.71it/s]"
          ]
        },
        {
          "name": "stdout",
          "output_type": "stream",
          "text": [
            "\u001b[34m\u001b[1mtrain: \u001b[0mNew cache created: /content/Fruits_Dataset/labels/train.cache\n"
          ]
        },
        {
          "name": "stderr",
          "output_type": "stream",
          "text": [
            "\n"
          ]
        },
        {
          "name": "stdout",
          "output_type": "stream",
          "text": [
            "\u001b[34m\u001b[1malbumentations: \u001b[0mBlur(p=0.01, blur_limit=(3, 7)), MedianBlur(p=0.01, blur_limit=(3, 7)), ToGray(p=0.01, method='weighted_average', num_output_channels=3), CLAHE(p=0.01, clip_limit=(1.0, 4.0), tile_grid_size=(8, 8))\n",
            "\u001b[34m\u001b[1mval: \u001b[0mFast image access ✅ (ping: 0.0±0.0 ms, read: 44.2±46.7 MB/s, size: 28.6 KB)\n"
          ]
        },
        {
          "name": "stderr",
          "output_type": "stream",
          "text": [
            "\u001b[34m\u001b[1mval: \u001b[0mScanning /content/Fruits_Dataset/labels/val... 4 images, 0 backgrounds, 0 corrupt: 100%|██████████| 4/4 [00:00<00:00, 1718.27it/s]"
          ]
        },
        {
          "name": "stdout",
          "output_type": "stream",
          "text": [
            "\u001b[34m\u001b[1mval: \u001b[0mNew cache created: /content/Fruits_Dataset/labels/val.cache\n"
          ]
        },
        {
          "name": "stderr",
          "output_type": "stream",
          "text": [
            "\n"
          ]
        },
        {
          "name": "stdout",
          "output_type": "stream",
          "text": [
            "Plotting labels to runs/segment/fruit_yolo_training/labels.jpg... \n",
            "\u001b[34m\u001b[1moptimizer:\u001b[0m 'optimizer=auto' found, ignoring 'lr0=0.01' and 'momentum=0.937' and determining best 'optimizer', 'lr0' and 'momentum' automatically... \n",
            "\u001b[34m\u001b[1moptimizer:\u001b[0m AdamW(lr=0.001667, momentum=0.9) with parameter groups 176 weight(decay=0.0), 187 weight(decay=0.0005), 186 bias(decay=0.0)\n",
            "Image sizes 640 train, 640 val\n",
            "Using 2 dataloader workers\n",
            "Logging results to \u001b[1mruns/segment/fruit_yolo_training\u001b[0m\n",
            "Starting training for 75 epochs...\n",
            "\n",
            "      Epoch    GPU_mem   box_loss   seg_loss   cls_loss   dfl_loss  Instances       Size\n"
          ]
        },
        {
          "name": "stderr",
          "output_type": "stream",
          "text": [
            "       1/75      11.5G     0.5242      1.529      2.407      1.074         92        640: 100%|██████████| 2/2 [00:04<00:00,  2.02s/it]\n",
            "                 Class     Images  Instances      Box(P          R      mAP50  mAP50-95)     Mask(P          R      mAP50  mAP50-95): 100%|██████████| 1/1 [00:00<00:00,  1.89it/s]"
          ]
        },
        {
          "name": "stdout",
          "output_type": "stream",
          "text": [
            "                   all          4          5      0.204      0.554      0.281      0.149     0.0782      0.167       0.13      0.123\n"
          ]
        },
        {
          "name": "stderr",
          "output_type": "stream",
          "text": [
            "\n"
          ]
        },
        {
          "name": "stdout",
          "output_type": "stream",
          "text": [
            "\n",
            "      Epoch    GPU_mem   box_loss   seg_loss   cls_loss   dfl_loss  Instances       Size\n"
          ]
        },
        {
          "name": "stderr",
          "output_type": "stream",
          "text": [
            "       2/75      11.5G     0.6225      1.742      2.529      1.255         79        640: 100%|██████████| 2/2 [00:02<00:00,  1.01s/it]\n",
            "                 Class     Images  Instances      Box(P          R      mAP50  mAP50-95)     Mask(P          R      mAP50  mAP50-95): 100%|██████████| 1/1 [00:00<00:00,  4.30it/s]"
          ]
        },
        {
          "name": "stdout",
          "output_type": "stream",
          "text": [
            "                   all          4          5      0.222      0.569      0.288      0.165      0.121      0.359      0.145       0.14\n"
          ]
        },
        {
          "name": "stderr",
          "output_type": "stream",
          "text": [
            "\n"
          ]
        },
        {
          "name": "stdout",
          "output_type": "stream",
          "text": [
            "\n",
            "      Epoch    GPU_mem   box_loss   seg_loss   cls_loss   dfl_loss  Instances       Size\n"
          ]
        },
        {
          "name": "stderr",
          "output_type": "stream",
          "text": [
            "       3/75      11.5G     0.5603      1.521      2.353      1.146         73        640: 100%|██████████| 2/2 [00:01<00:00,  1.09it/s]\n",
            "                 Class     Images  Instances      Box(P          R      mAP50  mAP50-95)     Mask(P          R      mAP50  mAP50-95): 100%|██████████| 1/1 [00:00<00:00,  9.04it/s]"
          ]
        },
        {
          "name": "stdout",
          "output_type": "stream",
          "text": [
            "                   all          4          5      0.176      0.518      0.325      0.185      0.145      0.471      0.165      0.158\n"
          ]
        },
        {
          "name": "stderr",
          "output_type": "stream",
          "text": [
            "\n"
          ]
        },
        {
          "name": "stdout",
          "output_type": "stream",
          "text": [
            "\n",
            "      Epoch    GPU_mem   box_loss   seg_loss   cls_loss   dfl_loss  Instances       Size\n"
          ]
        },
        {
          "name": "stderr",
          "output_type": "stream",
          "text": [
            "       4/75      11.5G     0.5355      1.478      2.496      1.127         73        640: 100%|██████████| 2/2 [00:01<00:00,  1.11it/s]\n",
            "                 Class     Images  Instances      Box(P          R      mAP50  mAP50-95)     Mask(P          R      mAP50  mAP50-95): 100%|██████████| 1/1 [00:00<00:00,  8.22it/s]"
          ]
        },
        {
          "name": "stdout",
          "output_type": "stream",
          "text": [
            "                   all          4          5      0.163        0.5      0.424      0.206      0.146      0.833      0.183      0.177\n"
          ]
        },
        {
          "name": "stderr",
          "output_type": "stream",
          "text": [
            "\n"
          ]
        },
        {
          "name": "stdout",
          "output_type": "stream",
          "text": [
            "\n",
            "      Epoch    GPU_mem   box_loss   seg_loss   cls_loss   dfl_loss  Instances       Size\n"
          ]
        },
        {
          "name": "stderr",
          "output_type": "stream",
          "text": [
            "       5/75      11.6G     0.5996      1.544      2.422      1.203         79        640: 100%|██████████| 2/2 [00:01<00:00,  1.01it/s]\n",
            "                 Class     Images  Instances      Box(P          R      mAP50  mAP50-95)     Mask(P          R      mAP50  mAP50-95): 100%|██████████| 1/1 [00:00<00:00,  6.94it/s]\n"
          ]
        },
        {
          "name": "stdout",
          "output_type": "stream",
          "text": [
            "                   all          4          5      0.569          1      0.829      0.532      0.569          1      0.829      0.655\n",
            "\n",
            "      Epoch    GPU_mem   box_loss   seg_loss   cls_loss   dfl_loss  Instances       Size\n"
          ]
        },
        {
          "name": "stderr",
          "output_type": "stream",
          "text": [
            "       6/75      11.7G     0.5511      1.356      1.722      1.151         60        640: 100%|██████████| 2/2 [00:02<00:00,  1.10s/it]\n",
            "                 Class     Images  Instances      Box(P          R      mAP50  mAP50-95)     Mask(P          R      mAP50  mAP50-95): 100%|██████████| 1/1 [00:00<00:00,  7.45it/s]"
          ]
        },
        {
          "name": "stdout",
          "output_type": "stream",
          "text": [
            "                   all          4          5      0.608          1      0.829      0.556      0.608          1      0.829      0.712\n"
          ]
        },
        {
          "name": "stderr",
          "output_type": "stream",
          "text": [
            "\n"
          ]
        },
        {
          "name": "stdout",
          "output_type": "stream",
          "text": [
            "\n",
            "      Epoch    GPU_mem   box_loss   seg_loss   cls_loss   dfl_loss  Instances       Size\n"
          ]
        },
        {
          "name": "stderr",
          "output_type": "stream",
          "text": [
            "       7/75      11.8G     0.5724      1.459      1.417      1.062         81        640: 100%|██████████| 2/2 [00:01<00:00,  1.09it/s]\n",
            "                 Class     Images  Instances      Box(P          R      mAP50  mAP50-95)     Mask(P          R      mAP50  mAP50-95): 100%|██████████| 1/1 [00:00<00:00,  9.32it/s]"
          ]
        },
        {
          "name": "stdout",
          "output_type": "stream",
          "text": [
            "                   all          4          5      0.568      0.893      0.788      0.554      0.568      0.893      0.788       0.54\n"
          ]
        },
        {
          "name": "stderr",
          "output_type": "stream",
          "text": [
            "\n"
          ]
        },
        {
          "name": "stdout",
          "output_type": "stream",
          "text": [
            "\n",
            "      Epoch    GPU_mem   box_loss   seg_loss   cls_loss   dfl_loss  Instances       Size\n"
          ]
        },
        {
          "name": "stderr",
          "output_type": "stream",
          "text": [
            "       8/75      11.8G     0.5964      1.286      1.096       1.07         81        640: 100%|██████████| 2/2 [00:01<00:00,  1.09it/s]\n",
            "                 Class     Images  Instances      Box(P          R      mAP50  mAP50-95)     Mask(P          R      mAP50  mAP50-95): 100%|██████████| 1/1 [00:00<00:00,  8.92it/s]"
          ]
        },
        {
          "name": "stdout",
          "output_type": "stream",
          "text": [
            "                   all          4          5      0.779       0.75       0.87      0.676      0.508          1      0.746      0.531\n"
          ]
        },
        {
          "name": "stderr",
          "output_type": "stream",
          "text": [
            "\n"
          ]
        },
        {
          "name": "stdout",
          "output_type": "stream",
          "text": [
            "\n",
            "      Epoch    GPU_mem   box_loss   seg_loss   cls_loss   dfl_loss  Instances       Size\n"
          ]
        },
        {
          "name": "stderr",
          "output_type": "stream",
          "text": [
            "       9/75      11.7G     0.5886      1.086      1.257      1.066         56        640: 100%|██████████| 2/2 [00:01<00:00,  1.10it/s]\n",
            "                 Class     Images  Instances      Box(P          R      mAP50  mAP50-95)     Mask(P          R      mAP50  mAP50-95): 100%|██████████| 1/1 [00:00<00:00,  7.58it/s]"
          ]
        },
        {
          "name": "stdout",
          "output_type": "stream",
          "text": [
            "                   all          4          5          1        0.5      0.542      0.374          1        0.5      0.541      0.403\n"
          ]
        },
        {
          "name": "stderr",
          "output_type": "stream",
          "text": [
            "\n"
          ]
        },
        {
          "name": "stdout",
          "output_type": "stream",
          "text": [
            "\n",
            "      Epoch    GPU_mem   box_loss   seg_loss   cls_loss   dfl_loss  Instances       Size\n"
          ]
        },
        {
          "name": "stderr",
          "output_type": "stream",
          "text": [
            "      10/75      11.8G     0.5797      1.189       1.06      1.078         98        640: 100%|██████████| 2/2 [00:01<00:00,  1.10it/s]\n",
            "                 Class     Images  Instances      Box(P          R      mAP50  mAP50-95)     Mask(P          R      mAP50  mAP50-95): 100%|██████████| 1/1 [00:00<00:00,  9.08it/s]"
          ]
        },
        {
          "name": "stdout",
          "output_type": "stream",
          "text": [
            "                   all          4          5       0.91        0.5      0.547      0.319       0.91        0.5      0.516      0.437\n"
          ]
        },
        {
          "name": "stderr",
          "output_type": "stream",
          "text": [
            "\n"
          ]
        },
        {
          "name": "stdout",
          "output_type": "stream",
          "text": [
            "\n",
            "      Epoch    GPU_mem   box_loss   seg_loss   cls_loss   dfl_loss  Instances       Size\n"
          ]
        },
        {
          "name": "stderr",
          "output_type": "stream",
          "text": [
            "      11/75      11.8G     0.5982      1.213      1.121      1.055         70        640: 100%|██████████| 2/2 [00:01<00:00,  1.10it/s]\n",
            "                 Class     Images  Instances      Box(P          R      mAP50  mAP50-95)     Mask(P          R      mAP50  mAP50-95): 100%|██████████| 1/1 [00:00<00:00,  9.18it/s]"
          ]
        },
        {
          "name": "stdout",
          "output_type": "stream",
          "text": [
            "                   all          4          5      0.358      0.583      0.527      0.389      0.425      0.833      0.614      0.349\n"
          ]
        },
        {
          "name": "stderr",
          "output_type": "stream",
          "text": [
            "\n"
          ]
        },
        {
          "name": "stdout",
          "output_type": "stream",
          "text": [
            "\n",
            "      Epoch    GPU_mem   box_loss   seg_loss   cls_loss   dfl_loss  Instances       Size\n"
          ]
        },
        {
          "name": "stderr",
          "output_type": "stream",
          "text": [
            "      12/75      11.8G     0.6197       1.44     0.9709      1.092         78        640: 100%|██████████| 2/2 [00:01<00:00,  1.08it/s]\n",
            "                 Class     Images  Instances      Box(P          R      mAP50  mAP50-95)     Mask(P          R      mAP50  mAP50-95): 100%|██████████| 1/1 [00:00<00:00,  8.77it/s]"
          ]
        },
        {
          "name": "stdout",
          "output_type": "stream",
          "text": [
            "                   all          4          5      0.553      0.833      0.741      0.414      0.553      0.833      0.741      0.431\n"
          ]
        },
        {
          "name": "stderr",
          "output_type": "stream",
          "text": [
            "\n"
          ]
        },
        {
          "name": "stdout",
          "output_type": "stream",
          "text": [
            "\n",
            "      Epoch    GPU_mem   box_loss   seg_loss   cls_loss   dfl_loss  Instances       Size\n"
          ]
        },
        {
          "name": "stderr",
          "output_type": "stream",
          "text": [
            "      13/75      11.8G     0.6469      1.201     0.9403      1.075         75        640: 100%|██████████| 2/2 [00:02<00:00,  1.03s/it]\n",
            "                 Class     Images  Instances      Box(P          R      mAP50  mAP50-95)     Mask(P          R      mAP50  mAP50-95): 100%|██████████| 1/1 [00:00<00:00,  6.37it/s]"
          ]
        },
        {
          "name": "stdout",
          "output_type": "stream",
          "text": [
            "                   all          4          5      0.488      0.544      0.658      0.399      0.389      0.583      0.431      0.263\n"
          ]
        },
        {
          "name": "stderr",
          "output_type": "stream",
          "text": [
            "\n"
          ]
        },
        {
          "name": "stdout",
          "output_type": "stream",
          "text": [
            "\n",
            "      Epoch    GPU_mem   box_loss   seg_loss   cls_loss   dfl_loss  Instances       Size\n"
          ]
        },
        {
          "name": "stderr",
          "output_type": "stream",
          "text": [
            "      14/75      11.9G     0.5848      1.187      0.892      1.053         87        640: 100%|██████████| 2/2 [00:01<00:00,  1.10it/s]\n",
            "                 Class     Images  Instances      Box(P          R      mAP50  mAP50-95)     Mask(P          R      mAP50  mAP50-95): 100%|██████████| 1/1 [00:00<00:00,  9.33it/s]"
          ]
        },
        {
          "name": "stdout",
          "output_type": "stream",
          "text": [
            "                   all          4          5      0.665      0.417      0.526      0.325      0.665      0.417      0.526      0.339\n"
          ]
        },
        {
          "name": "stderr",
          "output_type": "stream",
          "text": [
            "\n"
          ]
        },
        {
          "name": "stdout",
          "output_type": "stream",
          "text": [
            "\n",
            "      Epoch    GPU_mem   box_loss   seg_loss   cls_loss   dfl_loss  Instances       Size\n"
          ]
        },
        {
          "name": "stderr",
          "output_type": "stream",
          "text": [
            "      15/75      11.8G     0.6237       1.38     0.9539      1.104         72        640: 100%|██████████| 2/2 [00:01<00:00,  1.10it/s]\n",
            "                 Class     Images  Instances      Box(P          R      mAP50  mAP50-95)     Mask(P          R      mAP50  mAP50-95): 100%|██████████| 1/1 [00:00<00:00,  9.36it/s]"
          ]
        },
        {
          "name": "stdout",
          "output_type": "stream",
          "text": [
            "                   all          4          5   0.000917      0.167   0.000614   0.000123    0.00828       0.25    0.00478    0.00143\n"
          ]
        },
        {
          "name": "stderr",
          "output_type": "stream",
          "text": [
            "\n"
          ]
        },
        {
          "name": "stdout",
          "output_type": "stream",
          "text": [
            "\n",
            "      Epoch    GPU_mem   box_loss   seg_loss   cls_loss   dfl_loss  Instances       Size\n"
          ]
        },
        {
          "name": "stderr",
          "output_type": "stream",
          "text": [
            "      16/75      11.8G     0.5758     0.9264      0.999      1.052         64        640: 100%|██████████| 2/2 [00:01<00:00,  1.10it/s]\n",
            "                 Class     Images  Instances      Box(P          R      mAP50  mAP50-95)     Mask(P          R      mAP50  mAP50-95): 100%|██████████| 1/1 [00:00<00:00,  6.68it/s]\n"
          ]
        },
        {
          "name": "stdout",
          "output_type": "stream",
          "text": [
            "                   all          4          5          0          0          0          0     0.0178       0.25    0.00946    0.00284\n",
            "\n",
            "      Epoch    GPU_mem   box_loss   seg_loss   cls_loss   dfl_loss  Instances       Size\n"
          ]
        },
        {
          "name": "stderr",
          "output_type": "stream",
          "text": [
            "      17/75      11.8G     0.5982      1.142     0.9003      1.062         76        640: 100%|██████████| 2/2 [00:01<00:00,  1.03it/s]\n",
            "                 Class     Images  Instances      Box(P          R      mAP50  mAP50-95)     Mask(P          R      mAP50  mAP50-95): 100%|██████████| 1/1 [00:00<00:00,  3.30it/s]"
          ]
        },
        {
          "name": "stdout",
          "output_type": "stream",
          "text": [
            "                   all          4          5      0.542        0.5      0.046     0.0284      0.542        0.5      0.046     0.0239\n"
          ]
        },
        {
          "name": "stderr",
          "output_type": "stream",
          "text": [
            "\n"
          ]
        },
        {
          "name": "stdout",
          "output_type": "stream",
          "text": [
            "\n",
            "      Epoch    GPU_mem   box_loss   seg_loss   cls_loss   dfl_loss  Instances       Size\n"
          ]
        },
        {
          "name": "stderr",
          "output_type": "stream",
          "text": [
            "      18/75      11.8G     0.5198      1.108     0.9004       1.03         69        640: 100%|██████████| 2/2 [00:01<00:00,  1.09it/s]\n",
            "                 Class     Images  Instances      Box(P          R      mAP50  mAP50-95)     Mask(P          R      mAP50  mAP50-95): 100%|██████████| 1/1 [00:00<00:00,  9.24it/s]"
          ]
        },
        {
          "name": "stdout",
          "output_type": "stream",
          "text": [
            "                   all          4          5      0.569       0.25     0.0894     0.0504      0.569       0.25     0.0856     0.0257\n"
          ]
        },
        {
          "name": "stderr",
          "output_type": "stream",
          "text": [
            "\n"
          ]
        },
        {
          "name": "stdout",
          "output_type": "stream",
          "text": [
            "\n",
            "      Epoch    GPU_mem   box_loss   seg_loss   cls_loss   dfl_loss  Instances       Size\n"
          ]
        },
        {
          "name": "stderr",
          "output_type": "stream",
          "text": [
            "      19/75      11.8G     0.6531      1.449      1.039      1.132        101        640: 100%|██████████| 2/2 [00:01<00:00,  1.10it/s]\n",
            "                 Class     Images  Instances      Box(P          R      mAP50  mAP50-95)     Mask(P          R      mAP50  mAP50-95): 100%|██████████| 1/1 [00:00<00:00,  7.59it/s]"
          ]
        },
        {
          "name": "stdout",
          "output_type": "stream",
          "text": [
            "                   all          4          5      0.197      0.583       0.24        0.2      0.197      0.583       0.24      0.192\n"
          ]
        },
        {
          "name": "stderr",
          "output_type": "stream",
          "text": [
            "\n"
          ]
        },
        {
          "name": "stdout",
          "output_type": "stream",
          "text": [
            "\n",
            "      Epoch    GPU_mem   box_loss   seg_loss   cls_loss   dfl_loss  Instances       Size\n"
          ]
        },
        {
          "name": "stderr",
          "output_type": "stream",
          "text": [
            "      20/75      11.8G     0.6178      1.613      1.035      1.129         96        640: 100%|██████████| 2/2 [00:02<00:00,  1.02s/it]\n",
            "                 Class     Images  Instances      Box(P          R      mAP50  mAP50-95)     Mask(P          R      mAP50  mAP50-95): 100%|██████████| 1/1 [00:00<00:00,  9.06it/s]"
          ]
        },
        {
          "name": "stdout",
          "output_type": "stream",
          "text": [
            "                   all          4          5     0.0096          1     0.0114    0.00491    0.00287      0.167    0.00255   0.000255\n"
          ]
        },
        {
          "name": "stderr",
          "output_type": "stream",
          "text": [
            "\n"
          ]
        },
        {
          "name": "stdout",
          "output_type": "stream",
          "text": [
            "\n",
            "      Epoch    GPU_mem   box_loss   seg_loss   cls_loss   dfl_loss  Instances       Size\n"
          ]
        },
        {
          "name": "stderr",
          "output_type": "stream",
          "text": [
            "      21/75      11.8G     0.5872      1.395     0.8831      1.119         80        640: 100%|██████████| 2/2 [00:01<00:00,  1.08it/s]\n",
            "                 Class     Images  Instances      Box(P          R      mAP50  mAP50-95)     Mask(P          R      mAP50  mAP50-95): 100%|██████████| 1/1 [00:00<00:00,  9.02it/s]"
          ]
        },
        {
          "name": "stdout",
          "output_type": "stream",
          "text": [
            "                   all          4          5     0.0125      0.583     0.0329    0.00517          0          0          0          0\n"
          ]
        },
        {
          "name": "stderr",
          "output_type": "stream",
          "text": [
            "\n"
          ]
        },
        {
          "name": "stdout",
          "output_type": "stream",
          "text": [
            "\n",
            "      Epoch    GPU_mem   box_loss   seg_loss   cls_loss   dfl_loss  Instances       Size\n"
          ]
        },
        {
          "name": "stderr",
          "output_type": "stream",
          "text": [
            "      22/75      11.8G     0.6556      1.573      1.001      1.131         95        640: 100%|██████████| 2/2 [00:01<00:00,  1.06it/s]\n",
            "                 Class     Images  Instances      Box(P          R      mAP50  mAP50-95)     Mask(P          R      mAP50  mAP50-95): 100%|██████████| 1/1 [00:00<00:00,  9.42it/s]"
          ]
        },
        {
          "name": "stdout",
          "output_type": "stream",
          "text": [
            "                   all          4          5      0.157      0.667      0.117     0.0327    0.00198        0.5    0.00199   0.000583\n"
          ]
        },
        {
          "name": "stderr",
          "output_type": "stream",
          "text": [
            "\n"
          ]
        },
        {
          "name": "stdout",
          "output_type": "stream",
          "text": [
            "\n",
            "      Epoch    GPU_mem   box_loss   seg_loss   cls_loss   dfl_loss  Instances       Size\n"
          ]
        },
        {
          "name": "stderr",
          "output_type": "stream",
          "text": [
            "      23/75      11.8G     0.5672      1.271     0.8584      1.083         90        640: 100%|██████████| 2/2 [00:01<00:00,  1.03it/s]\n",
            "                 Class     Images  Instances      Box(P          R      mAP50  mAP50-95)     Mask(P          R      mAP50  mAP50-95): 100%|██████████| 1/1 [00:00<00:00,  6.15it/s]"
          ]
        },
        {
          "name": "stdout",
          "output_type": "stream",
          "text": [
            "                   all          4          5    0.00784          1      0.012    0.00364    0.00329      0.667    0.00384    0.00161\n"
          ]
        },
        {
          "name": "stderr",
          "output_type": "stream",
          "text": [
            "\n"
          ]
        },
        {
          "name": "stdout",
          "output_type": "stream",
          "text": [
            "\n",
            "      Epoch    GPU_mem   box_loss   seg_loss   cls_loss   dfl_loss  Instances       Size\n"
          ]
        },
        {
          "name": "stderr",
          "output_type": "stream",
          "text": [
            "      24/75      11.8G     0.5299      1.088     0.6747      1.061         93        640: 100%|██████████| 2/2 [00:01<00:00,  1.07it/s]\n",
            "                 Class     Images  Instances      Box(P          R      mAP50  mAP50-95)     Mask(P          R      mAP50  mAP50-95): 100%|██████████| 1/1 [00:00<00:00,  9.05it/s]"
          ]
        },
        {
          "name": "stdout",
          "output_type": "stream",
          "text": [
            "                   all          4          5    0.00259      0.667    0.00306    0.00187     0.0011       0.25    0.00128    0.00089\n"
          ]
        },
        {
          "name": "stderr",
          "output_type": "stream",
          "text": [
            "\n"
          ]
        },
        {
          "name": "stdout",
          "output_type": "stream",
          "text": [
            "\n",
            "      Epoch    GPU_mem   box_loss   seg_loss   cls_loss   dfl_loss  Instances       Size\n"
          ]
        },
        {
          "name": "stderr",
          "output_type": "stream",
          "text": [
            "      25/75      11.8G     0.5678      1.377     0.8702      1.076         85        640: 100%|██████████| 2/2 [00:01<00:00,  1.08it/s]\n",
            "                 Class     Images  Instances      Box(P          R      mAP50  mAP50-95)     Mask(P          R      mAP50  mAP50-95): 100%|██████████| 1/1 [00:00<00:00,  9.14it/s]"
          ]
        },
        {
          "name": "stdout",
          "output_type": "stream",
          "text": [
            "                   all          4          5     0.0114       0.25     0.0313     0.0226          0          0          0          0\n"
          ]
        },
        {
          "name": "stderr",
          "output_type": "stream",
          "text": [
            "\n"
          ]
        },
        {
          "name": "stdout",
          "output_type": "stream",
          "text": [
            "\n",
            "      Epoch    GPU_mem   box_loss   seg_loss   cls_loss   dfl_loss  Instances       Size\n"
          ]
        },
        {
          "name": "stderr",
          "output_type": "stream",
          "text": [
            "      26/75      11.8G     0.6246      1.365     0.9322      1.077        115        640: 100%|██████████| 2/2 [00:01<00:00,  1.07it/s]\n",
            "                 Class     Images  Instances      Box(P          R      mAP50  mAP50-95)     Mask(P          R      mAP50  mAP50-95): 100%|██████████| 1/1 [00:00<00:00,  9.58it/s]"
          ]
        },
        {
          "name": "stdout",
          "output_type": "stream",
          "text": [
            "                   all          4          5      0.105      0.667      0.144      0.039          0          0          0          0\n"
          ]
        },
        {
          "name": "stderr",
          "output_type": "stream",
          "text": [
            "\n"
          ]
        },
        {
          "name": "stdout",
          "output_type": "stream",
          "text": [
            "\n",
            "      Epoch    GPU_mem   box_loss   seg_loss   cls_loss   dfl_loss  Instances       Size\n"
          ]
        },
        {
          "name": "stderr",
          "output_type": "stream",
          "text": [
            "      27/75      11.8G     0.5883      1.243     0.8798      1.065         82        640: 100%|██████████| 2/2 [00:01<00:00,  1.04it/s]\n",
            "                 Class     Images  Instances      Box(P          R      mAP50  mAP50-95)     Mask(P          R      mAP50  mAP50-95): 100%|██████████| 1/1 [00:00<00:00,  9.80it/s]"
          ]
        },
        {
          "name": "stdout",
          "output_type": "stream",
          "text": [
            "                   all          4          5      0.532        0.5      0.145     0.0548          0          0          0          0\n"
          ]
        },
        {
          "name": "stderr",
          "output_type": "stream",
          "text": [
            "\n"
          ]
        },
        {
          "name": "stdout",
          "output_type": "stream",
          "text": [
            "\n",
            "      Epoch    GPU_mem   box_loss   seg_loss   cls_loss   dfl_loss  Instances       Size\n"
          ]
        },
        {
          "name": "stderr",
          "output_type": "stream",
          "text": [
            "      28/75      11.7G     0.5355     0.8823     0.8259      1.045         84        640: 100%|██████████| 2/2 [00:01<00:00,  1.10it/s]\n",
            "                 Class     Images  Instances      Box(P          R      mAP50  mAP50-95)     Mask(P          R      mAP50  mAP50-95): 100%|██████████| 1/1 [00:00<00:00,  9.49it/s]"
          ]
        },
        {
          "name": "stdout",
          "output_type": "stream",
          "text": [
            "                   all          4          5      0.532        0.5      0.145     0.0548          0          0          0          0\n"
          ]
        },
        {
          "name": "stderr",
          "output_type": "stream",
          "text": [
            "\n"
          ]
        },
        {
          "name": "stdout",
          "output_type": "stream",
          "text": [
            "\n",
            "      Epoch    GPU_mem   box_loss   seg_loss   cls_loss   dfl_loss  Instances       Size\n"
          ]
        },
        {
          "name": "stderr",
          "output_type": "stream",
          "text": [
            "      29/75      11.8G     0.6142     0.9939     0.9093       1.11         73        640: 100%|██████████| 2/2 [00:01<00:00,  1.06it/s]\n",
            "                 Class     Images  Instances      Box(P          R      mAP50  mAP50-95)     Mask(P          R      mAP50  mAP50-95): 100%|██████████| 1/1 [00:00<00:00,  9.62it/s]"
          ]
        },
        {
          "name": "stdout",
          "output_type": "stream",
          "text": [
            "                   all          4          5     0.0187          1      0.111     0.0243     0.0413      0.583      0.139     0.0478\n"
          ]
        },
        {
          "name": "stderr",
          "output_type": "stream",
          "text": [
            "\n"
          ]
        },
        {
          "name": "stdout",
          "output_type": "stream",
          "text": [
            "\n",
            "      Epoch    GPU_mem   box_loss   seg_loss   cls_loss   dfl_loss  Instances       Size\n"
          ]
        },
        {
          "name": "stderr",
          "output_type": "stream",
          "text": [
            "      30/75      11.8G      0.513     0.8845     0.7241      1.018         84        640: 100%|██████████| 2/2 [00:02<00:00,  1.04s/it]\n",
            "                 Class     Images  Instances      Box(P          R      mAP50  mAP50-95)     Mask(P          R      mAP50  mAP50-95): 100%|██████████| 1/1 [00:00<00:00,  5.60it/s]"
          ]
        },
        {
          "name": "stdout",
          "output_type": "stream",
          "text": [
            "                   all          4          5       0.17      0.583      0.259     0.0571       0.17      0.583      0.179     0.0537\n"
          ]
        },
        {
          "name": "stderr",
          "output_type": "stream",
          "text": [
            "\n"
          ]
        },
        {
          "name": "stdout",
          "output_type": "stream",
          "text": [
            "\n",
            "      Epoch    GPU_mem   box_loss   seg_loss   cls_loss   dfl_loss  Instances       Size\n"
          ]
        },
        {
          "name": "stderr",
          "output_type": "stream",
          "text": [
            "      31/75      11.8G     0.5853     0.9994     0.7837      1.042         75        640: 100%|██████████| 2/2 [00:01<00:00,  1.09it/s]\n",
            "                 Class     Images  Instances      Box(P          R      mAP50  mAP50-95)     Mask(P          R      mAP50  mAP50-95): 100%|██████████| 1/1 [00:00<00:00,  9.45it/s]"
          ]
        },
        {
          "name": "stdout",
          "output_type": "stream",
          "text": [
            "                   all          4          5       0.17      0.583      0.259     0.0571       0.17      0.583      0.179     0.0537\n"
          ]
        },
        {
          "name": "stderr",
          "output_type": "stream",
          "text": [
            "\n"
          ]
        },
        {
          "name": "stdout",
          "output_type": "stream",
          "text": [
            "\n",
            "      Epoch    GPU_mem   box_loss   seg_loss   cls_loss   dfl_loss  Instances       Size\n"
          ]
        },
        {
          "name": "stderr",
          "output_type": "stream",
          "text": [
            "      32/75      11.9G     0.6482      1.132     0.7975      1.149         61        640: 100%|██████████| 2/2 [00:01<00:00,  1.03it/s]\n",
            "                 Class     Images  Instances      Box(P          R      mAP50  mAP50-95)     Mask(P          R      mAP50  mAP50-95): 100%|██████████| 1/1 [00:00<00:00,  8.84it/s]"
          ]
        },
        {
          "name": "stdout",
          "output_type": "stream",
          "text": [
            "                   all          4          5     0.0464       0.25     0.0887     0.0133     0.0431      0.667     0.0324     0.0112\n"
          ]
        },
        {
          "name": "stderr",
          "output_type": "stream",
          "text": [
            "\n"
          ]
        },
        {
          "name": "stdout",
          "output_type": "stream",
          "text": [
            "\n",
            "      Epoch    GPU_mem   box_loss   seg_loss   cls_loss   dfl_loss  Instances       Size\n"
          ]
        },
        {
          "name": "stderr",
          "output_type": "stream",
          "text": [
            "      33/75      11.8G     0.5729      1.028     0.7867      1.101         66        640: 100%|██████████| 2/2 [00:01<00:00,  1.05it/s]\n",
            "                 Class     Images  Instances      Box(P          R      mAP50  mAP50-95)     Mask(P          R      mAP50  mAP50-95): 100%|██████████| 1/1 [00:00<00:00,  8.95it/s]"
          ]
        },
        {
          "name": "stdout",
          "output_type": "stream",
          "text": [
            "                   all          4          5      0.664      0.167      0.177      0.105       0.18      0.333      0.245      0.162\n"
          ]
        },
        {
          "name": "stderr",
          "output_type": "stream",
          "text": [
            "\n"
          ]
        },
        {
          "name": "stdout",
          "output_type": "stream",
          "text": [
            "\n",
            "      Epoch    GPU_mem   box_loss   seg_loss   cls_loss   dfl_loss  Instances       Size\n"
          ]
        },
        {
          "name": "stderr",
          "output_type": "stream",
          "text": [
            "      34/75      11.8G      0.528     0.9191     0.6602       1.04         96        640: 100%|██████████| 2/2 [00:01<00:00,  1.00it/s]\n",
            "                 Class     Images  Instances      Box(P          R      mAP50  mAP50-95)     Mask(P          R      mAP50  mAP50-95): 100%|██████████| 1/1 [00:00<00:00,  9.09it/s]"
          ]
        },
        {
          "name": "stdout",
          "output_type": "stream",
          "text": [
            "                   all          4          5      0.664      0.167      0.177      0.105       0.18      0.333      0.245      0.162\n"
          ]
        },
        {
          "name": "stderr",
          "output_type": "stream",
          "text": [
            "\n"
          ]
        },
        {
          "name": "stdout",
          "output_type": "stream",
          "text": [
            "\n",
            "      Epoch    GPU_mem   box_loss   seg_loss   cls_loss   dfl_loss  Instances       Size\n"
          ]
        },
        {
          "name": "stderr",
          "output_type": "stream",
          "text": [
            "      35/75      11.9G     0.5749      1.067     0.7084      1.082         77        640: 100%|██████████| 2/2 [00:01<00:00,  1.06it/s]\n",
            "                 Class     Images  Instances      Box(P          R      mAP50  mAP50-95)     Mask(P          R      mAP50  mAP50-95): 100%|██████████| 1/1 [00:00<00:00,  9.14it/s]"
          ]
        },
        {
          "name": "stdout",
          "output_type": "stream",
          "text": [
            "                   all          4          5      0.698      0.333      0.183      0.152      0.698      0.333      0.184      0.152\n"
          ]
        },
        {
          "name": "stderr",
          "output_type": "stream",
          "text": [
            "\n"
          ]
        },
        {
          "name": "stdout",
          "output_type": "stream",
          "text": [
            "\n",
            "      Epoch    GPU_mem   box_loss   seg_loss   cls_loss   dfl_loss  Instances       Size\n"
          ]
        },
        {
          "name": "stderr",
          "output_type": "stream",
          "text": [
            "      36/75      11.8G     0.5835       1.13     0.7234      1.054         80        640: 100%|██████████| 2/2 [00:01<00:00,  1.03it/s]\n",
            "                 Class     Images  Instances      Box(P          R      mAP50  mAP50-95)     Mask(P          R      mAP50  mAP50-95): 100%|██████████| 1/1 [00:00<00:00,  8.87it/s]"
          ]
        },
        {
          "name": "stdout",
          "output_type": "stream",
          "text": [
            "                   all          4          5      0.423      0.565      0.526      0.264      0.324      0.333      0.292       0.26\n"
          ]
        },
        {
          "name": "stderr",
          "output_type": "stream",
          "text": [
            "\n"
          ]
        },
        {
          "name": "stdout",
          "output_type": "stream",
          "text": [
            "\n",
            "      Epoch    GPU_mem   box_loss   seg_loss   cls_loss   dfl_loss  Instances       Size\n"
          ]
        },
        {
          "name": "stderr",
          "output_type": "stream",
          "text": [
            "      37/75      11.8G     0.5928      1.231     0.8411      1.067         75        640: 100%|██████████| 2/2 [00:02<00:00,  1.02s/it]\n",
            "                 Class     Images  Instances      Box(P          R      mAP50  mAP50-95)     Mask(P          R      mAP50  mAP50-95): 100%|██████████| 1/1 [00:00<00:00,  6.66it/s]\n"
          ]
        },
        {
          "name": "stdout",
          "output_type": "stream",
          "text": [
            "                   all          4          5      0.423      0.565      0.526      0.264      0.324      0.333      0.292       0.26\n",
            "\n",
            "      Epoch    GPU_mem   box_loss   seg_loss   cls_loss   dfl_loss  Instances       Size\n"
          ]
        },
        {
          "name": "stderr",
          "output_type": "stream",
          "text": [
            "      38/75      11.8G      0.538     0.9242     0.6989      1.057         86        640: 100%|██████████| 2/2 [00:01<00:00,  1.03it/s]\n",
            "                 Class     Images  Instances      Box(P          R      mAP50  mAP50-95)     Mask(P          R      mAP50  mAP50-95): 100%|██████████| 1/1 [00:00<00:00,  8.84it/s]"
          ]
        },
        {
          "name": "stdout",
          "output_type": "stream",
          "text": [
            "                   all          4          5       0.27      0.417      0.171      0.116       0.16      0.333      0.139      0.117\n"
          ]
        },
        {
          "name": "stderr",
          "output_type": "stream",
          "text": [
            "\n"
          ]
        },
        {
          "name": "stdout",
          "output_type": "stream",
          "text": [
            "\n",
            "      Epoch    GPU_mem   box_loss   seg_loss   cls_loss   dfl_loss  Instances       Size\n"
          ]
        },
        {
          "name": "stderr",
          "output_type": "stream",
          "text": [
            "      39/75      11.8G     0.5182      0.796     0.6104       1.03         95        640: 100%|██████████| 2/2 [00:01<00:00,  1.01it/s]\n",
            "                 Class     Images  Instances      Box(P          R      mAP50  mAP50-95)     Mask(P          R      mAP50  mAP50-95): 100%|██████████| 1/1 [00:00<00:00,  8.83it/s]"
          ]
        },
        {
          "name": "stdout",
          "output_type": "stream",
          "text": [
            "                   all          4          5      0.161      0.333      0.253      0.136      0.161      0.333      0.235      0.192\n"
          ]
        },
        {
          "name": "stderr",
          "output_type": "stream",
          "text": [
            "\n"
          ]
        },
        {
          "name": "stdout",
          "output_type": "stream",
          "text": [
            "\n",
            "      Epoch    GPU_mem   box_loss   seg_loss   cls_loss   dfl_loss  Instances       Size\n"
          ]
        },
        {
          "name": "stderr",
          "output_type": "stream",
          "text": [
            "      40/75      11.7G     0.5348      0.923     0.6336       1.02         91        640: 100%|██████████| 2/2 [00:01<00:00,  1.05it/s]\n",
            "                 Class     Images  Instances      Box(P          R      mAP50  mAP50-95)     Mask(P          R      mAP50  mAP50-95): 100%|██████████| 1/1 [00:00<00:00,  6.80it/s]\n"
          ]
        },
        {
          "name": "stdout",
          "output_type": "stream",
          "text": [
            "                   all          4          5      0.161      0.333      0.253      0.136      0.161      0.333      0.235      0.192\n",
            "\n",
            "      Epoch    GPU_mem   box_loss   seg_loss   cls_loss   dfl_loss  Instances       Size\n"
          ]
        },
        {
          "name": "stderr",
          "output_type": "stream",
          "text": [
            "      41/75      11.9G     0.5636      1.032     0.6585      1.034         56        640: 100%|██████████| 2/2 [00:01<00:00,  1.01it/s]\n",
            "                 Class     Images  Instances      Box(P          R      mAP50  mAP50-95)     Mask(P          R      mAP50  mAP50-95): 100%|██████████| 1/1 [00:00<00:00,  9.15it/s]"
          ]
        },
        {
          "name": "stdout",
          "output_type": "stream",
          "text": [
            "                   all          4          5      0.226      0.167     0.0951     0.0442      0.226      0.167     0.0854     0.0342\n"
          ]
        },
        {
          "name": "stderr",
          "output_type": "stream",
          "text": [
            "\n"
          ]
        },
        {
          "name": "stdout",
          "output_type": "stream",
          "text": [
            "\n",
            "      Epoch    GPU_mem   box_loss   seg_loss   cls_loss   dfl_loss  Instances       Size\n"
          ]
        },
        {
          "name": "stderr",
          "output_type": "stream",
          "text": [
            "      42/75      11.8G     0.5682     0.9669     0.6279      1.059        114        640: 100%|██████████| 2/2 [00:01<00:00,  1.02it/s]\n",
            "                 Class     Images  Instances      Box(P          R      mAP50  mAP50-95)     Mask(P          R      mAP50  mAP50-95): 100%|██████████| 1/1 [00:00<00:00,  8.96it/s]"
          ]
        },
        {
          "name": "stdout",
          "output_type": "stream",
          "text": [
            "                   all          4          5      0.495      0.833       0.34      0.122      0.495      0.833       0.34       0.12\n"
          ]
        },
        {
          "name": "stderr",
          "output_type": "stream",
          "text": [
            "\n"
          ]
        },
        {
          "name": "stdout",
          "output_type": "stream",
          "text": [
            "\n",
            "      Epoch    GPU_mem   box_loss   seg_loss   cls_loss   dfl_loss  Instances       Size\n"
          ]
        },
        {
          "name": "stderr",
          "output_type": "stream",
          "text": [
            "      43/75      11.8G       0.52      0.891     0.6557      1.065         63        640: 100%|██████████| 2/2 [00:01<00:00,  1.03it/s]\n",
            "                 Class     Images  Instances      Box(P          R      mAP50  mAP50-95)     Mask(P          R      mAP50  mAP50-95): 100%|██████████| 1/1 [00:00<00:00,  9.13it/s]"
          ]
        },
        {
          "name": "stdout",
          "output_type": "stream",
          "text": [
            "                   all          4          5      0.495      0.833       0.34      0.122      0.495      0.833       0.34       0.12\n"
          ]
        },
        {
          "name": "stderr",
          "output_type": "stream",
          "text": [
            "\n"
          ]
        },
        {
          "name": "stdout",
          "output_type": "stream",
          "text": [
            "\n",
            "      Epoch    GPU_mem   box_loss   seg_loss   cls_loss   dfl_loss  Instances       Size\n"
          ]
        },
        {
          "name": "stderr",
          "output_type": "stream",
          "text": [
            "      44/75      11.8G     0.5453     0.8886     0.6745      1.012        105        640: 100%|██████████| 2/2 [00:02<00:00,  1.07s/it]\n",
            "                 Class     Images  Instances      Box(P          R      mAP50  mAP50-95)     Mask(P          R      mAP50  mAP50-95): 100%|██████████| 1/1 [00:00<00:00,  9.02it/s]"
          ]
        },
        {
          "name": "stdout",
          "output_type": "stream",
          "text": [
            "                   all          4          5       0.39      0.667      0.182      0.055       0.39      0.667      0.179     0.0216\n"
          ]
        },
        {
          "name": "stderr",
          "output_type": "stream",
          "text": [
            "\n"
          ]
        },
        {
          "name": "stdout",
          "output_type": "stream",
          "text": [
            "\n",
            "      Epoch    GPU_mem   box_loss   seg_loss   cls_loss   dfl_loss  Instances       Size\n"
          ]
        },
        {
          "name": "stderr",
          "output_type": "stream",
          "text": [
            "      45/75      11.7G     0.5466     0.8116     0.6224      1.087         80        640: 100%|██████████| 2/2 [00:01<00:00,  1.06it/s]\n",
            "                 Class     Images  Instances      Box(P          R      mAP50  mAP50-95)     Mask(P          R      mAP50  mAP50-95): 100%|██████████| 1/1 [00:00<00:00,  9.19it/s]"
          ]
        },
        {
          "name": "stdout",
          "output_type": "stream",
          "text": [
            "                   all          4          5       0.39      0.667      0.182      0.055       0.39      0.667      0.179     0.0216\n"
          ]
        },
        {
          "name": "stderr",
          "output_type": "stream",
          "text": [
            "\n"
          ]
        },
        {
          "name": "stdout",
          "output_type": "stream",
          "text": [
            "\n",
            "      Epoch    GPU_mem   box_loss   seg_loss   cls_loss   dfl_loss  Instances       Size\n"
          ]
        },
        {
          "name": "stderr",
          "output_type": "stream",
          "text": [
            "      46/75      11.8G     0.5694      1.054     0.6574      1.029        107        640: 100%|██████████| 2/2 [00:01<00:00,  1.02it/s]\n",
            "                 Class     Images  Instances      Box(P          R      mAP50  mAP50-95)     Mask(P          R      mAP50  mAP50-95): 100%|██████████| 1/1 [00:00<00:00,  9.27it/s]"
          ]
        },
        {
          "name": "stdout",
          "output_type": "stream",
          "text": [
            "                   all          4          5      0.524        0.5     0.0671     0.0179      0.513        0.5     0.0231     0.0112\n"
          ]
        },
        {
          "name": "stderr",
          "output_type": "stream",
          "text": [
            "\n"
          ]
        },
        {
          "name": "stdout",
          "output_type": "stream",
          "text": [
            "\n",
            "      Epoch    GPU_mem   box_loss   seg_loss   cls_loss   dfl_loss  Instances       Size\n"
          ]
        },
        {
          "name": "stderr",
          "output_type": "stream",
          "text": [
            "      47/75      11.8G      0.524     0.7061     0.5804      1.014         80        640: 100%|██████████| 2/2 [00:01<00:00,  1.06it/s]\n",
            "                 Class     Images  Instances      Box(P          R      mAP50  mAP50-95)     Mask(P          R      mAP50  mAP50-95): 100%|██████████| 1/1 [00:00<00:00,  6.24it/s]"
          ]
        },
        {
          "name": "stdout",
          "output_type": "stream",
          "text": [
            "                   all          4          5      0.524        0.5     0.0671     0.0179      0.513        0.5     0.0231     0.0112\n"
          ]
        },
        {
          "name": "stderr",
          "output_type": "stream",
          "text": [
            "\n"
          ]
        },
        {
          "name": "stdout",
          "output_type": "stream",
          "text": [
            "\n",
            "      Epoch    GPU_mem   box_loss   seg_loss   cls_loss   dfl_loss  Instances       Size\n"
          ]
        },
        {
          "name": "stderr",
          "output_type": "stream",
          "text": [
            "      48/75      11.8G     0.4938     0.8407     0.6427          1         88        640: 100%|██████████| 2/2 [00:01<00:00,  1.03it/s]\n",
            "                 Class     Images  Instances      Box(P          R      mAP50  mAP50-95)     Mask(P          R      mAP50  mAP50-95): 100%|██████████| 1/1 [00:00<00:00,  9.39it/s]"
          ]
        },
        {
          "name": "stdout",
          "output_type": "stream",
          "text": [
            "                   all          4          5      0.517        0.5     0.0541     0.0105      0.517        0.5     0.0475     0.0182\n"
          ]
        },
        {
          "name": "stderr",
          "output_type": "stream",
          "text": [
            "\n"
          ]
        },
        {
          "name": "stdout",
          "output_type": "stream",
          "text": [
            "\n",
            "      Epoch    GPU_mem   box_loss   seg_loss   cls_loss   dfl_loss  Instances       Size\n"
          ]
        },
        {
          "name": "stderr",
          "output_type": "stream",
          "text": [
            "      49/75      11.8G      0.522     0.8114     0.6514      1.035         92        640: 100%|██████████| 2/2 [00:01<00:00,  1.07it/s]\n",
            "                 Class     Images  Instances      Box(P          R      mAP50  mAP50-95)     Mask(P          R      mAP50  mAP50-95): 100%|██████████| 1/1 [00:00<00:00,  8.08it/s]"
          ]
        },
        {
          "name": "stdout",
          "output_type": "stream",
          "text": [
            "                   all          4          5      0.517        0.5     0.0541     0.0105      0.517        0.5     0.0475     0.0182\n"
          ]
        },
        {
          "name": "stderr",
          "output_type": "stream",
          "text": [
            "\n"
          ]
        },
        {
          "name": "stdout",
          "output_type": "stream",
          "text": [
            "\n",
            "      Epoch    GPU_mem   box_loss   seg_loss   cls_loss   dfl_loss  Instances       Size\n"
          ]
        },
        {
          "name": "stderr",
          "output_type": "stream",
          "text": [
            "      50/75      11.8G     0.5058     0.7508     0.6641      1.028         69        640: 100%|██████████| 2/2 [00:01<00:00,  1.04it/s]\n",
            "                 Class     Images  Instances      Box(P          R      mAP50  mAP50-95)     Mask(P          R      mAP50  mAP50-95): 100%|██████████| 1/1 [00:00<00:00,  9.39it/s]"
          ]
        },
        {
          "name": "stdout",
          "output_type": "stream",
          "text": [
            "                   all          4          5      0.516        0.5     0.0541     0.0258      0.516        0.5     0.0319     0.0129\n"
          ]
        },
        {
          "name": "stderr",
          "output_type": "stream",
          "text": [
            "\n"
          ]
        },
        {
          "name": "stdout",
          "output_type": "stream",
          "text": [
            "\n",
            "      Epoch    GPU_mem   box_loss   seg_loss   cls_loss   dfl_loss  Instances       Size\n"
          ]
        },
        {
          "name": "stderr",
          "output_type": "stream",
          "text": [
            "      51/75      11.7G     0.5669      1.046     0.6985       1.06        109        640: 100%|██████████| 2/2 [00:02<00:00,  1.03s/it]\n",
            "                 Class     Images  Instances      Box(P          R      mAP50  mAP50-95)     Mask(P          R      mAP50  mAP50-95): 100%|██████████| 1/1 [00:00<00:00,  9.21it/s]"
          ]
        },
        {
          "name": "stdout",
          "output_type": "stream",
          "text": [
            "                   all          4          5      0.516        0.5     0.0541     0.0258      0.516        0.5     0.0319     0.0129\n"
          ]
        },
        {
          "name": "stderr",
          "output_type": "stream",
          "text": [
            "\n"
          ]
        },
        {
          "name": "stdout",
          "output_type": "stream",
          "text": [
            "\n",
            "      Epoch    GPU_mem   box_loss   seg_loss   cls_loss   dfl_loss  Instances       Size\n"
          ]
        },
        {
          "name": "stderr",
          "output_type": "stream",
          "text": [
            "      52/75      11.8G     0.5443     0.9611     0.5985      1.065        114        640: 100%|██████████| 2/2 [00:01<00:00,  1.05it/s]\n",
            "                 Class     Images  Instances      Box(P          R      mAP50  mAP50-95)     Mask(P          R      mAP50  mAP50-95): 100%|██████████| 1/1 [00:00<00:00,  9.51it/s]"
          ]
        },
        {
          "name": "stdout",
          "output_type": "stream",
          "text": [
            "                   all          4          5     0.0419        0.5     0.0935     0.0617     0.0419        0.5     0.0551     0.0402\n"
          ]
        },
        {
          "name": "stderr",
          "output_type": "stream",
          "text": [
            "\n"
          ]
        },
        {
          "name": "stdout",
          "output_type": "stream",
          "text": [
            "\n",
            "      Epoch    GPU_mem   box_loss   seg_loss   cls_loss   dfl_loss  Instances       Size\n"
          ]
        },
        {
          "name": "stderr",
          "output_type": "stream",
          "text": [
            "      53/75      11.8G     0.4603     0.7773      0.564     0.9819         87        640: 100%|██████████| 2/2 [00:01<00:00,  1.06it/s]\n",
            "                 Class     Images  Instances      Box(P          R      mAP50  mAP50-95)     Mask(P          R      mAP50  mAP50-95): 100%|██████████| 1/1 [00:00<00:00,  9.37it/s]"
          ]
        },
        {
          "name": "stdout",
          "output_type": "stream",
          "text": [
            "                   all          4          5     0.0419        0.5     0.0935     0.0617     0.0419        0.5     0.0551     0.0402\n"
          ]
        },
        {
          "name": "stderr",
          "output_type": "stream",
          "text": [
            "\n"
          ]
        },
        {
          "name": "stdout",
          "output_type": "stream",
          "text": [
            "\n",
            "      Epoch    GPU_mem   box_loss   seg_loss   cls_loss   dfl_loss  Instances       Size\n"
          ]
        },
        {
          "name": "stderr",
          "output_type": "stream",
          "text": [
            "      54/75      11.8G     0.5134     0.7004     0.5638      1.032         91        640: 100%|██████████| 2/2 [00:01<00:00,  1.03it/s]\n",
            "                 Class     Images  Instances      Box(P          R      mAP50  mAP50-95)     Mask(P          R      mAP50  mAP50-95): 100%|██████████| 1/1 [00:00<00:00,  8.15it/s]"
          ]
        },
        {
          "name": "stdout",
          "output_type": "stream",
          "text": [
            "                   all          4          5      0.209      0.667      0.228      0.173      0.651       0.25      0.182      0.159\n"
          ]
        },
        {
          "name": "stderr",
          "output_type": "stream",
          "text": [
            "\n"
          ]
        },
        {
          "name": "stdout",
          "output_type": "stream",
          "text": [
            "\n",
            "      Epoch    GPU_mem   box_loss   seg_loss   cls_loss   dfl_loss  Instances       Size\n"
          ]
        },
        {
          "name": "stderr",
          "output_type": "stream",
          "text": [
            "      55/75      11.8G     0.5041     0.7954     0.6053      1.047         55        640: 100%|██████████| 2/2 [00:01<00:00,  1.06it/s]\n",
            "                 Class     Images  Instances      Box(P          R      mAP50  mAP50-95)     Mask(P          R      mAP50  mAP50-95): 100%|██████████| 1/1 [00:00<00:00,  9.34it/s]"
          ]
        },
        {
          "name": "stdout",
          "output_type": "stream",
          "text": [
            "                   all          4          5      0.209      0.667      0.228      0.173      0.651       0.25      0.182      0.159\n"
          ]
        },
        {
          "name": "stderr",
          "output_type": "stream",
          "text": [
            "\n"
          ]
        },
        {
          "name": "stdout",
          "output_type": "stream",
          "text": [
            "\n",
            "      Epoch    GPU_mem   box_loss   seg_loss   cls_loss   dfl_loss  Instances       Size\n"
          ]
        },
        {
          "name": "stderr",
          "output_type": "stream",
          "text": [
            "      56/75      11.8G      0.472      0.685     0.5558     0.9961         69        640: 100%|██████████| 2/2 [00:01<00:00,  1.05it/s]\n",
            "                 Class     Images  Instances      Box(P          R      mAP50  mAP50-95)     Mask(P          R      mAP50  mAP50-95): 100%|██████████| 1/1 [00:00<00:00,  9.31it/s]"
          ]
        },
        {
          "name": "stdout",
          "output_type": "stream",
          "text": [
            "                   all          4          5      0.316      0.833      0.521      0.462      0.316      0.833      0.481      0.389\n"
          ]
        },
        {
          "name": "stderr",
          "output_type": "stream",
          "text": [
            "\n"
          ]
        },
        {
          "name": "stdout",
          "output_type": "stream",
          "text": [
            "\n",
            "      Epoch    GPU_mem   box_loss   seg_loss   cls_loss   dfl_loss  Instances       Size\n"
          ]
        },
        {
          "name": "stderr",
          "output_type": "stream",
          "text": [
            "      57/75      11.8G     0.4208     0.6643     0.4679     0.9668         87        640: 100%|██████████| 2/2 [00:01<00:00,  1.08it/s]\n",
            "                 Class     Images  Instances      Box(P          R      mAP50  mAP50-95)     Mask(P          R      mAP50  mAP50-95): 100%|██████████| 1/1 [00:00<00:00,  8.92it/s]"
          ]
        },
        {
          "name": "stdout",
          "output_type": "stream",
          "text": [
            "                   all          4          5      0.316      0.833      0.521      0.462      0.316      0.833      0.481      0.389\n"
          ]
        },
        {
          "name": "stderr",
          "output_type": "stream",
          "text": [
            "\n"
          ]
        },
        {
          "name": "stdout",
          "output_type": "stream",
          "text": [
            "\n",
            "      Epoch    GPU_mem   box_loss   seg_loss   cls_loss   dfl_loss  Instances       Size\n"
          ]
        },
        {
          "name": "stderr",
          "output_type": "stream",
          "text": [
            "      58/75      11.8G     0.4124     0.6282     0.4744     0.9531         95        640: 100%|██████████| 2/2 [00:02<00:00,  1.05s/it]\n",
            "                 Class     Images  Instances      Box(P          R      mAP50  mAP50-95)     Mask(P          R      mAP50  mAP50-95): 100%|██████████| 1/1 [00:00<00:00,  9.29it/s]"
          ]
        },
        {
          "name": "stdout",
          "output_type": "stream",
          "text": [
            "                   all          4          5      0.646      0.667       0.49      0.422      0.646      0.667      0.485      0.372\n"
          ]
        },
        {
          "name": "stderr",
          "output_type": "stream",
          "text": [
            "\n"
          ]
        },
        {
          "name": "stdout",
          "output_type": "stream",
          "text": [
            "\n",
            "      Epoch    GPU_mem   box_loss   seg_loss   cls_loss   dfl_loss  Instances       Size\n"
          ]
        },
        {
          "name": "stderr",
          "output_type": "stream",
          "text": [
            "      59/75      11.7G     0.4572     0.6934     0.5329     0.9753         83        640: 100%|██████████| 2/2 [00:01<00:00,  1.06it/s]\n",
            "                 Class     Images  Instances      Box(P          R      mAP50  mAP50-95)     Mask(P          R      mAP50  mAP50-95): 100%|██████████| 1/1 [00:00<00:00,  9.40it/s]"
          ]
        },
        {
          "name": "stdout",
          "output_type": "stream",
          "text": [
            "                   all          4          5      0.646      0.667       0.49      0.422      0.646      0.667      0.485      0.372\n"
          ]
        },
        {
          "name": "stderr",
          "output_type": "stream",
          "text": [
            "\n"
          ]
        },
        {
          "name": "stdout",
          "output_type": "stream",
          "text": [
            "\n",
            "      Epoch    GPU_mem   box_loss   seg_loss   cls_loss   dfl_loss  Instances       Size\n"
          ]
        },
        {
          "name": "stderr",
          "output_type": "stream",
          "text": [
            "      60/75      11.8G     0.4375     0.6771     0.5177     0.9828         95        640: 100%|██████████| 2/2 [00:01<00:00,  1.03it/s]\n",
            "                 Class     Images  Instances      Box(P          R      mAP50  mAP50-95)     Mask(P          R      mAP50  mAP50-95): 100%|██████████| 1/1 [00:00<00:00,  8.96it/s]"
          ]
        },
        {
          "name": "stdout",
          "output_type": "stream",
          "text": [
            "                   all          4          5      0.521      0.805      0.542      0.447      0.521      0.805      0.542      0.495\n"
          ]
        },
        {
          "name": "stderr",
          "output_type": "stream",
          "text": [
            "\n"
          ]
        },
        {
          "name": "stdout",
          "output_type": "stream",
          "text": [
            "\n",
            "      Epoch    GPU_mem   box_loss   seg_loss   cls_loss   dfl_loss  Instances       Size\n"
          ]
        },
        {
          "name": "stderr",
          "output_type": "stream",
          "text": [
            "      61/75      11.8G     0.4227     0.6163     0.5389     0.9591         90        640: 100%|██████████| 2/2 [00:01<00:00,  1.04it/s]\n",
            "                 Class     Images  Instances      Box(P          R      mAP50  mAP50-95)     Mask(P          R      mAP50  mAP50-95): 100%|██████████| 1/1 [00:00<00:00,  8.64it/s]"
          ]
        },
        {
          "name": "stdout",
          "output_type": "stream",
          "text": [
            "                   all          4          5      0.521      0.805      0.542      0.447      0.521      0.805      0.542      0.495\n"
          ]
        },
        {
          "name": "stderr",
          "output_type": "stream",
          "text": [
            "\n"
          ]
        },
        {
          "name": "stdout",
          "output_type": "stream",
          "text": [
            "\n",
            "      Epoch    GPU_mem   box_loss   seg_loss   cls_loss   dfl_loss  Instances       Size\n"
          ]
        },
        {
          "name": "stderr",
          "output_type": "stream",
          "text": [
            "      62/75      11.9G     0.4659     0.8456     0.5422     0.9686        110        640: 100%|██████████| 2/2 [00:01<00:00,  1.03it/s]\n",
            "                 Class     Images  Instances      Box(P          R      mAP50  mAP50-95)     Mask(P          R      mAP50  mAP50-95): 100%|██████████| 1/1 [00:00<00:00,  8.82it/s]"
          ]
        },
        {
          "name": "stdout",
          "output_type": "stream",
          "text": [
            "                   all          4          5       0.52      0.833       0.52       0.45       0.52      0.833       0.52      0.446\n"
          ]
        },
        {
          "name": "stderr",
          "output_type": "stream",
          "text": [
            "\n"
          ]
        },
        {
          "name": "stdout",
          "output_type": "stream",
          "text": [
            "\n",
            "      Epoch    GPU_mem   box_loss   seg_loss   cls_loss   dfl_loss  Instances       Size\n"
          ]
        },
        {
          "name": "stderr",
          "output_type": "stream",
          "text": [
            "      63/75      11.7G     0.4405     0.5786     0.4847     0.9672         82        640: 100%|██████████| 2/2 [00:01<00:00,  1.07it/s]\n",
            "                 Class     Images  Instances      Box(P          R      mAP50  mAP50-95)     Mask(P          R      mAP50  mAP50-95): 100%|██████████| 1/1 [00:00<00:00,  9.24it/s]"
          ]
        },
        {
          "name": "stdout",
          "output_type": "stream",
          "text": [
            "                   all          4          5       0.52      0.833       0.52       0.45       0.52      0.833       0.52      0.446\n"
          ]
        },
        {
          "name": "stderr",
          "output_type": "stream",
          "text": [
            "\n"
          ]
        },
        {
          "name": "stdout",
          "output_type": "stream",
          "text": [
            "\n",
            "      Epoch    GPU_mem   box_loss   seg_loss   cls_loss   dfl_loss  Instances       Size\n"
          ]
        },
        {
          "name": "stderr",
          "output_type": "stream",
          "text": [
            "      64/75      11.9G     0.3979     0.4563     0.4184     0.9787         72        640: 100%|██████████| 2/2 [00:01<00:00,  1.03it/s]\n",
            "                 Class     Images  Instances      Box(P          R      mAP50  mAP50-95)     Mask(P          R      mAP50  mAP50-95): 100%|██████████| 1/1 [00:00<00:00,  9.25it/s]"
          ]
        },
        {
          "name": "stdout",
          "output_type": "stream",
          "text": [
            "                   all          4          5      0.547      0.833      0.671      0.578      0.547      0.833      0.671      0.611\n"
          ]
        },
        {
          "name": "stderr",
          "output_type": "stream",
          "text": [
            "\n"
          ]
        },
        {
          "name": "stdout",
          "output_type": "stream",
          "text": [
            "\n",
            "      Epoch    GPU_mem   box_loss   seg_loss   cls_loss   dfl_loss  Instances       Size\n"
          ]
        },
        {
          "name": "stderr",
          "output_type": "stream",
          "text": [
            "      65/75      11.7G     0.4214     0.5787     0.5159      0.986         95        640: 100%|██████████| 2/2 [00:02<00:00,  1.02s/it]\n",
            "                 Class     Images  Instances      Box(P          R      mAP50  mAP50-95)     Mask(P          R      mAP50  mAP50-95): 100%|██████████| 1/1 [00:00<00:00,  9.21it/s]"
          ]
        },
        {
          "name": "stdout",
          "output_type": "stream",
          "text": [
            "                   all          4          5      0.547      0.833      0.671      0.578      0.547      0.833      0.671      0.611\n"
          ]
        },
        {
          "name": "stderr",
          "output_type": "stream",
          "text": [
            "\n"
          ]
        },
        {
          "name": "stdout",
          "output_type": "stream",
          "text": [
            "Closing dataloader mosaic\n",
            "\u001b[34m\u001b[1malbumentations: \u001b[0mBlur(p=0.01, blur_limit=(3, 7)), MedianBlur(p=0.01, blur_limit=(3, 7)), ToGray(p=0.01, method='weighted_average', num_output_channels=3), CLAHE(p=0.01, clip_limit=(1.0, 4.0), tile_grid_size=(8, 8))\n",
            "\n",
            "      Epoch    GPU_mem   box_loss   seg_loss   cls_loss   dfl_loss  Instances       Size\n"
          ]
        },
        {
          "name": "stderr",
          "output_type": "stream",
          "text": [
            "      66/75      11.7G     0.5604     0.6253     0.6125      1.119         32        640: 100%|██████████| 2/2 [00:02<00:00,  1.24s/it]\n",
            "                 Class     Images  Instances      Box(P          R      mAP50  mAP50-95)     Mask(P          R      mAP50  mAP50-95): 100%|██████████| 1/1 [00:00<00:00,  7.05it/s]\n"
          ]
        },
        {
          "name": "stdout",
          "output_type": "stream",
          "text": [
            "                   all          4          5      0.945      0.984      0.995      0.822      0.945      0.984      0.995      0.925\n",
            "\n",
            "      Epoch    GPU_mem   box_loss   seg_loss   cls_loss   dfl_loss  Instances       Size\n"
          ]
        },
        {
          "name": "stderr",
          "output_type": "stream",
          "text": [
            "      67/75      11.7G     0.3908     0.5091     0.4861     0.9597         31        640: 100%|██████████| 2/2 [00:01<00:00,  1.03it/s]\n",
            "                 Class     Images  Instances      Box(P          R      mAP50  mAP50-95)     Mask(P          R      mAP50  mAP50-95): 100%|██████████| 1/1 [00:00<00:00,  9.44it/s]"
          ]
        },
        {
          "name": "stdout",
          "output_type": "stream",
          "text": [
            "                   all          4          5      0.945      0.984      0.995      0.822      0.945      0.984      0.995      0.925\n"
          ]
        },
        {
          "name": "stderr",
          "output_type": "stream",
          "text": [
            "\n"
          ]
        },
        {
          "name": "stdout",
          "output_type": "stream",
          "text": [
            "\n",
            "      Epoch    GPU_mem   box_loss   seg_loss   cls_loss   dfl_loss  Instances       Size\n"
          ]
        },
        {
          "name": "stderr",
          "output_type": "stream",
          "text": [
            "      68/75      11.7G     0.4376     0.4603     0.5746      1.013         34        640: 100%|██████████| 2/2 [00:01<00:00,  1.00it/s]\n",
            "                 Class     Images  Instances      Box(P          R      mAP50  mAP50-95)     Mask(P          R      mAP50  mAP50-95): 100%|██████████| 1/1 [00:00<00:00,  9.29it/s]"
          ]
        },
        {
          "name": "stdout",
          "output_type": "stream",
          "text": [
            "                   all          4          5      0.968      0.994      0.995        0.9      0.968      0.994      0.995      0.941\n"
          ]
        },
        {
          "name": "stderr",
          "output_type": "stream",
          "text": [
            "\n"
          ]
        },
        {
          "name": "stdout",
          "output_type": "stream",
          "text": [
            "\n",
            "      Epoch    GPU_mem   box_loss   seg_loss   cls_loss   dfl_loss  Instances       Size\n"
          ]
        },
        {
          "name": "stderr",
          "output_type": "stream",
          "text": [
            "      69/75      11.6G     0.3755     0.3775     0.4236     0.9568         35        640: 100%|██████████| 2/2 [00:01<00:00,  1.09it/s]\n",
            "                 Class     Images  Instances      Box(P          R      mAP50  mAP50-95)     Mask(P          R      mAP50  mAP50-95): 100%|██████████| 1/1 [00:00<00:00,  9.00it/s]"
          ]
        },
        {
          "name": "stdout",
          "output_type": "stream",
          "text": [
            "                   all          4          5      0.968      0.994      0.995        0.9      0.968      0.994      0.995      0.941\n"
          ]
        },
        {
          "name": "stderr",
          "output_type": "stream",
          "text": [
            "\n"
          ]
        },
        {
          "name": "stdout",
          "output_type": "stream",
          "text": [
            "\n",
            "      Epoch    GPU_mem   box_loss   seg_loss   cls_loss   dfl_loss  Instances       Size\n"
          ]
        },
        {
          "name": "stderr",
          "output_type": "stream",
          "text": [
            "      70/75      11.7G     0.3193     0.3826     0.4136     0.9423         37        640: 100%|██████████| 2/2 [00:01<00:00,  1.05it/s]\n",
            "                 Class     Images  Instances      Box(P          R      mAP50  mAP50-95)     Mask(P          R      mAP50  mAP50-95): 100%|██████████| 1/1 [00:00<00:00,  7.57it/s]"
          ]
        },
        {
          "name": "stdout",
          "output_type": "stream",
          "text": [
            "                   all          4          5      0.943      0.992      0.995       0.97      0.943      0.992      0.995      0.946\n"
          ]
        },
        {
          "name": "stderr",
          "output_type": "stream",
          "text": [
            "\n"
          ]
        },
        {
          "name": "stdout",
          "output_type": "stream",
          "text": [
            "\n",
            "      Epoch    GPU_mem   box_loss   seg_loss   cls_loss   dfl_loss  Instances       Size\n"
          ]
        },
        {
          "name": "stderr",
          "output_type": "stream",
          "text": [
            "      71/75      11.7G      0.336     0.4419      0.421     0.9196         30        640: 100%|██████████| 2/2 [00:01<00:00,  1.06it/s]\n",
            "                 Class     Images  Instances      Box(P          R      mAP50  mAP50-95)     Mask(P          R      mAP50  mAP50-95): 100%|██████████| 1/1 [00:00<00:00,  8.98it/s]"
          ]
        },
        {
          "name": "stdout",
          "output_type": "stream",
          "text": [
            "                   all          4          5      0.943      0.992      0.995       0.97      0.943      0.992      0.995      0.946\n"
          ]
        },
        {
          "name": "stderr",
          "output_type": "stream",
          "text": [
            "\n"
          ]
        },
        {
          "name": "stdout",
          "output_type": "stream",
          "text": [
            "\n",
            "      Epoch    GPU_mem   box_loss   seg_loss   cls_loss   dfl_loss  Instances       Size\n"
          ]
        },
        {
          "name": "stderr",
          "output_type": "stream",
          "text": [
            "      72/75      11.7G     0.3232     0.3882      0.427     0.8926         43        640: 100%|██████████| 2/2 [00:01<00:00,  1.07it/s]\n",
            "                 Class     Images  Instances      Box(P          R      mAP50  mAP50-95)     Mask(P          R      mAP50  mAP50-95): 100%|██████████| 1/1 [00:00<00:00,  9.14it/s]"
          ]
        },
        {
          "name": "stdout",
          "output_type": "stream",
          "text": [
            "                   all          4          5      0.947      0.999      0.995      0.946      0.947      0.999      0.995      0.937\n"
          ]
        },
        {
          "name": "stderr",
          "output_type": "stream",
          "text": [
            "\n"
          ]
        },
        {
          "name": "stdout",
          "output_type": "stream",
          "text": [
            "\n",
            "      Epoch    GPU_mem   box_loss   seg_loss   cls_loss   dfl_loss  Instances       Size\n"
          ]
        },
        {
          "name": "stderr",
          "output_type": "stream",
          "text": [
            "      73/75      11.6G     0.3078     0.3871     0.4034     0.9006         41        640: 100%|██████████| 2/2 [00:01<00:00,  1.09it/s]\n",
            "                 Class     Images  Instances      Box(P          R      mAP50  mAP50-95)     Mask(P          R      mAP50  mAP50-95): 100%|██████████| 1/1 [00:00<00:00,  9.18it/s]"
          ]
        },
        {
          "name": "stdout",
          "output_type": "stream",
          "text": [
            "                   all          4          5      0.947      0.999      0.995      0.946      0.947      0.999      0.995      0.937\n"
          ]
        },
        {
          "name": "stderr",
          "output_type": "stream",
          "text": [
            "\n"
          ]
        },
        {
          "name": "stdout",
          "output_type": "stream",
          "text": [
            "\n",
            "      Epoch    GPU_mem   box_loss   seg_loss   cls_loss   dfl_loss  Instances       Size\n"
          ]
        },
        {
          "name": "stderr",
          "output_type": "stream",
          "text": [
            "      74/75      11.7G     0.3006     0.3457      0.383     0.9447         28        640: 100%|██████████| 2/2 [00:01<00:00,  1.02it/s]\n",
            "                 Class     Images  Instances      Box(P          R      mAP50  mAP50-95)     Mask(P          R      mAP50  mAP50-95): 100%|██████████| 1/1 [00:00<00:00,  9.39it/s]"
          ]
        },
        {
          "name": "stdout",
          "output_type": "stream",
          "text": [
            "                   all          4          5      0.956          1      0.995      0.955      0.956          1      0.995      0.941\n"
          ]
        },
        {
          "name": "stderr",
          "output_type": "stream",
          "text": [
            "\n"
          ]
        },
        {
          "name": "stdout",
          "output_type": "stream",
          "text": [
            "\n",
            "      Epoch    GPU_mem   box_loss   seg_loss   cls_loss   dfl_loss  Instances       Size\n"
          ]
        },
        {
          "name": "stderr",
          "output_type": "stream",
          "text": [
            "      75/75      11.6G     0.2919     0.3668     0.3442     0.9204         34        640: 100%|██████████| 2/2 [00:01<00:00,  1.09it/s]\n",
            "                 Class     Images  Instances      Box(P          R      mAP50  mAP50-95)     Mask(P          R      mAP50  mAP50-95): 100%|██████████| 1/1 [00:00<00:00,  7.97it/s]"
          ]
        },
        {
          "name": "stdout",
          "output_type": "stream",
          "text": [
            "                   all          4          5      0.956          1      0.995      0.955      0.956          1      0.995      0.941\n"
          ]
        },
        {
          "name": "stderr",
          "output_type": "stream",
          "text": [
            "\n"
          ]
        },
        {
          "name": "stdout",
          "output_type": "stream",
          "text": [
            "\n",
            "75 epochs completed in 0.077 hours.\n",
            "Optimizer stripped from runs/segment/fruit_yolo_training/weights/last.pt, 55.8MB\n",
            "Optimizer stripped from runs/segment/fruit_yolo_training/weights/best.pt, 55.8MB\n",
            "\n",
            "Validating runs/segment/fruit_yolo_training/weights/best.pt...\n",
            "Ultralytics 8.3.139 🚀 Python-3.11.12 torch-2.6.0+cu124 CUDA:0 (Tesla T4, 15095MiB)\n",
            "YOLO11l-seg summary (fused): 203 layers, 27,586,134 parameters, 0 gradients, 141.9 GFLOPs\n"
          ]
        },
        {
          "name": "stderr",
          "output_type": "stream",
          "text": [
            "\r                 Class     Images  Instances      Box(P          R      mAP50  mAP50-95)     Mask(P          R      mAP50  mAP50-95):   0%|          | 0/1 [00:00<?, ?it/s]"
          ]
        },
        {
          "name": "stdout",
          "output_type": "stream",
          "text": [
            "WARNING ⚠️ Limiting validation plots to first 50 items per image for speed...\n",
            "WARNING ⚠️ Limiting validation plots to first 50 items per image for speed...\n",
            "WARNING ⚠️ Limiting validation plots to first 50 items per image for speed...\n",
            "WARNING ⚠️ Limiting validation plots to first 50 items per image for speed...\n"
          ]
        },
        {
          "name": "stderr",
          "output_type": "stream",
          "text": [
            "                 Class     Images  Instances      Box(P          R      mAP50  mAP50-95)     Mask(P          R      mAP50  mAP50-95): 100%|██████████| 1/1 [00:00<00:00,  8.57it/s]\n"
          ]
        },
        {
          "name": "stdout",
          "output_type": "stream",
          "text": [
            "                   all          4          5      0.943      0.992      0.995       0.97      0.943      0.992      0.995      0.946\n",
            "                 apple          2          3          1      0.984      0.995      0.946          1      0.984      0.995      0.946\n",
            "                banana          2          2      0.885          1      0.995      0.995      0.885          1      0.995      0.945\n",
            "Speed: 0.3ms preprocess, 17.0ms inference, 0.0ms loss, 1.5ms postprocess per image\n",
            "Results saved to \u001b[1mruns/segment/fruit_yolo_training\u001b[0m\n",
            "✅ YOLO model trained and saved to: /content/runs/segment/fruit_yolo_training/weights/best.pt\n",
            "🔍 Extracting object crops and features...\n",
            "\n",
            "image 1/1 /content/Fruits_Dataset/images/train/d2fb34d3-banana_36.jpg: 640x640 1 banana, 60.8ms\n",
            "Speed: 2.6ms preprocess, 60.8ms inference, 12.8ms postprocess per image at shape (1, 3, 640, 640)\n",
            "\n",
            "image 1/1 /content/Fruits_Dataset/images/train/71ce2af0-apple_7.jpg: 352x640 9 apples, 59.1ms\n",
            "Speed: 2.4ms preprocess, 59.1ms inference, 2.6ms postprocess per image at shape (1, 3, 352, 640)\n",
            "\n",
            "image 1/1 /content/Fruits_Dataset/images/train/060dca69-apple_6.jpg: 448x640 3 apples, 56.5ms\n",
            "Speed: 1.8ms preprocess, 56.5ms inference, 2.5ms postprocess per image at shape (1, 3, 448, 640)\n",
            "\n",
            "image 1/1 /content/Fruits_Dataset/images/train/33d7d546-apple_4.jpg: 352x640 5 apples, 28.8ms\n",
            "Speed: 2.1ms preprocess, 28.8ms inference, 2.5ms postprocess per image at shape (1, 3, 352, 640)\n",
            "\n",
            "image 1/1 /content/Fruits_Dataset/images/train/ba7220b6-banana_49.jpg: 640x640 1 banana, 42.5ms\n",
            "Speed: 3.7ms preprocess, 42.5ms inference, 2.4ms postprocess per image at shape (1, 3, 640, 640)\n",
            "\n",
            "image 1/1 /content/Fruits_Dataset/images/train/d05a497a-apple_21.jpg: 512x640 1 apple, 60.9ms\n",
            "Speed: 2.2ms preprocess, 60.9ms inference, 2.8ms postprocess per image at shape (1, 3, 512, 640)\n",
            "\n",
            "image 1/1 /content/Fruits_Dataset/images/train/0deaf6e2-apple_3.jpg: 384x640 1 apple, 56.5ms\n",
            "Speed: 1.8ms preprocess, 56.5ms inference, 2.2ms postprocess per image at shape (1, 3, 384, 640)\n",
            "\n",
            "image 1/1 /content/Fruits_Dataset/images/train/fa2d8022-bananas-fruits-that-come-herbaceous-600nw-2552818301.webp: 640x640 1 banana, 39.6ms\n",
            "Speed: 3.2ms preprocess, 39.6ms inference, 2.2ms postprocess per image at shape (1, 3, 640, 640)\n",
            "\n",
            "image 1/1 /content/Fruits_Dataset/images/train/9f3e0f40-banana_28.jpg: 640x640 1 apple, 2 bananas, 37.4ms\n",
            "Speed: 3.0ms preprocess, 37.4ms inference, 2.6ms postprocess per image at shape (1, 3, 640, 640)\n",
            "\n",
            "image 1/1 /content/Fruits_Dataset/images/train/c0ec49c8-apple_8.jpg: 576x640 1 apple, 59.4ms\n",
            "Speed: 2.2ms preprocess, 59.4ms inference, 2.2ms postprocess per image at shape (1, 3, 576, 640)\n",
            "\n",
            "image 1/1 /content/Fruits_Dataset/images/train/ed434936-How_To_Freeze_Bananas_023-71e81efacb6a4d87a3596b8c2c519884.jpg: 448x640 5 bananas, 23.2ms\n",
            "Speed: 2.3ms preprocess, 23.2ms inference, 2.4ms postprocess per image at shape (1, 3, 448, 640)\n",
            "\n",
            "image 1/1 /content/Fruits_Dataset/images/train/5fde7256-download_2.jpeg: 640x608 5 bananas, 57.6ms\n",
            "Speed: 3.1ms preprocess, 57.6ms inference, 2.3ms postprocess per image at shape (1, 3, 640, 608)\n",
            "\n",
            "image 1/1 /content/Fruits_Dataset/images/train/4628403d-apple_10.jpg: 480x640 5 apples, 57.0ms\n",
            "Speed: 1.7ms preprocess, 57.0ms inference, 2.3ms postprocess per image at shape (1, 3, 480, 640)\n",
            "\n",
            "image 1/1 /content/Fruits_Dataset/images/train/df45a427-apple_1.jpg: 640x640 1 apple, 31.6ms\n",
            "Speed: 3.3ms preprocess, 31.6ms inference, 2.1ms postprocess per image at shape (1, 3, 640, 640)\n",
            "\n",
            "image 1/1 /content/Fruits_Dataset/images/train/60501549-banana_40.jpg: 640x640 2 bananas, 34.9ms\n",
            "Speed: 3.0ms preprocess, 34.9ms inference, 2.3ms postprocess per image at shape (1, 3, 640, 640)\n",
            "\n",
            "image 1/1 /content/Fruits_Dataset/images/train/46dc3772-banana_33.jpg: 640x640 1 apple, 36.6ms\n",
            "Speed: 3.7ms preprocess, 36.6ms inference, 2.3ms postprocess per image at shape (1, 3, 640, 640)\n",
            "\n",
            "image 1/1 /content/Fruits_Dataset/images/train/6d3413e8-apple_9.jpg: 640x640 1 apple, 33.8ms\n",
            "Speed: 2.8ms preprocess, 33.8ms inference, 2.2ms postprocess per image at shape (1, 3, 640, 640)\n",
            "\n",
            "image 1/1 /content/Fruits_Dataset/images/train/afb773e2-bananas-mc-221004-02-3ddd88.jpg: 416x640 4 bananas, 57.3ms\n",
            "Speed: 2.2ms preprocess, 57.3ms inference, 2.5ms postprocess per image at shape (1, 3, 416, 640)\n",
            "\n",
            "image 1/1 /content/Fruits_Dataset/images/train/cae960bf-banana_29.jpg: 640x640 1 banana, 29.5ms\n",
            "Speed: 3.7ms preprocess, 29.5ms inference, 2.3ms postprocess per image at shape (1, 3, 640, 640)\n",
            "\n",
            "image 1/1 /content/Fruits_Dataset/images/train/e99fa299-apple_5.jpg: 448x640 5 apples, 26.3ms\n",
            "Speed: 1.9ms preprocess, 26.3ms inference, 2.2ms postprocess per image at shape (1, 3, 448, 640)\n",
            "\n",
            "image 1/1 /content/Fruits_Dataset/images/train/f1ba8f92-banana_45.jpg: 640x640 1 banana, 33.3ms\n",
            "Speed: 3.2ms preprocess, 33.3ms inference, 2.1ms postprocess per image at shape (1, 3, 640, 640)\n",
            "\n",
            "image 1/1 /content/Fruits_Dataset/images/train/cd846992-apple_2.jpg: 512x640 1 apple, 30.4ms\n",
            "Speed: 3.3ms preprocess, 30.4ms inference, 3.4ms postprocess per image at shape (1, 3, 512, 640)\n",
            "\n",
            "image 1/1 /content/Fruits_Dataset/images/train/82082129-apple_16.jpg: 512x640 3 apples, 29.5ms\n",
            "Speed: 2.2ms preprocess, 29.5ms inference, 3.8ms postprocess per image at shape (1, 3, 512, 640)\n",
            "\n",
            "image 1/1 /content/Fruits_Dataset/images/train/c9ad0610-banana_37.jpg: 640x640 1 banana, 31.2ms\n",
            "Speed: 3.6ms preprocess, 31.2ms inference, 2.2ms postprocess per image at shape (1, 3, 640, 640)\n",
            "\n",
            "image 1/1 /content/Fruits_Dataset/images/train/769606c0-apple_11.jpg: 640x640 1 apple, 34.4ms\n",
            "Speed: 3.6ms preprocess, 34.4ms inference, 2.5ms postprocess per image at shape (1, 3, 640, 640)\n",
            "\n",
            "image 1/1 /content/Fruits_Dataset/images/train/f7ddd3ff-banana_44.jpg: 640x640 1 banana, 33.5ms\n",
            "Speed: 4.6ms preprocess, 33.5ms inference, 2.4ms postprocess per image at shape (1, 3, 640, 640)\n",
            "\n",
            "image 1/1 /content/Fruits_Dataset/images/train/258f2ecb-apple_15.jpg: 640x544 1 apple, 61.3ms\n",
            "Speed: 2.9ms preprocess, 61.3ms inference, 2.5ms postprocess per image at shape (1, 3, 640, 544)\n",
            "\n",
            "image 1/1 /content/Fruits_Dataset/images/train/03955da6-download_1.jpeg: 448x640 1 apple, 23.6ms\n",
            "Speed: 2.6ms preprocess, 23.6ms inference, 2.8ms postprocess per image at shape (1, 3, 448, 640)\n",
            "\n",
            "image 1/1 /content/Fruits_Dataset/images/train/848b426f-apple_17.jpg: 288x640 3 apples, 67.8ms\n",
            "Speed: 1.3ms preprocess, 67.8ms inference, 2.5ms postprocess per image at shape (1, 3, 288, 640)\n",
            "\n",
            "image 1/1 /content/Fruits_Dataset/images/train/98a48283-banana_47.jpg: 640x640 1 banana, 30.3ms\n",
            "Speed: 4.0ms preprocess, 30.3ms inference, 2.2ms postprocess per image at shape (1, 3, 640, 640)\n",
            "\n",
            "image 1/1 /content/Fruits_Dataset/images/train/f3fc5f32-apple_18.jpg: 640x640 1 apple, 33.4ms\n",
            "Speed: 3.2ms preprocess, 33.4ms inference, 3.3ms postprocess per image at shape (1, 3, 640, 640)\n",
            "\n",
            "image 1/1 /content/Fruits_Dataset/images/train/e75557e2-apple_20.jpg: 640x640 1 apple, 34.3ms\n",
            "Speed: 3.4ms preprocess, 34.3ms inference, 2.2ms postprocess per image at shape (1, 3, 640, 640)\n",
            "\n",
            "image 1/1 /content/Fruits_Dataset/images/val/58f55406-banana_30.jpg: 640x640 1 banana, 34.7ms\n",
            "Speed: 3.6ms preprocess, 34.7ms inference, 2.2ms postprocess per image at shape (1, 3, 640, 640)\n",
            "\n",
            "image 1/1 /content/Fruits_Dataset/images/val/2b196056-apple_22.jpg: 448x640 2 apples, 26.2ms\n",
            "Speed: 4.1ms preprocess, 26.2ms inference, 2.4ms postprocess per image at shape (1, 3, 448, 640)\n",
            "\n",
            "image 1/1 /content/Fruits_Dataset/images/val/14ce52fe-apple_19.jpg: 608x640 1 apple, 69.7ms\n",
            "Speed: 6.1ms preprocess, 69.7ms inference, 2.3ms postprocess per image at shape (1, 3, 608, 640)\n",
            "\n",
            "image 1/1 /content/Fruits_Dataset/images/val/d5ae9bee-banana_41.jpg: 640x640 1 banana, 31.8ms\n",
            "Speed: 3.7ms preprocess, 31.8ms inference, 2.1ms postprocess per image at shape (1, 3, 640, 640)\n",
            "\n",
            "image 1/1 /content/Fruits_Dataset/images/test/0fdfd4a5-pngtree-banana-yellow-fruit-banana-skewers-png-image_5944324.jpeg: 384x640 5 bananas, 24.7ms\n",
            "Speed: 1.5ms preprocess, 24.7ms inference, 2.4ms postprocess per image at shape (1, 3, 384, 640)\n",
            "\n",
            "image 1/1 /content/Fruits_Dataset/images/test/e0f3c760-banana_42.jpg: 640x640 1 banana, 31.7ms\n",
            "Speed: 3.3ms preprocess, 31.7ms inference, 2.1ms postprocess per image at shape (1, 3, 640, 640)\n",
            "\n",
            "image 1/1 /content/Fruits_Dataset/images/test/9a9fcd93-apple_12.jpg: 608x640 1 apple, 35.0ms\n",
            "Speed: 2.5ms preprocess, 35.0ms inference, 2.5ms postprocess per image at shape (1, 3, 608, 640)\n",
            "\n",
            "image 1/1 /content/Fruits_Dataset/images/test/aaed0808-banana_46.jpg: 640x640 2 bananas, 33.7ms\n",
            "Speed: 3.8ms preprocess, 33.7ms inference, 2.2ms postprocess per image at shape (1, 3, 640, 640)\n",
            "✅ Regression dataset created with 73 samples.\n",
            "📦 Training feature-based regressor...\n",
            "🚀 Training GradientBoostingRegressor...\n",
            "✅ Feature regressor saved to: regression_data/feature_regressor.pkl\n",
            "\n",
            "📊 Final Evaluation:\n",
            "MAE: 6.17g\n",
            "R² : 0.4302\n"
          ]
        },
        {
          "data": {
            "image/png": "[encoded data removed]",
            "text/plain": [
              "<Figure size 600x500 with 1 Axes>"
            ]
          },
          "metadata": {},
          "output_type": "display_data"
        },
        {
          "name": "stdout",
          "output_type": "stream",
          "text": [
            "📈 Prediction plot saved to: regression_data/feature_regression_plot.png\n",
            "🎉 Full pipeline complete!\n"
          ]
        }
      ],
      "source": [
        "import os\n",
        "import cv2\n",
        "import torch\n",
        "import pandas as pd\n",
        "import numpy as np\n",
        "from pathlib import Path\n",
        "from ultralytics import YOLO\n",
        "from sklearn.ensemble import GradientBoostingRegressor\n",
        "from sklearn.model_selection import train_test_split\n",
        "from sklearn.metrics import mean_absolute_error, r2_score\n",
        "import joblib\n",
        "import matplotlib.pyplot as plt\n",
        "\n",
        "# ----------------- CONFIG -----------------\n",
        "SPLIT_DIR = \"Data/ruits_Dataset\"\n",
        "REG_DATA_DIR = \"regression_data\"\n",
        "MODEL_NAME = \"yolo11l-seg.pt\"\n",
        "YOLO_MODEL_SAVE = \"runs/segment/fruit_yolo_training/weights/best.pt\"\n",
        "REGRESSOR_MODEL_SAVE = f\"{REG_DATA_DIR}/feature_regressor.pkl\"\n",
        "PLOT_PATH = f\"{REG_DATA_DIR}/feature_regression_plot.png\"\n",
        "WEIGHTS_CSV = \"Data/weights.csv\"\n",
        "DATA_YAML = f\"{SPLIT_DIR}/fruit_data.yaml\"\n",
        "IMG_SIZE = 224\n",
        "YOLO_EPOCHS = 75\n",
        "CONF_THRESHOLD = 0.25\n",
        "\n",
        "\n",
        "# ----------------- STEP 1: TRAIN YOLOv11 -----------------\n",
        "def train_yolo():\n",
        "    if not os.path.exists(MODEL_NAME) or os.path.getsize(MODEL_NAME) < 10_000_000:\n",
        "        print(f\"⬇️ Downloading f{MODEL_NAME}...\")\n",
        "        YOLO(MODEL_NAME)  # triggers download\n",
        "    model = YOLO(MODEL_NAME)\n",
        "    model.train(data=DATA_YAML, epochs=YOLO_EPOCHS, imgsz=640, name=\"fruit_yolo_training\", task=\"segment\")\n",
        "    print(f\"✅ YOLO model trained and saved to: {YOLO_MODEL_SAVE}\")\n",
        "\n",
        "# ----------------- STEP 2: EXTRACT REGRESSION DATA -----------------\n",
        "def extract_regression_data():\n",
        "    os.makedirs(f\"{REG_DATA_DIR}/crops\", exist_ok=True)\n",
        "    weights_df = pd.read_csv(WEIGHTS_CSV)\n",
        "    model = YOLO(YOLO_MODEL_SAVE)\n",
        "\n",
        "    def get_weight(img_name, obj_id):\n",
        "        match = weights_df[(weights_df[\"image_name\"] == img_name) & (weights_df[\"object_id\"] == obj_id)]\n",
        "        return float(match[\"weight\"].values[0]) if not match.empty else None\n",
        "\n",
        "    all_rows = []\n",
        "    for split in [\"train\", \"val\", \"test\"]:\n",
        "        img_dir = f\"{SPLIT_DIR}/images/{split}\"\n",
        "        for img_name in os.listdir(img_dir):\n",
        "            if not img_name.lower().endswith(('.jpg', '.jpeg', '.png', '.webp')):\n",
        "                continue\n",
        "\n",
        "            img_path = os.path.join(img_dir, img_name)\n",
        "            img = cv2.imread(img_path)\n",
        "            if img is None:\n",
        "                continue\n",
        "\n",
        "            results = model(img_path, conf=CONF_THRESHOLD)[0]\n",
        "            boxes = results.boxes.xyxy.cpu().numpy() if results.boxes else []\n",
        "            masks = results.masks.data.cpu().numpy() if results.masks else []\n",
        "            class_ids = results.boxes.cls.cpu().numpy().astype(int) if results.boxes else []\n",
        "\n",
        "            for obj_id, (cls_id, box, mask) in enumerate(zip(class_ids, boxes, masks)):\n",
        "                x1, y1, x2, y2 = map(int, box)\n",
        "                crop = img[y1:y2, x1:x2]\n",
        "                if crop is None or crop.shape[0] == 0 or crop.shape[1] == 0:\n",
        "                    continue\n",
        "\n",
        "                mask_full = (mask * 255).astype(np.uint8)\n",
        "                mask_crop = mask_full[y1:y2, x1:x2]\n",
        "                if mask_crop.shape[:2] != crop.shape[:2]:\n",
        "                    try:\n",
        "                        mask_crop = cv2.resize(mask_crop, (crop.shape[1], crop.shape[0]), interpolation=cv2.INTER_NEAREST)\n",
        "                    except:\n",
        "                        continue\n",
        "\n",
        "                if mask_crop.shape[:2] != crop.shape[:2]:\n",
        "                    continue\n",
        "\n",
        "                masked_crop = cv2.bitwise_and(crop, crop, mask=mask_crop)\n",
        "                weight = get_weight(img_name, obj_id)\n",
        "                if weight is None:\n",
        "                    continue\n",
        "\n",
        "                crop_name = f\"{Path(img_name).stem}_obj_{obj_id}_{model.names[cls_id]}.jpg\"\n",
        "                crop_path = f\"{REG_DATA_DIR}/crops/{crop_name}\"\n",
        "                cv2.imwrite(crop_path, masked_crop)\n",
        "\n",
        "                mask_area = int(np.count_nonzero(mask_crop))\n",
        "                bbox_width = x2 - x1\n",
        "                bbox_height = y2 - y1\n",
        "\n",
        "                all_rows.append({\n",
        "                    \"image_name\": img_name,\n",
        "                    \"object_id\": obj_id,\n",
        "                    \"class\": model.names[cls_id],\n",
        "                    \"crop_path\": crop_path,\n",
        "                    \"weight\": weight,\n",
        "                    \"mask_area\": mask_area,\n",
        "                    \"bbox_width\": bbox_width,\n",
        "                    \"bbox_height\": bbox_height\n",
        "                })\n",
        "\n",
        "    df = pd.DataFrame(all_rows)\n",
        "    df.to_csv(f\"{REG_DATA_DIR}/regression_dataset.csv\", index=False)\n",
        "    print(f\"✅ Regression dataset created with {len(df)} samples.\")\n",
        "\n",
        "# ----------------- STEP 3: TRAIN FEATURE REGRESSOR -----------------\n",
        "def train_feature_regressor():\n",
        "    df = pd.read_csv(f\"{REG_DATA_DIR}/regression_dataset.csv\")\n",
        "\n",
        "    required_cols = [\"mask_area\", \"bbox_width\", \"bbox_height\", \"weight\"]\n",
        "    for col in required_cols:\n",
        "        if col not in df.columns:\n",
        "            raise ValueError(f\"❌ Column missing: {col}\")\n",
        "\n",
        "    X = df[[\"mask_area\", \"bbox_width\", \"bbox_height\"]]\n",
        "    y = df[\"weight\"]\n",
        "\n",
        "    X_train, X_val, y_train, y_val = train_test_split(X, y, test_size=0.2, random_state=42)\n",
        "\n",
        "    print(\"🚀 Training GradientBoostingRegressor...\")\n",
        "    model = GradientBoostingRegressor(\n",
        "        n_estimators=300,\n",
        "        learning_rate=0.05,\n",
        "        max_depth=4,\n",
        "        random_state=42\n",
        "    )\n",
        "    model.fit(X_train, y_train)\n",
        "\n",
        "    y_pred = model.predict(X_val)\n",
        "    mae = mean_absolute_error(y_val, y_pred)\n",
        "    r2 = r2_score(y_val, y_pred)\n",
        "\n",
        "    joblib.dump(model, REGRESSOR_MODEL_SAVE)\n",
        "    print(f\"✅ Feature regressor saved to: {REGRESSOR_MODEL_SAVE}\")\n",
        "\n",
        "    print(\"\\n📊 Final Evaluation:\")\n",
        "    print(f\"MAE: {mae:.2f}g\")\n",
        "    print(f\"R² : {r2:.4f}\")\n",
        "\n",
        "    # Plot\n",
        "    plt.figure(figsize=(6, 5))\n",
        "    plt.scatter(y_val, y_pred, alpha=0.6)\n",
        "    plt.plot([y.min(), y.max()], [y.min(), y.max()], 'r--', label=\"Ideal\")\n",
        "    plt.xlabel(\"Actual Weight (g)\")\n",
        "    plt.ylabel(\"Predicted Weight (g)\")\n",
        "    plt.title(\"Feature Regressor Prediction\")\n",
        "    plt.legend()\n",
        "    plt.grid(True)\n",
        "    plt.tight_layout()\n",
        "    plt.savefig(PLOT_PATH)\n",
        "    plt.show()\n",
        "    print(f\"📈 Prediction plot saved to: {PLOT_PATH}\")\n",
        "\n",
        "# ----------------- RUN EVERYTHING -----------------\n",
        "def run_full_training_pipeline():\n",
        "    print(\"🚀 Training YOLOv11 segmentation model...\")\n",
        "    train_yolo()\n",
        "    print(\"🔍 Extracting object crops and features...\")\n",
        "    extract_regression_data()\n",
        "    print(\"📦 Training feature-based regressor...\")\n",
        "    train_feature_regressor()\n",
        "    print(\"🎉 Full pipeline complete!\")\n",
        "\n",
        "if __name__ == \"__main__\":\n",
        "    run_full_training_pipeline()"
      ]
    },
    {
      "cell_type": "markdown",
      "metadata": {
        "id": "DI-ewYVoMFYV"
      },
      "source": [
        "# YOLOv11 + GradientBoostingRegressor Unified Inference Pipeline"
      ]
    },
    {
      "cell_type": "code",
      "execution_count": null,
      "metadata": {
        "colab": {
          "base_uri": "https://localhost:8080/"
        },
        "id": "EdxKffGrHBDe",
        "outputId": "91e7aea1-710d-4972-f98d-99fb46c04c73"
      },
      "outputs": [
        {
          "name": "stdout",
          "output_type": "stream",
          "text": [
            "🔄 Loading YOLOv11 model...\n",
            "🔄 Loading feature-based regressor...\n",
            "🔄 Loading weights.csv...\n",
            "🚀 Running inference on test images...\n",
            "\n",
            "image 1/1 /content/Fruits_Dataset/images/test/0fdfd4a5-pngtree-banana-yellow-fruit-banana-skewers-png-image_5944324.jpeg: 384x640 5 bananas, 80.7ms\n",
            "Speed: 4.7ms preprocess, 80.7ms inference, 4.7ms postprocess per image at shape (1, 3, 384, 640)\n",
            "\n",
            "image 1/1 /content/Fruits_Dataset/images/test/e0f3c760-banana_42.jpg: 640x640 1 banana, 62.7ms\n",
            "Speed: 3.9ms preprocess, 62.7ms inference, 3.2ms postprocess per image at shape (1, 3, 640, 640)\n",
            "\n",
            "image 1/1 /content/Fruits_Dataset/images/test/9a9fcd93-apple_12.jpg: 608x640 1 apple, 59.0ms\n",
            "Speed: 4.0ms preprocess, 59.0ms inference, 3.7ms postprocess per image at shape (1, 3, 608, 640)\n",
            "\n"
          ]
        },
        {
          "name": "stderr",
          "output_type": "stream",
          "text": [
            "/usr/local/lib/python3.11/dist-packages/sklearn/utils/validation.py:2739: UserWarning: X does not have valid feature names, but GradientBoostingRegressor was fitted with feature names\n",
            "  warnings.warn(\n",
            "/usr/local/lib/python3.11/dist-packages/sklearn/utils/validation.py:2739: UserWarning: X does not have valid feature names, but GradientBoostingRegressor was fitted with feature names\n",
            "  warnings.warn(\n",
            "/usr/local/lib/python3.11/dist-packages/sklearn/utils/validation.py:2739: UserWarning: X does not have valid feature names, but GradientBoostingRegressor was fitted with feature names\n",
            "  warnings.warn(\n",
            "/usr/local/lib/python3.11/dist-packages/sklearn/utils/validation.py:2739: UserWarning: X does not have valid feature names, but GradientBoostingRegressor was fitted with feature names\n",
            "  warnings.warn(\n",
            "/usr/local/lib/python3.11/dist-packages/sklearn/utils/validation.py:2739: UserWarning: X does not have valid feature names, but GradientBoostingRegressor was fitted with feature names\n",
            "  warnings.warn(\n",
            "/usr/local/lib/python3.11/dist-packages/sklearn/utils/validation.py:2739: UserWarning: X does not have valid feature names, but GradientBoostingRegressor was fitted with feature names\n",
            "  warnings.warn(\n",
            "/usr/local/lib/python3.11/dist-packages/sklearn/utils/validation.py:2739: UserWarning: X does not have valid feature names, but GradientBoostingRegressor was fitted with feature names\n",
            "  warnings.warn(\n"
          ]
        },
        {
          "name": "stdout",
          "output_type": "stream",
          "text": [
            "image 1/1 /content/Fruits_Dataset/images/test/aaed0808-banana_46.jpg: 640x640 2 bananas, 49.9ms\n",
            "Speed: 3.5ms preprocess, 49.9ms inference, 3.0ms postprocess per image at shape (1, 3, 640, 640)\n",
            "\n",
            "✅ Prediction results saved to: regression_data/feature_regression_results/feature_predictions.csv\n",
            "\n",
            "📊 Evaluation on Test Set:\n",
            "MAE: 1.22g\n",
            "R²:  0.1720\n"
          ]
        },
        {
          "name": "stderr",
          "output_type": "stream",
          "text": [
            "/usr/local/lib/python3.11/dist-packages/sklearn/utils/validation.py:2739: UserWarning: X does not have valid feature names, but GradientBoostingRegressor was fitted with feature names\n",
            "  warnings.warn(\n",
            "/usr/local/lib/python3.11/dist-packages/sklearn/utils/validation.py:2739: UserWarning: X does not have valid feature names, but GradientBoostingRegressor was fitted with feature names\n",
            "  warnings.warn(\n"
          ]
        }
      ],
      "source": [
        "import os\n",
        "import cv2\n",
        "import numpy as np\n",
        "import pandas as pd\n",
        "import joblib\n",
        "from pathlib import Path\n",
        "from ultralytics import YOLO\n",
        "from sklearn.metrics import mean_absolute_error, r2_score\n",
        "\n",
        "# ---------------- CONFIG ----------------\n",
        "IMAGE_DIR = \"Data/Fruits_Dataset/images/test\"\n",
        "YOLO_MODEL_PATH = \"runs/segment/fruit_yolo_training/weights/best.pt\"\n",
        "REGRESSOR_MODEL_PATH = \"regression_data/feature_regressor.pkl\"\n",
        "WEIGHTS_CSV = \"Data/weights.csv\"\n",
        "OUTPUT_DIR = \"regression_data/feature_regression_results\"\n",
        "CONF_THRESHOLD = 0.25\n",
        "\n",
        "os.makedirs(OUTPUT_DIR, exist_ok=True)\n",
        "\n",
        "# ---------------- LOAD MODELS ----------------\n",
        "print(\"🔄 Loading YOLOv11 model...\")\n",
        "yolo_model = YOLO(YOLO_MODEL_PATH)\n",
        "print(\"🔄 Loading feature-based regressor...\")\n",
        "regressor = joblib.load(REGRESSOR_MODEL_PATH)\n",
        "\n",
        "# ---------------- LOAD GROUND TRUTH ----------------\n",
        "print(\"🔄 Loading weights.csv...\")\n",
        "gt_df = pd.read_csv(WEIGHTS_CSV)\n",
        "gt_lookup = {\n",
        "    (row[\"image_name\"], row[\"object_id\"]): row[\"weight\"]\n",
        "    for _, row in gt_df.iterrows()\n",
        "}\n",
        "\n",
        "# ---------------- INFERENCE ----------------\n",
        "results_list = []\n",
        "predictions, actuals = [], []\n",
        "\n",
        "def draw_prediction(image, box, label, color=(0, 255, 0)):\n",
        "    x1, y1, x2, y2 = map(int, box)\n",
        "    cv2.rectangle(image, (x1, y1), (x2, y2), color, 2)\n",
        "    cv2.putText(image, label, (x1, y1 - 10),\n",
        "                cv2.FONT_HERSHEY_SIMPLEX, 0.6, color, 2)\n",
        "\n",
        "def run_inference():\n",
        "    print(\"🚀 Running inference on test images...\")\n",
        "    for img_name in os.listdir(IMAGE_DIR):\n",
        "        if not img_name.lower().endswith(('.jpg', '.jpeg', '.png', '.webp')):\n",
        "            continue\n",
        "\n",
        "        img_path = os.path.join(IMAGE_DIR, img_name)\n",
        "        image = cv2.imread(img_path)\n",
        "        if image is None:\n",
        "            continue\n",
        "        overlay = image.copy()\n",
        "\n",
        "        results = yolo_model(img_path, conf=CONF_THRESHOLD)[0]\n",
        "        boxes = results.boxes.xyxy.cpu().numpy() if results.boxes else []\n",
        "        masks = results.masks.data.cpu().numpy() if results.masks else []\n",
        "        class_ids = results.boxes.cls.cpu().numpy().astype(int) if results.boxes else []\n",
        "\n",
        "        for obj_id, (cls_id, box, mask) in enumerate(zip(class_ids, boxes, masks)):\n",
        "            x1, y1, x2, y2 = map(int, box)\n",
        "            class_name = yolo_model.names[cls_id]\n",
        "\n",
        "            mask_full = (mask * 255).astype(np.uint8)\n",
        "            mask_crop = mask_full[y1:y2, x1:x2]\n",
        "\n",
        "            if mask_crop.shape[0] == 0 or mask_crop.shape[1] == 0:\n",
        "                continue\n",
        "\n",
        "            mask_area = int(np.count_nonzero(mask_crop))\n",
        "            bbox_width = x2 - x1\n",
        "            bbox_height = y2 - y1\n",
        "\n",
        "            # Predict weight\n",
        "            features = np.array([[mask_area, bbox_width, bbox_height]])\n",
        "            pred_weight = regressor.predict(features)[0]\n",
        "\n",
        "            # Lookup GT\n",
        "            gt_key = (img_name, obj_id)\n",
        "            gt_weight = gt_lookup.get(gt_key)\n",
        "            if gt_weight is None:\n",
        "                continue\n",
        "\n",
        "            predictions.append(pred_weight)\n",
        "            actuals.append(gt_weight)\n",
        "\n",
        "            error = abs(pred_weight - gt_weight)\n",
        "            color = (0, 255, 0) if error < 10 else (0, 0, 255)\n",
        "\n",
        "            label = f\"{class_name}: {pred_weight:.1f}g\"\n",
        "            draw_prediction(overlay, box, label, color)\n",
        "\n",
        "            results_list.append({\n",
        "                \"image_name\": img_name,\n",
        "                \"object_id\": obj_id,\n",
        "                \"class\": class_name,\n",
        "                \"predicted_weight\": round(pred_weight, 2),\n",
        "                \"actual_weight\": round(gt_weight, 2),\n",
        "                \"abs_error\": round(error, 2)\n",
        "            })\n",
        "\n",
        "        # Save annotated image\n",
        "        out_path = os.path.join(OUTPUT_DIR, f\"{Path(img_name).stem}_result.jpg\")\n",
        "        cv2.imwrite(out_path, overlay)\n",
        "\n",
        "    # Save results\n",
        "    df = pd.DataFrame(results_list)\n",
        "    csv_out = os.path.join(OUTPUT_DIR, \"feature_predictions.csv\")\n",
        "    df.to_csv(csv_out, index=False)\n",
        "    print(f\"\\n✅ Prediction results saved to: {csv_out}\")\n",
        "\n",
        "    # Evaluation\n",
        "    mae = mean_absolute_error(actuals, predictions)\n",
        "    r2 = r2_score(actuals, predictions)\n",
        "    print(\"\\n📊 Evaluation on Test Set:\")\n",
        "    print(f\"MAE: {mae:.2f}g\")\n",
        "    print(f\"R²:  {r2:.4f}\")\n",
        "\n",
        "# ---------------- ENTRY POINT ----------------\n",
        "if __name__ == \"__main__\":\n",
        "    run_inference()"
      ]
    },
    {
      "cell_type": "markdown",
      "metadata": {
        "id": "gih0AOYfO0TG"
      },
      "source": [
        "## Inference on new images"
      ]
    },
    {
      "cell_type": "code",
      "execution_count": null,
      "metadata": {
        "colab": {
          "base_uri": "https://localhost:8080/"
        },
        "id": "gI3FKB9FMQpI",
        "outputId": "74844334-74d6-475c-e760-f0cbdffacf50"
      },
      "outputs": [
        {
          "name": "stdout",
          "output_type": "stream",
          "text": [
            "🔄 Loading YOLO model and regressor...\n",
            "📂 Found 1 image(s)\n",
            "\n",
            "image 1/1 /content/apple_78.jpg: 448x640 27 apples, 17 bananas, 47.3ms\n",
            "Speed: 3.7ms preprocess, 47.3ms inference, 4.1ms postprocess per image at shape (1, 3, 448, 640)\n",
            "✅ Saved: inference_outputs/apple_78_predicted.jpg\n"
          ]
        },
        {
          "name": "stderr",
          "output_type": "stream",
          "text": [
            "/usr/local/lib/python3.11/dist-packages/sklearn/utils/validation.py:2739: UserWarning: X does not have valid feature names, but GradientBoostingRegressor was fitted with feature names\n",
            "  warnings.warn(\n",
            "/usr/local/lib/python3.11/dist-packages/sklearn/utils/validation.py:2739: UserWarning: X does not have valid feature names, but GradientBoostingRegressor was fitted with feature names\n",
            "  warnings.warn(\n",
            "/usr/local/lib/python3.11/dist-packages/sklearn/utils/validation.py:2739: UserWarning: X does not have valid feature names, but GradientBoostingRegressor was fitted with feature names\n",
            "  warnings.warn(\n",
            "/usr/local/lib/python3.11/dist-packages/sklearn/utils/validation.py:2739: UserWarning: X does not have valid feature names, but GradientBoostingRegressor was fitted with feature names\n",
            "  warnings.warn(\n",
            "/usr/local/lib/python3.11/dist-packages/sklearn/utils/validation.py:2739: UserWarning: X does not have valid feature names, but GradientBoostingRegressor was fitted with feature names\n",
            "  warnings.warn(\n",
            "/usr/local/lib/python3.11/dist-packages/sklearn/utils/validation.py:2739: UserWarning: X does not have valid feature names, but GradientBoostingRegressor was fitted with feature names\n",
            "  warnings.warn(\n",
            "/usr/local/lib/python3.11/dist-packages/sklearn/utils/validation.py:2739: UserWarning: X does not have valid feature names, but GradientBoostingRegressor was fitted with feature names\n",
            "  warnings.warn(\n",
            "/usr/local/lib/python3.11/dist-packages/sklearn/utils/validation.py:2739: UserWarning: X does not have valid feature names, but GradientBoostingRegressor was fitted with feature names\n",
            "  warnings.warn(\n",
            "/usr/local/lib/python3.11/dist-packages/sklearn/utils/validation.py:2739: UserWarning: X does not have valid feature names, but GradientBoostingRegressor was fitted with feature names\n",
            "  warnings.warn(\n",
            "/usr/local/lib/python3.11/dist-packages/sklearn/utils/validation.py:2739: UserWarning: X does not have valid feature names, but GradientBoostingRegressor was fitted with feature names\n",
            "  warnings.warn(\n",
            "/usr/local/lib/python3.11/dist-packages/sklearn/utils/validation.py:2739: UserWarning: X does not have valid feature names, but GradientBoostingRegressor was fitted with feature names\n",
            "  warnings.warn(\n",
            "/usr/local/lib/python3.11/dist-packages/sklearn/utils/validation.py:2739: UserWarning: X does not have valid feature names, but GradientBoostingRegressor was fitted with feature names\n",
            "  warnings.warn(\n",
            "/usr/local/lib/python3.11/dist-packages/sklearn/utils/validation.py:2739: UserWarning: X does not have valid feature names, but GradientBoostingRegressor was fitted with feature names\n",
            "  warnings.warn(\n",
            "/usr/local/lib/python3.11/dist-packages/sklearn/utils/validation.py:2739: UserWarning: X does not have valid feature names, but GradientBoostingRegressor was fitted with feature names\n",
            "  warnings.warn(\n",
            "/usr/local/lib/python3.11/dist-packages/sklearn/utils/validation.py:2739: UserWarning: X does not have valid feature names, but GradientBoostingRegressor was fitted with feature names\n",
            "  warnings.warn(\n",
            "/usr/local/lib/python3.11/dist-packages/sklearn/utils/validation.py:2739: UserWarning: X does not have valid feature names, but GradientBoostingRegressor was fitted with feature names\n",
            "  warnings.warn(\n",
            "/usr/local/lib/python3.11/dist-packages/sklearn/utils/validation.py:2739: UserWarning: X does not have valid feature names, but GradientBoostingRegressor was fitted with feature names\n",
            "  warnings.warn(\n",
            "/usr/local/lib/python3.11/dist-packages/sklearn/utils/validation.py:2739: UserWarning: X does not have valid feature names, but GradientBoostingRegressor was fitted with feature names\n",
            "  warnings.warn(\n",
            "/usr/local/lib/python3.11/dist-packages/sklearn/utils/validation.py:2739: UserWarning: X does not have valid feature names, but GradientBoostingRegressor was fitted with feature names\n",
            "  warnings.warn(\n"
          ]
        }
      ],
      "source": [
        "import os\n",
        "import cv2\n",
        "import numpy as np\n",
        "import joblib\n",
        "from pathlib import Path\n",
        "from ultralytics import YOLO\n",
        "\n",
        "# ---------------- CONFIG ----------------\n",
        "YOLO_MODEL_PATH = \"runs/segment/fruit_yolo_training/weights/best.pt\"\n",
        "REGRESSOR_MODEL_PATH = \"regression_data/feature_regressor.pkl\"\n",
        "OUTPUT_DIR = \"inference_outputs\"\n",
        "CONF_THRESHOLD = 0.25\n",
        "\n",
        "# 🔧 HARD-CODED INPUT (change this as needed)\n",
        "INPUT_PATH = \"image.jpg\"  # Can be a single image or folder\n",
        "\n",
        "# Create output directory\n",
        "os.makedirs(OUTPUT_DIR, exist_ok=True)\n",
        "\n",
        "# ---------------- HELPERS ----------------\n",
        "def draw_prediction(image, box, label, color=(0, 255, 0)):\n",
        "    x1, y1, x2, y2 = map(int, box)\n",
        "    cv2.rectangle(image, (x1, y1), (x2, y2), color, 2)\n",
        "    cv2.putText(image, label, (x1, y1 - 10),\n",
        "                cv2.FONT_HERSHEY_SIMPLEX, 0.6, color, 2)\n",
        "\n",
        "def is_image_file(f):\n",
        "    return f.lower().endswith(('.jpg', '.jpeg', '.png', '.webp'))\n",
        "\n",
        "# ---------------- INFERENCE ----------------\n",
        "def run_inference():\n",
        "    # Load models\n",
        "    print(\"🔄 Loading YOLO model and regressor...\")\n",
        "    yolo = YOLO(YOLO_MODEL_PATH)\n",
        "    regressor = joblib.load(REGRESSOR_MODEL_PATH)\n",
        "\n",
        "    # Handle image(s)\n",
        "    if os.path.isfile(INPUT_PATH) and is_image_file(INPUT_PATH):\n",
        "        image_paths = [INPUT_PATH]\n",
        "    elif os.path.isdir(INPUT_PATH):\n",
        "        image_paths = [\n",
        "            os.path.join(INPUT_PATH, f) for f in os.listdir(INPUT_PATH) if is_image_file(f)\n",
        "        ]\n",
        "    else:\n",
        "        raise ValueError(\"❌ INPUT_PATH must be a valid image file or directory.\")\n",
        "\n",
        "    print(f\"📂 Found {len(image_paths)} image(s)\")\n",
        "\n",
        "    for img_path in image_paths:\n",
        "        image = cv2.imread(img_path)\n",
        "        if image is None:\n",
        "            print(f\"⚠️ Could not read {img_path}\")\n",
        "            continue\n",
        "\n",
        "        overlay = image.copy()\n",
        "        results = yolo(img_path, conf=CONF_THRESHOLD)[0]\n",
        "\n",
        "        boxes = results.boxes.xyxy.cpu().numpy() if results.boxes else []\n",
        "        masks = results.masks.data.cpu().numpy() if results.masks else []\n",
        "        class_ids = results.boxes.cls.cpu().numpy().astype(int) if results.boxes else []\n",
        "\n",
        "        for obj_id, (cls_id, box, mask) in enumerate(zip(class_ids, boxes, masks)):\n",
        "            x1, y1, x2, y2 = map(int, box)\n",
        "            class_name = yolo.names[cls_id]\n",
        "\n",
        "            mask_full = (mask * 255).astype(np.uint8)\n",
        "            mask_crop = mask_full[y1:y2, x1:x2]\n",
        "            if mask_crop.shape[0] == 0 or mask_crop.shape[1] == 0:\n",
        "                continue\n",
        "\n",
        "            mask_area = int(np.count_nonzero(mask_crop))\n",
        "            bbox_width = x2 - x1\n",
        "            bbox_height = y2 - y1\n",
        "\n",
        "            features = np.array([[mask_area, bbox_width, bbox_height]])\n",
        "            pred_weight = regressor.predict(features)[0]\n",
        "\n",
        "            label = f\"{class_name}: {pred_weight:.1f}g\"\n",
        "            draw_prediction(overlay, box, label)\n",
        "\n",
        "        out_path = os.path.join(\n",
        "            OUTPUT_DIR, f\"{Path(img_path).stem}_predicted.jpg\")\n",
        "        cv2.imwrite(out_path, overlay)\n",
        "        print(f\"✅ Saved: {out_path}\")\n",
        "\n",
        "# ---------------- MAIN ----------------\n",
        "if __name__ == \"__main__\":\n",
        "    run_inference()"
      ]
    },
    {
      "cell_type": "code",
      "execution_count": null,
      "metadata": {
        "id": "_DjxJV0MPnqH"
      },
      "outputs": [],
      "source": []
    }
  ],
  "metadata": {
    "accelerator": "GPU",
    "colab": {
      "gpuType": "T4",
      "provenance": [],
      "toc_visible": true
    },
    "kernelspec": {
      "display_name": "Python 3",
      "name": "python3"
    },
    "language_info": {
      "name": "python"
    }
  },
  "nbformat": 4,
  "nbformat_minor": 0
}
